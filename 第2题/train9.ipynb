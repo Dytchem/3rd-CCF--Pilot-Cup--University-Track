{
 "cells": [
  {
   "cell_type": "code",
   "execution_count": 1,
   "id": "590792a5-cddf-4a5d-aaef-da554f16ab4c",
   "metadata": {
    "editable": false,
    "slideshow": {
     "slide_type": ""
    },
    "tags": []
   },
   "outputs": [],
   "source": [
    "from utils import *\n",
    "import numpy as np\n",
    "import matplotlib.pyplot as plt\n",
    "import pyqpanda as pq\n",
    "import pyvqnet as pv\n",
    "import random\n",
    "\n",
    "%matplotlib inline"
   ]
  },
  {
   "cell_type": "code",
   "execution_count": 2,
   "id": "00d0bd95-484a-4e3d-b491-677e8a0ec9e1",
   "metadata": {
    "editable": false,
    "slideshow": {
     "slide_type": ""
    },
    "tags": []
   },
   "outputs": [],
   "source": [
    "train_data = Dataset(\n",
    "    \"data/cifar-10-batches-py/data_batch_1\",\n",
    "    \"data/cifar-10-batches-py/data_batch_2\",\n",
    "    \"data/cifar-10-batches-py/data_batch_3\",\n",
    "    \"data/cifar-10-batches-py/data_batch_4\",\n",
    "    \"data/cifar-10-batches-py/data_batch_5\",\n",
    ")\n",
    "train_data.enhance()\n",
    "test_data = Dataset(\"data/cifar-10-batches-py/test_batch\")"
   ]
  },
  {
   "cell_type": "code",
   "execution_count": 3,
   "id": "87bb597e-1bd2-4614-96c0-d0d9096bdcf5",
   "metadata": {
    "editable": true,
    "slideshow": {
     "slide_type": ""
    },
    "tags": []
   },
   "outputs": [],
   "source": [
    "class Model(pv.nn.module.Module):\n",
    "    def __init__(self):\n",
    "        super(Model, self).__init__()\n",
    "        self.conv1 = pv.nn.Conv2D(3, 32, (3, 3))\n",
    "        self.norm1 = pv.nn.BatchNorm2d(32)\n",
    "        self.conv2 = pv.nn.Conv2D(32, 32, (3, 3))\n",
    "        self.norm2 = pv.nn.BatchNorm2d(32)\n",
    "        self.pool2 = pv.nn.MaxPool2D((2, 2), (2, 2))\n",
    "        self.li = pv.nn.Linear(32 * 14 * 14, 10)\n",
    "\n",
    "    def forward(self, x):\n",
    "        x = self.conv1(x)\n",
    "        x = self.norm1(x)\n",
    "        x = self.conv2(x)\n",
    "        x = self.norm2(x)\n",
    "        x = self.pool2(x)\n",
    "        # print(x.shape)\n",
    "        x = pv.tensor.flatten(x, 1)\n",
    "        x = self.li(x)\n",
    "        return x"
   ]
  },
  {
   "cell_type": "code",
   "execution_count": 4,
   "id": "fc0cda54-098f-4397-8eef-7faa6d382d70",
   "metadata": {
    "editable": true,
    "slideshow": {
     "slide_type": ""
    },
    "tags": []
   },
   "outputs": [
    {
     "name": "stdout",
     "output_type": "stream",
     "text": [
      "73002\n"
     ]
    }
   ],
   "source": [
    "epoch = 100\n",
    "batch = 16\n",
    "holdout = 10000\n",
    "\n",
    "model = Model()\n",
    "print(sum(p.numel() for p in model.parameters()))"
   ]
  },
  {
   "cell_type": "code",
   "execution_count": 5,
   "id": "a295ff97-6006-46b0-90e1-a09a8f953469",
   "metadata": {
    "editable": true,
    "scrolled": true,
    "slideshow": {
     "slide_type": ""
    },
    "tags": []
   },
   "outputs": [
    {
     "name": "stdout",
     "output_type": "stream",
     "text": [
      "epoch 1/100 \t batch 1600/90000 \t loss 5.25 \t accuracy 0.31\n",
      "epoch 1/100 \t batch 3200/90000 \t loss 1.98 \t accuracy 0.31\n",
      "epoch 1/100 \t batch 4800/90000 \t loss 1.92 \t accuracy 0.44\n",
      "epoch 1/100 \t batch 6400/90000 \t loss 1.63 \t accuracy 0.56\n",
      "epoch 1/100 \t batch 8000/90000 \t loss 1.65 \t accuracy 0.44\n",
      "epoch 1/100 \t batch 9600/90000 \t loss 1.60 \t accuracy 0.38\n",
      "epoch 1/100 \t batch 11200/90000 \t loss 1.72 \t accuracy 0.38\n",
      "epoch 1/100 \t batch 12800/90000 \t loss 1.54 \t accuracy 0.31\n",
      "epoch 1/100 \t batch 14400/90000 \t loss 2.20 \t accuracy 0.25\n",
      "epoch 1/100 \t batch 16000/90000 \t loss 1.89 \t accuracy 0.25\n",
      "epoch 1/100 \t batch 17600/90000 \t loss 1.79 \t accuracy 0.38\n",
      "epoch 1/100 \t batch 19200/90000 \t loss 1.68 \t accuracy 0.56\n",
      "epoch 1/100 \t batch 20800/90000 \t loss 1.73 \t accuracy 0.19\n",
      "epoch 1/100 \t batch 22400/90000 \t loss 2.42 \t accuracy 0.12\n",
      "epoch 1/100 \t batch 24000/90000 \t loss 1.84 \t accuracy 0.38\n",
      "epoch 1/100 \t batch 25600/90000 \t loss 1.55 \t accuracy 0.50\n",
      "epoch 1/100 \t batch 27200/90000 \t loss 1.49 \t accuracy 0.50\n",
      "epoch 1/100 \t batch 28800/90000 \t loss 2.16 \t accuracy 0.25\n",
      "epoch 1/100 \t batch 30400/90000 \t loss 1.60 \t accuracy 0.50\n",
      "epoch 1/100 \t batch 32000/90000 \t loss 1.73 \t accuracy 0.38\n",
      "epoch 1/100 \t batch 33600/90000 \t loss 1.47 \t accuracy 0.44\n",
      "epoch 1/100 \t batch 35200/90000 \t loss 1.41 \t accuracy 0.56\n",
      "epoch 1/100 \t batch 36800/90000 \t loss 1.36 \t accuracy 0.44\n",
      "epoch 1/100 \t batch 38400/90000 \t loss 1.50 \t accuracy 0.38\n",
      "epoch 1/100 \t batch 40000/90000 \t loss 1.95 \t accuracy 0.25\n",
      "epoch 1/100 \t batch 41600/90000 \t loss 2.27 \t accuracy 0.19\n",
      "epoch 1/100 \t batch 43200/90000 \t loss 1.30 \t accuracy 0.62\n",
      "epoch 1/100 \t batch 44800/90000 \t loss 1.92 \t accuracy 0.38\n",
      "epoch 1/100 \t batch 46400/90000 \t loss 2.40 \t accuracy 0.25\n",
      "epoch 1/100 \t batch 48000/90000 \t loss 1.67 \t accuracy 0.44\n",
      "epoch 1/100 \t batch 49600/90000 \t loss 1.89 \t accuracy 0.38\n",
      "epoch 1/100 \t batch 51200/90000 \t loss 1.91 \t accuracy 0.44\n",
      "epoch 1/100 \t batch 52800/90000 \t loss 1.69 \t accuracy 0.38\n",
      "epoch 1/100 \t batch 54400/90000 \t loss 1.51 \t accuracy 0.81\n",
      "epoch 1/100 \t batch 56000/90000 \t loss 1.94 \t accuracy 0.44\n",
      "epoch 1/100 \t batch 57600/90000 \t loss 0.97 \t accuracy 0.62\n",
      "epoch 1/100 \t batch 59200/90000 \t loss 0.95 \t accuracy 0.69\n",
      "epoch 1/100 \t batch 60800/90000 \t loss 1.17 \t accuracy 0.50\n",
      "epoch 1/100 \t batch 62400/90000 \t loss 1.21 \t accuracy 0.50\n",
      "epoch 1/100 \t batch 64000/90000 \t loss 0.88 \t accuracy 0.75\n",
      "epoch 1/100 \t batch 65600/90000 \t loss 1.53 \t accuracy 0.62\n",
      "epoch 1/100 \t batch 67200/90000 \t loss 0.86 \t accuracy 0.75\n",
      "epoch 1/100 \t batch 68800/90000 \t loss 1.69 \t accuracy 0.44\n",
      "epoch 1/100 \t batch 70400/90000 \t loss 1.35 \t accuracy 0.44\n",
      "epoch 1/100 \t batch 72000/90000 \t loss 2.22 \t accuracy 0.56\n",
      "epoch 1/100 \t batch 73600/90000 \t loss 1.15 \t accuracy 0.62\n",
      "epoch 1/100 \t batch 75200/90000 \t loss 1.57 \t accuracy 0.50\n",
      "epoch 1/100 \t batch 76800/90000 \t loss 1.95 \t accuracy 0.38\n",
      "epoch 1/100 \t batch 78400/90000 \t loss 1.54 \t accuracy 0.50\n",
      "epoch 1/100 \t batch 80000/90000 \t loss 1.98 \t accuracy 0.44\n",
      "epoch 1/100 \t batch 81600/90000 \t loss 1.36 \t accuracy 0.50\n",
      "epoch 1/100 \t batch 83200/90000 \t loss 1.17 \t accuracy 0.62\n",
      "epoch 1/100 \t batch 84800/90000 \t loss 1.21 \t accuracy 0.50\n",
      "epoch 1/100 \t batch 86400/90000 \t loss 1.35 \t accuracy 0.44\n",
      "epoch 1/100 \t batch 88000/90000 \t loss 1.47 \t accuracy 0.50\n",
      "epoch 1/100 \t batch 89600/90000 \t loss 1.60 \t accuracy 0.44\n",
      "********** train: epoch 1/100 \t accuracy 44.14% **********\n",
      "********** test: epoch 1/100 \t accuracy 49.38% **********\n",
      "epoch 2/100 \t batch 1600/90000 \t loss 1.47 \t accuracy 0.56\n",
      "epoch 2/100 \t batch 3200/90000 \t loss 1.94 \t accuracy 0.31\n",
      "epoch 2/100 \t batch 4800/90000 \t loss 1.07 \t accuracy 0.62\n",
      "epoch 2/100 \t batch 6400/90000 \t loss 0.82 \t accuracy 0.62\n",
      "epoch 2/100 \t batch 8000/90000 \t loss 1.27 \t accuracy 0.62\n",
      "epoch 2/100 \t batch 9600/90000 \t loss 2.38 \t accuracy 0.44\n",
      "epoch 2/100 \t batch 11200/90000 \t loss 1.69 \t accuracy 0.44\n",
      "epoch 2/100 \t batch 12800/90000 \t loss 1.81 \t accuracy 0.31\n",
      "epoch 2/100 \t batch 14400/90000 \t loss 1.14 \t accuracy 0.62\n",
      "epoch 2/100 \t batch 16000/90000 \t loss 1.03 \t accuracy 0.62\n",
      "epoch 2/100 \t batch 17600/90000 \t loss 1.70 \t accuracy 0.44\n",
      "epoch 2/100 \t batch 19200/90000 \t loss 0.94 \t accuracy 0.62\n",
      "epoch 2/100 \t batch 20800/90000 \t loss 0.67 \t accuracy 0.69\n",
      "epoch 2/100 \t batch 22400/90000 \t loss 1.27 \t accuracy 0.56\n",
      "epoch 2/100 \t batch 24000/90000 \t loss 2.10 \t accuracy 0.44\n",
      "epoch 2/100 \t batch 25600/90000 \t loss 1.93 \t accuracy 0.50\n",
      "epoch 2/100 \t batch 27200/90000 \t loss 1.28 \t accuracy 0.50\n",
      "epoch 2/100 \t batch 28800/90000 \t loss 1.98 \t accuracy 0.44\n",
      "epoch 2/100 \t batch 30400/90000 \t loss 1.91 \t accuracy 0.50\n",
      "epoch 2/100 \t batch 32000/90000 \t loss 2.44 \t accuracy 0.44\n",
      "epoch 2/100 \t batch 33600/90000 \t loss 1.45 \t accuracy 0.56\n",
      "epoch 2/100 \t batch 35200/90000 \t loss 1.92 \t accuracy 0.50\n",
      "epoch 2/100 \t batch 36800/90000 \t loss 1.03 \t accuracy 0.62\n",
      "epoch 2/100 \t batch 38400/90000 \t loss 1.06 \t accuracy 0.62\n",
      "epoch 2/100 \t batch 40000/90000 \t loss 1.74 \t accuracy 0.56\n",
      "epoch 2/100 \t batch 41600/90000 \t loss 1.29 \t accuracy 0.56\n",
      "epoch 2/100 \t batch 43200/90000 \t loss 1.33 \t accuracy 0.44\n",
      "epoch 2/100 \t batch 44800/90000 \t loss 1.37 \t accuracy 0.56\n",
      "epoch 2/100 \t batch 46400/90000 \t loss 1.33 \t accuracy 0.50\n",
      "epoch 2/100 \t batch 48000/90000 \t loss 0.82 \t accuracy 0.62\n",
      "epoch 2/100 \t batch 49600/90000 \t loss 2.05 \t accuracy 0.38\n",
      "epoch 2/100 \t batch 51200/90000 \t loss 1.57 \t accuracy 0.69\n",
      "epoch 2/100 \t batch 52800/90000 \t loss 1.46 \t accuracy 0.44\n",
      "epoch 2/100 \t batch 54400/90000 \t loss 1.19 \t accuracy 0.50\n",
      "epoch 2/100 \t batch 56000/90000 \t loss 1.56 \t accuracy 0.56\n",
      "epoch 2/100 \t batch 57600/90000 \t loss 1.36 \t accuracy 0.38\n",
      "epoch 2/100 \t batch 59200/90000 \t loss 1.22 \t accuracy 0.56\n",
      "epoch 2/100 \t batch 60800/90000 \t loss 1.27 \t accuracy 0.50\n",
      "epoch 2/100 \t batch 62400/90000 \t loss 1.47 \t accuracy 0.44\n",
      "epoch 2/100 \t batch 64000/90000 \t loss 1.55 \t accuracy 0.56\n",
      "epoch 2/100 \t batch 65600/90000 \t loss 1.26 \t accuracy 0.44\n",
      "epoch 2/100 \t batch 67200/90000 \t loss 1.64 \t accuracy 0.44\n",
      "epoch 2/100 \t batch 68800/90000 \t loss 1.27 \t accuracy 0.50\n",
      "epoch 2/100 \t batch 70400/90000 \t loss 1.61 \t accuracy 0.50\n",
      "epoch 2/100 \t batch 72000/90000 \t loss 1.44 \t accuracy 0.50\n",
      "epoch 2/100 \t batch 73600/90000 \t loss 0.73 \t accuracy 0.75\n",
      "epoch 2/100 \t batch 75200/90000 \t loss 0.94 \t accuracy 0.62\n",
      "epoch 2/100 \t batch 76800/90000 \t loss 1.39 \t accuracy 0.56\n",
      "epoch 2/100 \t batch 78400/90000 \t loss 1.54 \t accuracy 0.50\n",
      "epoch 2/100 \t batch 80000/90000 \t loss 1.06 \t accuracy 0.62\n",
      "epoch 2/100 \t batch 81600/90000 \t loss 1.65 \t accuracy 0.44\n",
      "epoch 2/100 \t batch 83200/90000 \t loss 1.62 \t accuracy 0.56\n",
      "epoch 2/100 \t batch 84800/90000 \t loss 1.42 \t accuracy 0.56\n",
      "epoch 2/100 \t batch 86400/90000 \t loss 1.05 \t accuracy 0.56\n",
      "epoch 2/100 \t batch 88000/90000 \t loss 1.21 \t accuracy 0.56\n",
      "epoch 2/100 \t batch 89600/90000 \t loss 0.97 \t accuracy 0.69\n",
      "********** train: epoch 2/100 \t accuracy 51.26% **********\n",
      "********** test: epoch 2/100 \t accuracy 50.02% **********\n",
      "epoch 3/100 \t batch 1600/90000 \t loss 1.34 \t accuracy 0.44\n",
      "epoch 3/100 \t batch 3200/90000 \t loss 1.21 \t accuracy 0.62\n",
      "epoch 3/100 \t batch 4800/90000 \t loss 1.37 \t accuracy 0.62\n",
      "epoch 3/100 \t batch 6400/90000 \t loss 1.82 \t accuracy 0.56\n",
      "epoch 3/100 \t batch 8000/90000 \t loss 2.11 \t accuracy 0.38\n",
      "epoch 3/100 \t batch 9600/90000 \t loss 0.95 \t accuracy 0.56\n",
      "epoch 3/100 \t batch 11200/90000 \t loss 1.95 \t accuracy 0.50\n",
      "epoch 3/100 \t batch 12800/90000 \t loss 1.10 \t accuracy 0.56\n",
      "epoch 3/100 \t batch 14400/90000 \t loss 0.75 \t accuracy 0.81\n",
      "epoch 3/100 \t batch 16000/90000 \t loss 1.45 \t accuracy 0.50\n",
      "epoch 3/100 \t batch 17600/90000 \t loss 2.67 \t accuracy 0.44\n",
      "epoch 3/100 \t batch 19200/90000 \t loss 2.13 \t accuracy 0.19\n",
      "epoch 3/100 \t batch 20800/90000 \t loss 1.52 \t accuracy 0.56\n",
      "epoch 3/100 \t batch 22400/90000 \t loss 1.24 \t accuracy 0.62\n",
      "epoch 3/100 \t batch 24000/90000 \t loss 1.16 \t accuracy 0.50\n",
      "epoch 3/100 \t batch 25600/90000 \t loss 1.72 \t accuracy 0.44\n",
      "epoch 3/100 \t batch 27200/90000 \t loss 1.33 \t accuracy 0.50\n",
      "epoch 3/100 \t batch 28800/90000 \t loss 1.39 \t accuracy 0.50\n",
      "epoch 3/100 \t batch 30400/90000 \t loss 1.54 \t accuracy 0.38\n",
      "epoch 3/100 \t batch 32000/90000 \t loss 3.02 \t accuracy 0.25\n",
      "epoch 3/100 \t batch 33600/90000 \t loss 0.80 \t accuracy 0.69\n",
      "epoch 3/100 \t batch 35200/90000 \t loss 0.99 \t accuracy 0.69\n",
      "epoch 3/100 \t batch 36800/90000 \t loss 1.13 \t accuracy 0.62\n",
      "epoch 3/100 \t batch 38400/90000 \t loss 2.10 \t accuracy 0.38\n",
      "epoch 3/100 \t batch 40000/90000 \t loss 1.56 \t accuracy 0.38\n",
      "epoch 3/100 \t batch 41600/90000 \t loss 1.48 \t accuracy 0.44\n",
      "epoch 3/100 \t batch 43200/90000 \t loss 0.84 \t accuracy 0.56\n",
      "epoch 3/100 \t batch 44800/90000 \t loss 1.50 \t accuracy 0.56\n",
      "epoch 3/100 \t batch 46400/90000 \t loss 1.51 \t accuracy 0.62\n",
      "epoch 3/100 \t batch 48000/90000 \t loss 1.58 \t accuracy 0.44\n",
      "epoch 3/100 \t batch 49600/90000 \t loss 1.58 \t accuracy 0.56\n",
      "epoch 3/100 \t batch 51200/90000 \t loss 1.53 \t accuracy 0.44\n",
      "epoch 3/100 \t batch 52800/90000 \t loss 1.70 \t accuracy 0.56\n",
      "epoch 3/100 \t batch 54400/90000 \t loss 1.19 \t accuracy 0.62\n",
      "epoch 3/100 \t batch 56000/90000 \t loss 1.30 \t accuracy 0.44\n",
      "epoch 3/100 \t batch 57600/90000 \t loss 1.24 \t accuracy 0.69\n",
      "epoch 3/100 \t batch 59200/90000 \t loss 2.10 \t accuracy 0.38\n",
      "epoch 3/100 \t batch 60800/90000 \t loss 1.32 \t accuracy 0.44\n",
      "epoch 3/100 \t batch 62400/90000 \t loss 1.79 \t accuracy 0.44\n",
      "epoch 3/100 \t batch 64000/90000 \t loss 1.19 \t accuracy 0.56\n",
      "epoch 3/100 \t batch 65600/90000 \t loss 2.40 \t accuracy 0.25\n",
      "epoch 3/100 \t batch 67200/90000 \t loss 1.07 \t accuracy 0.62\n",
      "epoch 3/100 \t batch 68800/90000 \t loss 1.42 \t accuracy 0.62\n",
      "epoch 3/100 \t batch 70400/90000 \t loss 0.93 \t accuracy 0.62\n",
      "epoch 3/100 \t batch 72000/90000 \t loss 2.01 \t accuracy 0.31\n",
      "epoch 3/100 \t batch 73600/90000 \t loss 0.92 \t accuracy 0.69\n",
      "epoch 3/100 \t batch 75200/90000 \t loss 1.72 \t accuracy 0.50\n",
      "epoch 3/100 \t batch 76800/90000 \t loss 1.54 \t accuracy 0.50\n",
      "epoch 3/100 \t batch 78400/90000 \t loss 1.88 \t accuracy 0.25\n",
      "epoch 3/100 \t batch 80000/90000 \t loss 1.25 \t accuracy 0.69\n",
      "epoch 3/100 \t batch 81600/90000 \t loss 1.78 \t accuracy 0.44\n",
      "epoch 3/100 \t batch 83200/90000 \t loss 1.45 \t accuracy 0.56\n",
      "epoch 3/100 \t batch 84800/90000 \t loss 1.29 \t accuracy 0.56\n",
      "epoch 3/100 \t batch 86400/90000 \t loss 1.13 \t accuracy 0.50\n",
      "epoch 3/100 \t batch 88000/90000 \t loss 1.71 \t accuracy 0.50\n",
      "epoch 3/100 \t batch 89600/90000 \t loss 1.35 \t accuracy 0.44\n",
      "********** train: epoch 3/100 \t accuracy 52.52% **********\n",
      "********** test: epoch 3/100 \t accuracy 49.08% **********\n",
      "epoch 4/100 \t batch 1600/90000 \t loss 1.25 \t accuracy 0.62\n",
      "epoch 4/100 \t batch 3200/90000 \t loss 1.18 \t accuracy 0.50\n",
      "epoch 4/100 \t batch 4800/90000 \t loss 1.30 \t accuracy 0.56\n",
      "epoch 4/100 \t batch 6400/90000 \t loss 1.09 \t accuracy 0.69\n",
      "epoch 4/100 \t batch 8000/90000 \t loss 2.17 \t accuracy 0.31\n",
      "epoch 4/100 \t batch 9600/90000 \t loss 0.85 \t accuracy 0.75\n",
      "epoch 4/100 \t batch 11200/90000 \t loss 1.19 \t accuracy 0.50\n",
      "epoch 4/100 \t batch 12800/90000 \t loss 2.19 \t accuracy 0.25\n",
      "epoch 4/100 \t batch 14400/90000 \t loss 2.38 \t accuracy 0.31\n",
      "epoch 4/100 \t batch 16000/90000 \t loss 1.68 \t accuracy 0.50\n",
      "epoch 4/100 \t batch 17600/90000 \t loss 1.94 \t accuracy 0.38\n",
      "epoch 4/100 \t batch 19200/90000 \t loss 1.25 \t accuracy 0.62\n",
      "epoch 4/100 \t batch 20800/90000 \t loss 1.26 \t accuracy 0.50\n",
      "epoch 4/100 \t batch 22400/90000 \t loss 1.37 \t accuracy 0.38\n",
      "epoch 4/100 \t batch 24000/90000 \t loss 0.80 \t accuracy 0.75\n",
      "epoch 4/100 \t batch 25600/90000 \t loss 1.29 \t accuracy 0.62\n",
      "epoch 4/100 \t batch 27200/90000 \t loss 1.03 \t accuracy 0.56\n",
      "epoch 4/100 \t batch 28800/90000 \t loss 1.34 \t accuracy 0.56\n",
      "epoch 4/100 \t batch 30400/90000 \t loss 1.86 \t accuracy 0.44\n",
      "epoch 4/100 \t batch 32000/90000 \t loss 1.40 \t accuracy 0.62\n",
      "epoch 4/100 \t batch 33600/90000 \t loss 1.29 \t accuracy 0.44\n",
      "epoch 4/100 \t batch 35200/90000 \t loss 1.07 \t accuracy 0.62\n",
      "epoch 4/100 \t batch 36800/90000 \t loss 1.04 \t accuracy 0.69\n",
      "epoch 4/100 \t batch 38400/90000 \t loss 1.06 \t accuracy 0.62\n",
      "epoch 4/100 \t batch 40000/90000 \t loss 0.98 \t accuracy 0.62\n",
      "epoch 4/100 \t batch 41600/90000 \t loss 1.82 \t accuracy 0.50\n",
      "epoch 4/100 \t batch 43200/90000 \t loss 3.25 \t accuracy 0.25\n",
      "epoch 4/100 \t batch 44800/90000 \t loss 2.20 \t accuracy 0.56\n",
      "epoch 4/100 \t batch 46400/90000 \t loss 0.89 \t accuracy 0.75\n",
      "epoch 4/100 \t batch 48000/90000 \t loss 1.78 \t accuracy 0.44\n",
      "epoch 4/100 \t batch 49600/90000 \t loss 1.63 \t accuracy 0.56\n",
      "epoch 4/100 \t batch 51200/90000 \t loss 2.82 \t accuracy 0.25\n",
      "epoch 4/100 \t batch 52800/90000 \t loss 1.65 \t accuracy 0.44\n",
      "epoch 4/100 \t batch 54400/90000 \t loss 1.33 \t accuracy 0.62\n",
      "epoch 4/100 \t batch 56000/90000 \t loss 1.23 \t accuracy 0.62\n",
      "epoch 4/100 \t batch 57600/90000 \t loss 1.20 \t accuracy 0.50\n",
      "epoch 4/100 \t batch 59200/90000 \t loss 0.99 \t accuracy 0.81\n",
      "epoch 4/100 \t batch 60800/90000 \t loss 1.80 \t accuracy 0.44\n",
      "epoch 4/100 \t batch 62400/90000 \t loss 1.56 \t accuracy 0.62\n",
      "epoch 4/100 \t batch 64000/90000 \t loss 1.41 \t accuracy 0.62\n",
      "epoch 4/100 \t batch 65600/90000 \t loss 1.70 \t accuracy 0.44\n",
      "epoch 4/100 \t batch 67200/90000 \t loss 1.01 \t accuracy 0.56\n",
      "epoch 4/100 \t batch 68800/90000 \t loss 1.28 \t accuracy 0.56\n",
      "epoch 4/100 \t batch 70400/90000 \t loss 1.83 \t accuracy 0.56\n",
      "epoch 4/100 \t batch 72000/90000 \t loss 2.18 \t accuracy 0.31\n",
      "epoch 4/100 \t batch 73600/90000 \t loss 1.48 \t accuracy 0.56\n",
      "epoch 4/100 \t batch 75200/90000 \t loss 2.41 \t accuracy 0.44\n",
      "epoch 4/100 \t batch 76800/90000 \t loss 1.54 \t accuracy 0.44\n",
      "epoch 4/100 \t batch 78400/90000 \t loss 2.86 \t accuracy 0.31\n",
      "epoch 4/100 \t batch 80000/90000 \t loss 1.76 \t accuracy 0.38\n",
      "epoch 4/100 \t batch 81600/90000 \t loss 1.07 \t accuracy 0.62\n",
      "epoch 4/100 \t batch 83200/90000 \t loss 1.09 \t accuracy 0.56\n",
      "epoch 4/100 \t batch 84800/90000 \t loss 1.96 \t accuracy 0.44\n",
      "epoch 4/100 \t batch 86400/90000 \t loss 1.43 \t accuracy 0.56\n",
      "epoch 4/100 \t batch 88000/90000 \t loss 1.13 \t accuracy 0.56\n",
      "epoch 4/100 \t batch 89600/90000 \t loss 1.30 \t accuracy 0.56\n",
      "********** train: epoch 4/100 \t accuracy 53.57% **********\n",
      "********** test: epoch 4/100 \t accuracy 51.25% **********\n",
      "epoch 5/100 \t batch 1600/90000 \t loss 1.27 \t accuracy 0.50\n",
      "epoch 5/100 \t batch 3200/90000 \t loss 1.77 \t accuracy 0.50\n",
      "epoch 5/100 \t batch 4800/90000 \t loss 1.35 \t accuracy 0.62\n",
      "epoch 5/100 \t batch 6400/90000 \t loss 2.88 \t accuracy 0.44\n",
      "epoch 5/100 \t batch 8000/90000 \t loss 1.12 \t accuracy 0.69\n",
      "epoch 5/100 \t batch 9600/90000 \t loss 1.31 \t accuracy 0.44\n",
      "epoch 5/100 \t batch 11200/90000 \t loss 0.96 \t accuracy 0.69\n",
      "epoch 5/100 \t batch 12800/90000 \t loss 1.35 \t accuracy 0.69\n"
     ]
    },
    {
     "ename": "KeyboardInterrupt",
     "evalue": "",
     "output_type": "error",
     "traceback": [
      "\u001b[1;31m---------------------------------------------------------------------------\u001b[0m",
      "\u001b[1;31mKeyboardInterrupt\u001b[0m                         Traceback (most recent call last)",
      "Cell \u001b[1;32mIn[5], line 26\u001b[0m\n\u001b[0;32m     24\u001b[0m correct_tot \u001b[38;5;241m+\u001b[39m\u001b[38;5;241m=\u001b[39m correct\n\u001b[0;32m     25\u001b[0m loss\u001b[38;5;241m.\u001b[39mbackward()\n\u001b[1;32m---> 26\u001b[0m \u001b[43mopt\u001b[49m\u001b[38;5;241;43m.\u001b[39;49m\u001b[43m_step\u001b[49m\u001b[43m(\u001b[49m\u001b[43m)\u001b[49m\n\u001b[0;32m     27\u001b[0m \u001b[38;5;28;01mif\u001b[39;00m i \u001b[38;5;241m%\u001b[39m \u001b[38;5;241m100\u001b[39m \u001b[38;5;241m==\u001b[39m \u001b[38;5;241m0\u001b[39m:\n\u001b[0;32m     28\u001b[0m     \u001b[38;5;28mprint\u001b[39m(\n\u001b[0;32m     29\u001b[0m         \u001b[38;5;124mf\u001b[39m\u001b[38;5;124m\"\u001b[39m\u001b[38;5;124mepoch \u001b[39m\u001b[38;5;132;01m{\u001b[39;00me\u001b[38;5;132;01m}\u001b[39;00m\u001b[38;5;124m/\u001b[39m\u001b[38;5;132;01m{\u001b[39;00mepoch\u001b[38;5;132;01m}\u001b[39;00m\u001b[38;5;124m \u001b[39m\u001b[38;5;130;01m\\t\u001b[39;00m\u001b[38;5;124m batch \u001b[39m\u001b[38;5;132;01m{\u001b[39;00mbatch\u001b[38;5;241m*\u001b[39mi\u001b[38;5;132;01m}\u001b[39;00m\u001b[38;5;124m/\u001b[39m\u001b[38;5;132;01m{\u001b[39;00mY\u001b[38;5;241m.\u001b[39mshape[\u001b[38;5;241m0\u001b[39m]\u001b[38;5;241m-\u001b[39mholdout\u001b[38;5;132;01m}\u001b[39;00m\u001b[38;5;124m \u001b[39m\u001b[38;5;130;01m\\t\u001b[39;00m\u001b[38;5;124m loss \u001b[39m\u001b[38;5;132;01m{\u001b[39;00mloss\u001b[38;5;241m.\u001b[39mitem()\u001b[38;5;132;01m:\u001b[39;00m\u001b[38;5;124m.2f\u001b[39m\u001b[38;5;132;01m}\u001b[39;00m\u001b[38;5;124m \u001b[39m\u001b[38;5;130;01m\\t\u001b[39;00m\u001b[38;5;124m accuracy \u001b[39m\u001b[38;5;132;01m{\u001b[39;00macc\u001b[38;5;132;01m:\u001b[39;00m\u001b[38;5;124m.2f\u001b[39m\u001b[38;5;132;01m}\u001b[39;00m\u001b[38;5;124m\"\u001b[39m\n\u001b[0;32m     30\u001b[0m     )\n",
      "\u001b[1;31mKeyboardInterrupt\u001b[0m: "
     ]
    }
   ],
   "source": [
    "X, Y = train_data.getdatas()\n",
    "los = pv.nn.loss.CrossEntropyLoss()\n",
    "opt = pv.optim.Adam(model.parameters())\n",
    "\n",
    "acc_train = []\n",
    "acc_test = []\n",
    "\n",
    "for e in range(1, epoch + 1):\n",
    "    model.train()\n",
    "\n",
    "    correct_tot = 0\n",
    "    for I, (x, y) in enumerate(\n",
    "        pv.data.data_generator(\n",
    "            X[:-holdout], Y[:-holdout], batch_size=batch, shuffle=True\n",
    "        )\n",
    "    ):\n",
    "        i = I + 1\n",
    "        # print(i)\n",
    "        opt.zero_grad()\n",
    "        y_pred = model(x)\n",
    "        loss = los(y, y_pred)\n",
    "        correct = sum(y_pred.argmax(1, False).to_numpy() == y)\n",
    "        acc = correct / y.shape[0]\n",
    "        correct_tot += correct\n",
    "        loss.backward()\n",
    "        opt._step()\n",
    "        if i % 100 == 0:\n",
    "            print(\n",
    "                f\"epoch {e}/{epoch} \\t batch {batch*i}/{Y.shape[0]-holdout} \\t loss {loss.item():.2f} \\t accuracy {acc:.2f}\"\n",
    "            )\n",
    "\n",
    "    model.eval()\n",
    "\n",
    "    acc = correct_tot / (Y.shape[0] - holdout)\n",
    "    print(f\"********** train: epoch {e}/{epoch} \\t accuracy {100*acc:.2f}% **********\")\n",
    "    acc_train.append(acc)\n",
    "\n",
    "    correct_tot = 0\n",
    "    for x, y in pv.data.data_generator(\n",
    "        X[-holdout:], Y[-holdout:], batch_size=batch, shuffle=False\n",
    "    ):\n",
    "        y_pred = model(x)\n",
    "        correct_tot += sum(y_pred.argmax(1, False).to_numpy() == y)\n",
    "\n",
    "    acc = correct_tot / holdout\n",
    "    print(f\"********** test: epoch {e}/{epoch} \\t accuracy {100*acc:.2f}% **********\")\n",
    "    acc_test.append(acc)\n",
    "\n",
    "    # opt = pv.optim.SGD(model.parameters(), 0.01 * (1 - acc))"
   ]
  },
  {
   "cell_type": "code",
   "execution_count": 6,
   "id": "402d77b3-2cad-4bce-aad4-e9acd9205e8a",
   "metadata": {
    "editable": true,
    "slideshow": {
     "slide_type": ""
    },
    "tags": []
   },
   "outputs": [],
   "source": [
    "pv.utils.storage.save_parameters(model.state_dict(), \"train9.model\")"
   ]
  },
  {
   "cell_type": "code",
   "execution_count": 7,
   "id": "dca29aa3-7efa-4e0e-a97c-eb145820efd6",
   "metadata": {
    "editable": true,
    "slideshow": {
     "slide_type": ""
    },
    "tags": []
   },
   "outputs": [],
   "source": [
    "m = Model()\n",
    "m.load_state_dict(pv.utils.storage.load_parameters(\"train9.model\"))"
   ]
  },
  {
   "cell_type": "code",
   "execution_count": 8,
   "id": "d7d444c3-c167-4ff0-b6dd-725bb01148a6",
   "metadata": {
    "editable": false,
    "slideshow": {
     "slide_type": ""
    },
    "tags": []
   },
   "outputs": [
    {
     "name": "stdout",
     "output_type": "stream",
     "text": [
      "********** eval: accuracy 51.54% **********\n"
     ]
    }
   ],
   "source": [
    "m.eval()\n",
    "X, Y = test_data.getdatas()\n",
    "correct_tot = 0\n",
    "for x, y in pv.data.data_generator(X, Y, batch_size=batch, shuffle=False):\n",
    "    y_pred = model(x)\n",
    "    correct_tot += sum(y_pred.argmax(1, False).to_numpy() == y)\n",
    "acc = correct_tot / Y.shape[0]\n",
    "print(f\"********** eval: accuracy {100*acc:.2f}% **********\")"
   ]
  },
  {
   "cell_type": "code",
   "execution_count": null,
   "id": "1c91b698-5df4-46b1-9aa5-8950328b2068",
   "metadata": {
    "editable": true,
    "slideshow": {
     "slide_type": ""
    },
    "tags": []
   },
   "outputs": [],
   "source": []
  },
  {
   "cell_type": "code",
   "execution_count": null,
   "id": "7c82a43a-b593-4feb-baf4-0174d6bf7ef2",
   "metadata": {},
   "outputs": [],
   "source": []
  },
  {
   "cell_type": "code",
   "execution_count": null,
   "id": "12fe0458-44ee-4fde-8fdc-79d528782f55",
   "metadata": {},
   "outputs": [],
   "source": []
  },
  {
   "cell_type": "code",
   "execution_count": null,
   "id": "534048c2-cee7-49f3-ad6a-09a1b0150614",
   "metadata": {},
   "outputs": [],
   "source": []
  },
  {
   "cell_type": "code",
   "execution_count": null,
   "id": "ac5640dd-406d-4843-9e05-0f9823b6461b",
   "metadata": {
    "editable": true,
    "slideshow": {
     "slide_type": ""
    },
    "tags": []
   },
   "outputs": [],
   "source": []
  }
 ],
 "metadata": {
  "kernelspec": {
   "display_name": "Python 3 (ipykernel)",
   "language": "python",
   "name": "python3"
  },
  "language_info": {
   "codemirror_mode": {
    "name": "ipython",
    "version": 3
   },
   "file_extension": ".py",
   "mimetype": "text/x-python",
   "name": "python",
   "nbconvert_exporter": "python",
   "pygments_lexer": "ipython3",
   "version": "3.10.12"
  }
 },
 "nbformat": 4,
 "nbformat_minor": 5
}
