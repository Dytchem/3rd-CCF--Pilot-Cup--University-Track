{
 "cells": [
  {
   "cell_type": "code",
   "execution_count": 4,
   "id": "6331572c-f416-4b50-bf0e-9bbc2cc2d12c",
   "metadata": {
    "editable": true,
    "slideshow": {
     "slide_type": ""
    },
    "tags": []
   },
   "outputs": [],
   "source": [
    "import numpy as np\n",
    "import matplotlib.pyplot as plt\n",
    "import pyqpanda as pq\n",
    "import pyvqnet as pv\n",
    "import random\n",
    "%matplotlib inline"
   ]
  },
  {
   "cell_type": "code",
   "execution_count": 2,
   "id": "fdae75c6-8de9-4262-b050-bf4a0564867b",
   "metadata": {
    "editable": true,
    "slideshow": {
     "slide_type": ""
    },
    "tags": []
   },
   "outputs": [],
   "source": [
    "from utils import *\n",
    "from PIL import Image, ImageEnhance\n",
    "import numpy as np\n",
    "import random"
   ]
  },
  {
   "cell_type": "code",
   "execution_count": 3,
   "id": "734e9f90-4418-43dd-ad3d-e90c87d5baa8",
   "metadata": {
    "editable": true,
    "slideshow": {
     "slide_type": ""
    },
    "tags": []
   },
   "outputs": [],
   "source": [
    "d = Dataset(\n",
    "    \"data/cifar-10-batches-py/data_batch_1\",\n",
    "    \"data/cifar-10-batches-py/data_batch_2\",\n",
    "    \"data/cifar-10-batches-py/data_batch_3\",\n",
    "    \"data/cifar-10-batches-py/data_batch_4\",\n",
    "    \"data/cifar-10-batches-py/data_batch_5\",\n",
    ")"
   ]
  },
  {
   "cell_type": "code",
   "execution_count": 7,
   "id": "6d501015-3219-4784-8c8f-ae919a9c9afc",
   "metadata": {
    "editable": true,
    "slideshow": {
     "slide_type": ""
    },
    "tags": []
   },
   "outputs": [],
   "source": [
    "d.showimg(645);"
   ]
  },
  {
   "cell_type": "code",
   "execution_count": null,
   "id": "96008e8a-e23b-4e07-b8d5-f2631e08a4fc",
   "metadata": {
    "editable": true,
    "slideshow": {
     "slide_type": ""
    },
    "tags": []
   },
   "outputs": [],
   "source": []
  },
  {
   "cell_type": "code",
   "execution_count": 116,
   "id": "2c9b6682-6c5d-4419-82cf-2e0866b42f8a",
   "metadata": {
    "editable": true,
    "slideshow": {
     "slide_type": ""
    },
    "tags": []
   },
   "outputs": [],
   "source": [
    "obs_list = [\n",
    "    {\n",
    "        \"wires\": [i],\n",
    "        \"observables\": [\"Z\"],\n",
    "        \"coefficient\": [1],\n",
    "    }\n",
    "    for i in range(10)\n",
    "]\n",
    "\n",
    "\n",
    "def pqc(input, param, qubits, cbits, machine):\n",
    "    n = len(input)\n",
    "    prog = pq.QProg()\n",
    "    prog.insert(pq.H(qubits[10]))\n",
    "    for i in range(10):\n",
    "        prog.insert(pq.CNOT(qubits[10], qubits[i]))\n",
    "    for i in range(n):\n",
    "        prog.insert(pq.U2(qubits[i % 10], param[i], input[i]))\n",
    "    for i in range(10):\n",
    "        prog.insert(pq.CNOT(qubits[10], qubits[i]))\n",
    "\n",
    "    re = pv.qnn.measure.MeasurePauliSum(machine, prog, obs_list, qubits)\n",
    "    return re\n",
    "\n",
    "\n",
    "class Model(pv.nn.module.Module):\n",
    "    def __init__(self):\n",
    "        super(Model, self).__init__()\n",
    "        self.conv1 = pv.nn.Conv2D(3, 30, (3, 3))\n",
    "        self.conv2 = pv.nn.Conv2D(30, 30, (3, 3))\n",
    "        self.pool2 = pv.nn.MaxPool2D((2, 2), (2, 2))\n",
    "        self.conv3 = pv.nn.Conv2D(30, 30, (3, 3))\n",
    "        self.conv4 = pv.nn.Conv2D(30, 30, (3, 3))\n",
    "        self.pool4 = pv.nn.MaxPool2D((2, 2), (2, 2))\n",
    "        self.conv5 = pv.nn.Conv2D(30, 30, (3, 3))\n",
    "        self.conv6 = pv.nn.Conv2D(30, 30, (3, 3))\n",
    "        # self.qc = pv.qnn.quantumlayer.QuantumLayer(\n",
    "        #     pqc, 30, \"CPU\", 11, diff_method=\"finite_diff\"\n",
    "        # )\n",
    "        self.qc = pv.nn.Linear(30, 10)\n",
    "\n",
    "    def forward(self, x):\n",
    "        x = self.conv1(x)\n",
    "        x = self.conv2(x)\n",
    "        x = self.pool2(x)\n",
    "        x = self.conv3(x)\n",
    "        x = self.conv4(x)\n",
    "        x = self.pool4(x)\n",
    "        x = self.conv5(x)\n",
    "        x = self.conv6(x)\n",
    "        x = pv.tensor.flatten(x, 1)\n",
    "        x = 2 * pv.tensor.atan(x)\n",
    "        x = self.qc(x)\n",
    "        return x"
   ]
  },
  {
   "cell_type": "code",
   "execution_count": 19,
   "id": "20ff491f-2d9b-44a8-b4b0-fa59a40d0902",
   "metadata": {
    "editable": true,
    "jupyter": {
     "source_hidden": true
    },
    "slideshow": {
     "slide_type": ""
    },
    "tags": [
     "good"
    ]
   },
   "outputs": [],
   "source": [
    "obs_list = [\n",
    "    {\n",
    "        \"wires\": [i],\n",
    "        \"observables\": [\"Z\"],\n",
    "        \"coefficient\": [1],\n",
    "    }\n",
    "    for i in range(10)\n",
    "]\n",
    "\n",
    "\n",
    "def pqc(input, param, qubits, cbits, machine):\n",
    "    n = len(input)\n",
    "    prog = pq.QProg()\n",
    "    prog.insert(pq.H(qubits[10]))\n",
    "    for i in range(10):\n",
    "        prog.insert(pq.CNOT(qubits[10], qubits[i]))\n",
    "    for i in range(n):\n",
    "        prog.insert(pq.U2(qubits[i % 10], param[i], input[i]))\n",
    "    for i in range(10):\n",
    "        prog.insert(pq.CNOT(qubits[10], qubits[i]))\n",
    "\n",
    "    re = pv.qnn.measure.MeasurePauliSum(machine, prog, obs_list, qubits)\n",
    "    return re\n",
    "\n",
    "\n",
    "class Model(pv.nn.module.Module):\n",
    "    def __init__(self):\n",
    "        super(Model, self).__init__()\n",
    "        self.conv = pv.nn.Conv2D(3, 30, (32, 32))\n",
    "        self.qc = pv.qnn.quantumlayer.QuantumLayer(\n",
    "            pqc, 30, \"CPU\", 11, diff_method=\"finite_diff\"\n",
    "        )\n",
    "        # self.qc = pv.nn.Linear(30, 10)\n",
    "\n",
    "    def forward(self, x):\n",
    "        x = self.conv(x)\n",
    "        x = pv.tensor.flatten(x, 1)\n",
    "        x = 2 * pv.tensor.atan(x)\n",
    "        x = self.qc(x)\n",
    "        return x"
   ]
  },
  {
   "cell_type": "code",
   "execution_count": 902,
   "id": "d00364df-56ad-4819-ab30-d32e598e970c",
   "metadata": {
    "editable": true,
    "jupyter": {
     "source_hidden": true
    },
    "slideshow": {
     "slide_type": ""
    },
    "tags": [
     "base"
    ]
   },
   "outputs": [],
   "source": [
    "class Model(pv.nn.module.Module):\n",
    "    def __init__(self):\n",
    "        super(Model, self).__init__()\n",
    "        self.conv = pv.nn.Conv2D(3, 30, (32, 32))\n",
    "        self.qc = pv.nn.Linear(30, 10)\n",
    "\n",
    "    def forward(self, x):\n",
    "        x = self.conv(x)\n",
    "        x = pv.tensor.flatten(x, 1)\n",
    "        x = self.qc(x)\n",
    "        return x"
   ]
  },
  {
   "cell_type": "code",
   "execution_count": 856,
   "id": "64fb1273-cc51-493f-a012-a67660fd2a21",
   "metadata": {
    "editable": false,
    "jupyter": {
     "source_hidden": true
    },
    "slideshow": {
     "slide_type": ""
    },
    "tags": [
     "good"
    ]
   },
   "outputs": [],
   "source": [
    "obs_list = [\n",
    "    {\n",
    "        \"wires\": [i],\n",
    "        \"observables\": [\"Z\"],\n",
    "        \"coefficient\": [1],\n",
    "    }\n",
    "    for i in range(10)\n",
    "]\n",
    "\n",
    "\n",
    "def pqc(input, param, qubits, cbits, machine):\n",
    "    n = len(input)\n",
    "    prog = pq.QProg()\n",
    "    prog.insert(pq.H(qubits[10]))\n",
    "    for i in range(10):\n",
    "        prog.insert(pq.CNOT(qubits[10], qubits[i]))\n",
    "    for i in range(10):\n",
    "        prog.insert(\n",
    "            pq.U3(\n",
    "                qubits[i],\n",
    "                np.arctan(param[i]),\n",
    "                np.arctan(param[i + 10]),\n",
    "                np.arctan(param[i + 20]),\n",
    "            )\n",
    "        )\n",
    "        prog.insert(\n",
    "            pq.U3(\n",
    "                qubits[i],\n",
    "                np.arctan(input[i]),\n",
    "                np.arctan(input[i + 10]),\n",
    "                np.arctan(input[i + 20]),\n",
    "            )\n",
    "        )\n",
    "        prog.insert(\n",
    "            pq.U3(\n",
    "                qubits[i],\n",
    "                np.arctan(param[i + 30]),\n",
    "                np.arctan(param[i + 40]),\n",
    "                np.arctan(param[i + 50]),\n",
    "            )\n",
    "        )\n",
    "    for i in range(9, -1, -1):\n",
    "        prog.insert(pq.CNOT(qubits[10], qubits[i]))\n",
    "    prog.insert(pq.H(qubits[10]))\n",
    "\n",
    "    re = pv.qnn.measure.MeasurePauliSum(machine, prog, obs_list, qubits)\n",
    "    return re\n",
    "\n",
    "\n",
    "class Model(pv.nn.module.Module):\n",
    "    def __init__(self):\n",
    "        super(Model, self).__init__()\n",
    "        self.conv = pv.nn.Conv2D(3, 30, (32, 32))\n",
    "        self.qc = pv.qnn.quantumlayer.QuantumLayer(\n",
    "            pqc, 60, \"CPU\", 11, diff_method=\"finite_diff\"\n",
    "        )\n",
    "        # self.qc = pv.nn.Linear(30, 10)\n",
    "\n",
    "    def forward(self, x):\n",
    "        x = self.conv(x)\n",
    "        x = pv.tensor.flatten(x, 1)\n",
    "        x = self.qc(x)\n",
    "        return x"
   ]
  },
  {
   "cell_type": "code",
   "execution_count": 616,
   "id": "2993c731-f616-4d97-9f81-93b354f7273f",
   "metadata": {
    "editable": true,
    "jupyter": {
     "source_hidden": true
    },
    "slideshow": {
     "slide_type": ""
    },
    "tags": []
   },
   "outputs": [],
   "source": [
    "obs_list = [\n",
    "    {\n",
    "        \"wires\": [i],\n",
    "        \"observables\": [\"Z\"],\n",
    "        \"coefficient\": [1],\n",
    "    }\n",
    "    for i in range(10)\n",
    "]\n",
    "\n",
    "\n",
    "def pqc(input, param, qubits, cbits, machine):\n",
    "    n = len(input)\n",
    "    prog = pq.QProg()\n",
    "    prog.insert(pq.H(qubits[10]))\n",
    "    for i in range(10):\n",
    "        prog.insert(pq.CNOT(qubits[10], qubits[i]))\n",
    "    for i in range(10):\n",
    "        prog.insert(pq.RX(qubits[i], np.arctan(input[i])))\n",
    "        prog.insert(pq.RY(qubits[i], np.arctan(input[i + 10])))\n",
    "        prog.insert(pq.RZ(qubits[i], np.arctan(input[i + 20])))\n",
    "        prog.insert(pq.RX(qubits[i], np.arctan(param[i])))\n",
    "        prog.insert(pq.RY(qubits[i], np.arctan(param[i + 10])))\n",
    "        prog.insert(pq.RZ(qubits[i], np.arctan(param[i + 20])))\n",
    "    for i in range(9, -1, -1):\n",
    "        prog.insert(pq.CNOT(qubits[10], qubits[i]))\n",
    "    prog.insert(pq.H(qubits[10]))\n",
    "\n",
    "    re = pv.qnn.measure.MeasurePauliSum(machine, prog, obs_list, qubits)\n",
    "    return re\n",
    "\n",
    "\n",
    "class Model(pv.nn.module.Module):\n",
    "    def __init__(self):\n",
    "        super(Model, self).__init__()\n",
    "        self.conv1 = pv.nn.Conv2D(3, 30, (3, 3))\n",
    "        self.conv2 = pv.nn.Conv2D(30, 30, (3, 3))\n",
    "        self.pool2 = pv.nn.MaxPool2D((2, 2), (2, 2))\n",
    "        self.conv3 = pv.nn.Conv2D(30, 30, (3, 3))\n",
    "        self.conv4 = pv.nn.Conv2D(30, 30, (3, 3))\n",
    "        self.pool4 = pv.nn.MaxPool2D((2, 2), (2, 2))\n",
    "        self.conv5 = pv.nn.Conv2D(30, 30, (5, 5))\n",
    "        self.qc = pv.qnn.quantumlayer.QuantumLayer(\n",
    "            pqc, 30, \"CPU\", 11, diff_method=\"finite_diff\"\n",
    "        )\n",
    "        # self.qc = pv.nn.Linear(30, 10)\n",
    "\n",
    "    def forward(self, x):\n",
    "        x = self.conv1(x)\n",
    "        x = self.conv2(x)\n",
    "        x = self.pool2(x)\n",
    "        x = self.conv3(x)\n",
    "        x = self.conv4(x)\n",
    "        x = self.pool4(x)\n",
    "        x = self.conv5(x)\n",
    "        x = pv.tensor.flatten(x, 1)\n",
    "        x = self.qc(x)\n",
    "        return x"
   ]
  },
  {
   "cell_type": "code",
   "execution_count": 124,
   "id": "1c09b97f-5282-4b15-9955-e73c712e09d9",
   "metadata": {
    "editable": true,
    "slideshow": {
     "slide_type": ""
    },
    "tags": []
   },
   "outputs": [
    {
     "name": "stdout",
     "output_type": "stream",
     "text": [
      "41800\n",
      "[[ 0.0715334, 0.1884509, 0.0387493,-0.0371967, 0.1511531,-0.1249754,\n",
      "   0.131247 ,-0.0982674, 0.0822935,-0.0017775],\n",
      " [ 0.0567853, 0.1982534, 0.0429443,-0.006319 , 0.1434529,-0.146507 ,\n",
      "   0.1272477,-0.0926824, 0.0715861, 0.0205004]]\n",
      "[0 8 8 4 8 9 0 2 9 8 7 0 7 9 9 1 7 7 9 8 2 1 8 0 5 3 1 3 9 9 3 6]\n",
      "[1 1 1 1 1 1 1 1 1 1 1 1 1 1 1 1 1 1 1 1 1 1 1 1 1 1 1 1 1 1 1 1]\n"
     ]
    }
   ],
   "source": [
    "m = Model()\n",
    "print(sum(p.numel() for p in m.parameters()))\n",
    "# print(m.parameters())\n",
    "x = np.random.rand(32, 3, 32, 32).astype(\"float32\")\n",
    "y_pred = m(x)\n",
    "print(y_pred[:2])\n",
    "y = np.random.randint(0, 10, (32,), dtype=\"int64\")\n",
    "print(y)\n",
    "print(y_pred.argmax(1, False).to_numpy())"
   ]
  },
  {
   "cell_type": "code",
   "execution_count": 603,
   "id": "e1c74bab-fa4e-44de-a925-b2faf2f9efdc",
   "metadata": {
    "editable": true,
    "slideshow": {
     "slide_type": ""
    },
    "tags": []
   },
   "outputs": [
    {
     "name": "stdout",
     "output_type": "stream",
     "text": [
      "2.2426698207855225\n",
      "2.240192413330078\n"
     ]
    }
   ],
   "source": [
    "los = pv.nn.loss.CrossEntropyLoss()\n",
    "opt = pv.optim.SGD(m.parameters())\n",
    "y_pred = m(x)\n",
    "loss = los(y, y_pred)\n",
    "print(loss.item())\n",
    "loss.backward()\n",
    "opt._step()\n",
    "y_pred = m(x)\n",
    "loss = los(y, y_pred)\n",
    "print(loss.item())"
   ]
  },
  {
   "cell_type": "code",
   "execution_count": 125,
   "id": "88ae849d-1f57-4e4b-8e2b-bdbf15568686",
   "metadata": {
    "editable": true,
    "scrolled": true,
    "slideshow": {
     "slide_type": ""
    },
    "tags": []
   },
   "outputs": [
    {
     "name": "stdout",
     "output_type": "stream",
     "text": [
      "epoch 1 \t loss 2.3100802898406982\n",
      "[0 8 8 4 8 9 0 2 9 8 7 0 7 9 9 1 7 7 9 8 2 1 8 0 5 3 1 3 9 9 3 6]\n",
      "[1 1 1 1 1 1 1 1 1 1 1 1 1 1 1 1 1 1 1 1 1 1 1 1 1 1 1 1 1 1 1 1]\n",
      "correct: 3\n",
      "\n",
      "epoch 2 \t loss 2.3045542240142822\n",
      "[0 8 8 4 8 9 0 2 9 8 7 0 7 9 9 1 7 7 9 8 2 1 8 0 5 3 1 3 9 9 3 6]\n",
      "[1 1 1 1 1 1 1 1 1 1 1 1 1 1 1 1 1 1 1 1 1 1 1 1 1 1 1 1 1 1 1 1]\n",
      "correct: 3\n",
      "\n",
      "epoch 3 \t loss 2.2939271926879883\n",
      "[0 8 8 4 8 9 0 2 9 8 7 0 7 9 9 1 7 7 9 8 2 1 8 0 5 3 1 3 9 9 3 6]\n",
      "[1 1 1 1 1 1 1 1 1 1 1 1 1 1 1 1 1 1 1 1 1 1 1 1 1 1 1 1 1 1 1 1]\n",
      "correct: 3\n",
      "\n",
      "epoch 4 \t loss 2.278923749923706\n",
      "[0 8 8 4 8 9 0 2 9 8 7 0 7 9 9 1 7 7 9 8 2 1 8 0 5 3 1 3 9 9 3 6]\n",
      "[8 1 1 8 8 8 1 1 8 8 1 8 8 8 8 1 8 8 1 1 8 8 8 8 8 9 8 8 1 8 8 8]\n",
      "correct: 4\n",
      "\n",
      "epoch 5 \t loss 2.2604002952575684\n",
      "[0 8 8 4 8 9 0 2 9 8 7 0 7 9 9 1 7 7 9 8 2 1 8 0 5 3 1 3 9 9 3 6]\n",
      "[9 9 9 9 9 8 9 9 9 9 9 9 8 9 9 9 9 9 9 9 8 9 9 9 9 9 9 9 9 9 9 9]\n",
      "correct: 6\n",
      "\n",
      "epoch 6 \t loss 2.2392382621765137\n",
      "[0 8 8 4 8 9 0 2 9 8 7 0 7 9 9 1 7 7 9 8 2 1 8 0 5 3 1 3 9 9 3 6]\n",
      "[9 9 9 9 9 9 9 9 9 9 9 9 9 9 9 9 9 9 9 9 9 9 9 9 9 9 9 9 9 9 9 9]\n",
      "correct: 7\n",
      "\n",
      "epoch 7 \t loss 2.2163994312286377\n",
      "[0 8 8 4 8 9 0 2 9 8 7 0 7 9 9 1 7 7 9 8 2 1 8 0 5 3 1 3 9 9 3 6]\n",
      "[9 9 9 9 9 9 9 9 9 9 9 9 9 9 9 9 9 9 9 9 9 9 9 9 9 9 9 9 9 9 9 9]\n",
      "correct: 7\n",
      "\n",
      "epoch 8 \t loss 2.1932225227355957\n",
      "[0 8 8 4 8 9 0 2 9 8 7 0 7 9 9 1 7 7 9 8 2 1 8 0 5 3 1 3 9 9 3 6]\n",
      "[9 9 9 9 9 9 9 9 9 9 9 9 9 9 9 9 9 9 9 9 9 9 9 9 9 9 9 9 9 9 9 9]\n",
      "correct: 7\n",
      "\n",
      "epoch 9 \t loss 2.17195463180542\n",
      "[0 8 8 4 8 9 0 2 9 8 7 0 7 9 9 1 7 7 9 8 2 1 8 0 5 3 1 3 9 9 3 6]\n",
      "[9 9 9 9 9 9 9 9 9 9 9 9 9 9 9 9 9 9 9 9 9 9 9 9 9 9 9 9 9 9 9 9]\n",
      "correct: 7\n",
      "\n",
      "epoch 10 \t loss 2.156395673751831\n",
      "[0 8 8 4 8 9 0 2 9 8 7 0 7 9 9 1 7 7 9 8 2 1 8 0 5 3 1 3 9 9 3 6]\n",
      "[9 9 9 9 9 9 9 9 9 9 9 9 9 9 9 9 9 9 9 9 9 9 9 9 9 9 9 9 9 9 9 9]\n",
      "correct: 7\n",
      "\n",
      "epoch 11 \t loss 2.1511666774749756\n",
      "[0 8 8 4 8 9 0 2 9 8 7 0 7 9 9 1 7 7 9 8 2 1 8 0 5 3 1 3 9 9 3 6]\n",
      "[9 9 9 9 9 9 9 9 9 9 9 9 9 9 9 9 9 9 9 9 9 9 9 9 9 9 9 9 9 9 9 9]\n",
      "correct: 7\n",
      "\n",
      "epoch 12 \t loss 2.1570777893066406\n",
      "[0 8 8 4 8 9 0 2 9 8 7 0 7 9 9 1 7 7 9 8 2 1 8 0 5 3 1 3 9 9 3 6]\n",
      "[9 9 9 9 9 9 9 9 9 9 9 9 9 9 9 9 9 9 9 9 9 9 9 9 9 9 9 9 9 9 9 9]\n",
      "correct: 7\n",
      "\n",
      "epoch 13 \t loss 2.1644833087921143\n",
      "[0 8 8 4 8 9 0 2 9 8 7 0 7 9 9 1 7 7 9 8 2 1 8 0 5 3 1 3 9 9 3 6]\n",
      "[9 9 9 9 9 9 9 9 9 9 9 9 9 9 9 9 9 9 9 9 9 9 9 9 9 9 9 9 9 9 9 9]\n",
      "correct: 7\n",
      "\n",
      "epoch 14 \t loss 2.158724546432495\n",
      "[0 8 8 4 8 9 0 2 9 8 7 0 7 9 9 1 7 7 9 8 2 1 8 0 5 3 1 3 9 9 3 6]\n",
      "[9 9 9 9 9 9 9 9 9 9 9 9 9 9 9 9 9 9 9 9 9 9 9 9 9 9 9 9 9 9 9 9]\n",
      "correct: 7\n",
      "\n",
      "epoch 15 \t loss 2.1384148597717285\n",
      "[0 8 8 4 8 9 0 2 9 8 7 0 7 9 9 1 7 7 9 8 2 1 8 0 5 3 1 3 9 9 3 6]\n",
      "[9 9 9 9 9 9 9 9 9 9 9 9 9 9 9 9 9 9 9 9 9 9 9 9 9 9 9 9 9 9 9 9]\n",
      "correct: 7\n",
      "\n",
      "epoch 16 \t loss 2.1158158779144287\n",
      "[0 8 8 4 8 9 0 2 9 8 7 0 7 9 9 1 7 7 9 8 2 1 8 0 5 3 1 3 9 9 3 6]\n",
      "[9 9 9 9 9 9 9 9 9 9 9 9 9 9 9 9 9 9 9 9 9 9 9 9 9 9 9 9 9 9 9 9]\n",
      "correct: 7\n",
      "\n",
      "epoch 17 \t loss 2.100588321685791\n",
      "[0 8 8 4 8 9 0 2 9 8 7 0 7 9 9 1 7 7 9 8 2 1 8 0 5 3 1 3 9 9 3 6]\n",
      "[8 8 8 8 8 8 8 8 9 8 9 8 8 9 8 8 8 8 9 8 8 8 8 8 8 9 8 9 9 8 8 8]\n",
      "correct: 10\n",
      "\n",
      "epoch 18 \t loss 2.0942258834838867\n",
      "[0 8 8 4 8 9 0 2 9 8 7 0 7 9 9 1 7 7 9 8 2 1 8 0 5 3 1 3 9 9 3 6]\n",
      "[8 8 8 8 8 8 8 8 8 8 8 8 8 8 8 8 8 8 8 8 8 8 8 8 8 8 8 8 8 8 8 8]\n",
      "correct: 6\n",
      "\n",
      "epoch 19 \t loss 2.0938568115234375\n",
      "[0 8 8 4 8 9 0 2 9 8 7 0 7 9 9 1 7 7 9 8 2 1 8 0 5 3 1 3 9 9 3 6]\n",
      "[8 8 8 8 8 8 8 8 8 8 8 8 8 8 8 8 8 8 8 8 8 8 8 8 8 8 8 8 8 8 8 8]\n",
      "correct: 6\n",
      "\n",
      "epoch 20 \t loss 2.0955922603607178\n",
      "[0 8 8 4 8 9 0 2 9 8 7 0 7 9 9 1 7 7 9 8 2 1 8 0 5 3 1 3 9 9 3 6]\n",
      "[8 8 8 8 8 8 8 8 8 8 8 8 8 8 8 8 8 8 8 8 8 8 8 8 8 8 8 8 8 8 8 8]\n",
      "correct: 6\n",
      "\n",
      "epoch 21 \t loss 2.095872640609741\n",
      "[0 8 8 4 8 9 0 2 9 8 7 0 7 9 9 1 7 7 9 8 2 1 8 0 5 3 1 3 9 9 3 6]\n",
      "[0 8 8 8 8 8 0 8 8 8 0 0 8 8 0 0 0 0 0 8 8 8 8 0 0 8 0 0 0 0 8 8]\n",
      "correct: 10\n",
      "\n",
      "epoch 22 \t loss 2.0923261642456055\n",
      "[0 8 8 4 8 9 0 2 9 8 7 0 7 9 9 1 7 7 9 8 2 1 8 0 5 3 1 3 9 9 3 6]\n",
      "[0 8 8 0 8 9 0 0 9 8 9 0 0 9 9 9 0 0 9 8 8 9 8 0 0 9 0 9 9 9 9 0]\n",
      "correct: 17\n",
      "\n",
      "epoch 23 \t loss 2.084437131881714\n",
      "[0 8 8 4 8 9 0 2 9 8 7 0 7 9 9 1 7 7 9 8 2 1 8 0 5 3 1 3 9 9 3 6]\n",
      "[0 9 9 9 8 9 9 9 9 9 9 9 9 9 9 9 9 9 9 9 9 9 8 9 9 9 9 9 9 9 9 9]\n",
      "correct: 10\n",
      "\n",
      "epoch 24 \t loss 2.073589563369751\n",
      "[0 8 8 4 8 9 0 2 9 8 7 0 7 9 9 1 7 7 9 8 2 1 8 0 5 3 1 3 9 9 3 6]\n",
      "[9 9 9 9 9 9 9 9 9 9 9 9 9 9 9 9 9 9 9 9 9 9 9 9 9 9 9 9 9 9 9 9]\n",
      "correct: 7\n",
      "\n",
      "epoch 25 \t loss 2.0622379779815674\n",
      "[0 8 8 4 8 9 0 2 9 8 7 0 7 9 9 1 7 7 9 8 2 1 8 0 5 3 1 3 9 9 3 6]\n",
      "[9 9 9 9 9 9 9 9 9 9 9 9 9 9 9 9 9 9 9 9 9 9 9 9 9 9 9 9 9 9 9 9]\n",
      "correct: 7\n",
      "\n",
      "epoch 26 \t loss 2.0527422428131104\n",
      "[0 8 8 4 8 9 0 2 9 8 7 0 7 9 9 1 7 7 9 8 2 1 8 0 5 3 1 3 9 9 3 6]\n",
      "[9 9 9 9 9 9 9 9 9 9 9 9 9 9 9 9 9 9 9 9 9 9 9 9 9 9 9 9 9 9 9 9]\n",
      "correct: 7\n",
      "\n",
      "epoch 27 \t loss 2.0464978218078613\n",
      "[0 8 8 4 8 9 0 2 9 8 7 0 7 9 9 1 7 7 9 8 2 1 8 0 5 3 1 3 9 9 3 6]\n",
      "[9 9 9 9 9 9 9 9 9 9 9 9 9 9 9 9 9 9 9 9 9 9 9 9 9 9 9 9 9 9 9 9]\n",
      "correct: 7\n",
      "\n",
      "epoch 28 \t loss 2.043654441833496\n",
      "[0 8 8 4 8 9 0 2 9 8 7 0 7 9 9 1 7 7 9 8 2 1 8 0 5 3 1 3 9 9 3 6]\n",
      "[9 9 9 9 9 9 9 9 9 9 9 9 9 9 9 9 9 9 9 9 9 9 9 9 9 9 9 9 9 9 9 9]\n",
      "correct: 7\n",
      "\n",
      "epoch 29 \t loss 2.0434513092041016\n",
      "[0 8 8 4 8 9 0 2 9 8 7 0 7 9 9 1 7 7 9 8 2 1 8 0 5 3 1 3 9 9 3 6]\n",
      "[9 9 9 9 9 9 9 9 9 9 9 9 9 9 9 9 9 9 9 9 9 9 9 9 9 9 9 9 9 9 9 9]\n",
      "correct: 7\n",
      "\n",
      "epoch 30 \t loss 2.0444893836975098\n",
      "[0 8 8 4 8 9 0 2 9 8 7 0 7 9 9 1 7 7 9 8 2 1 8 0 5 3 1 3 9 9 3 6]\n",
      "[9 9 9 9 8 9 9 9 9 8 9 9 9 9 9 9 9 9 9 9 9 9 8 9 9 9 9 9 9 9 9 9]\n",
      "correct: 10\n",
      "\n",
      "epoch 31 \t loss 2.045180320739746\n",
      "[0 8 8 4 8 9 0 2 9 8 7 0 7 9 9 1 7 7 9 8 2 1 8 0 5 3 1 3 9 9 3 6]\n",
      "[9 8 8 9 8 9 9 9 9 8 9 9 9 9 9 9 9 9 9 8 9 9 8 9 9 9 9 9 9 9 9 9]\n",
      "correct: 13\n",
      "\n",
      "epoch 32 \t loss 2.044055938720703\n",
      "[0 8 8 4 8 9 0 2 9 8 7 0 7 9 9 1 7 7 9 8 2 1 8 0 5 3 1 3 9 9 3 6]\n",
      "[8 8 8 8 8 9 8 8 9 8 9 8 9 9 9 9 9 9 9 8 8 9 8 8 9 9 9 9 9 9 9 9]\n",
      "correct: 13\n",
      "\n",
      "epoch 33 \t loss 2.039966583251953\n",
      "[0 8 8 4 8 9 0 2 9 8 7 0 7 9 9 1 7 7 9 8 2 1 8 0 5 3 1 3 9 9 3 6]\n",
      "[8 8 8 8 8 9 8 8 9 8 9 8 8 9 9 9 8 8 9 8 8 9 8 8 8 9 9 9 9 9 9 8]\n",
      "correct: 13\n",
      "\n",
      "epoch 34 \t loss 2.032353401184082\n",
      "[0 8 8 4 8 9 0 2 9 8 7 0 7 9 9 1 7 7 9 8 2 1 8 0 5 3 1 3 9 9 3 6]\n",
      "[8 8 8 8 8 8 8 8 9 8 9 8 8 9 9 9 8 8 9 8 8 8 8 8 8 9 9 8 9 9 8 8]\n",
      "correct: 12\n",
      "\n",
      "epoch 35 \t loss 2.0212810039520264\n",
      "[0 8 8 4 8 9 0 2 9 8 7 0 7 9 9 1 7 7 9 8 2 1 8 0 5 3 1 3 9 9 3 6]\n",
      "[8 8 8 8 8 8 8 8 9 8 9 8 8 9 9 9 8 8 9 8 8 8 8 8 8 9 9 8 9 9 8 8]\n",
      "correct: 12\n",
      "\n",
      "epoch 36 \t loss 2.0072693824768066\n",
      "[0 8 8 4 8 9 0 2 9 8 7 0 7 9 9 1 7 7 9 8 2 1 8 0 5 3 1 3 9 9 3 6]\n",
      "[8 8 8 8 8 8 8 8 9 8 9 8 8 9 9 9 8 8 9 8 8 8 8 8 8 9 9 8 9 9 8 8]\n",
      "correct: 12\n",
      "\n",
      "epoch 37 \t loss 1.9912029504776\n",
      "[0 8 8 4 8 9 0 2 9 8 7 0 7 9 9 1 7 7 9 8 2 1 8 0 5 3 1 3 9 9 3 6]\n",
      "[8 8 8 8 8 9 8 8 9 8 9 8 8 9 9 9 8 8 9 8 8 9 8 8 8 9 9 8 9 9 8 8]\n",
      "correct: 13\n",
      "\n",
      "epoch 38 \t loss 1.9740710258483887\n",
      "[0 8 8 4 8 9 0 2 9 8 7 0 7 9 9 1 7 7 9 8 2 1 8 0 5 3 1 3 9 9 3 6]\n",
      "[8 8 8 8 8 9 8 8 9 8 9 8 8 9 9 9 8 9 9 8 8 9 8 8 8 9 9 9 9 9 9 8]\n",
      "correct: 13\n",
      "\n",
      "epoch 39 \t loss 1.957233190536499\n",
      "[0 8 8 4 8 9 0 2 9 8 7 0 7 9 9 1 7 7 9 8 2 1 8 0 5 3 1 3 9 9 3 6]\n",
      "[8 8 8 8 8 9 8 8 9 8 9 8 9 9 9 9 9 9 9 8 8 9 8 8 8 9 9 9 9 9 9 8]\n",
      "correct: 13\n",
      "\n",
      "epoch 40 \t loss 1.9424604177474976\n",
      "[0 8 8 4 8 9 0 2 9 8 7 0 7 9 9 1 7 7 9 8 2 1 8 0 5 3 1 3 9 9 3 6]\n",
      "[8 8 8 9 8 9 8 8 9 8 9 9 9 9 9 9 9 9 9 8 8 9 8 9 9 9 9 9 9 9 9 9]\n",
      "correct: 13\n",
      "\n",
      "epoch 41 \t loss 1.9308254718780518\n",
      "[0 8 8 4 8 9 0 2 9 8 7 0 7 9 9 1 7 7 9 8 2 1 8 0 5 3 1 3 9 9 3 6]\n",
      "[9 8 8 9 8 9 9 8 9 8 9 9 9 9 9 9 9 9 9 8 9 9 8 9 9 9 9 9 9 9 9 9]\n",
      "correct: 13\n",
      "\n",
      "epoch 42 \t loss 1.9187839031219482\n",
      "[0 8 8 4 8 9 0 2 9 8 7 0 7 9 9 1 7 7 9 8 2 1 8 0 5 3 1 3 9 9 3 6]\n",
      "[0 8 8 9 8 9 9 8 9 8 9 9 9 9 9 9 9 9 9 8 9 9 8 9 9 9 9 9 9 9 9 9]\n",
      "correct: 14\n",
      "\n",
      "epoch 43 \t loss 1.899126410484314\n",
      "[0 8 8 4 8 9 0 2 9 8 7 0 7 9 9 1 7 7 9 8 2 1 8 0 5 3 1 3 9 9 3 6]\n",
      "[0 8 8 9 8 9 9 9 9 8 9 0 9 9 9 9 9 9 9 8 9 9 8 9 9 9 9 9 9 9 9 9]\n",
      "correct: 15\n",
      "\n",
      "epoch 44 \t loss 1.8749253749847412\n",
      "[0 8 8 4 8 9 0 2 9 8 7 0 7 9 9 1 7 7 9 8 2 1 8 0 5 3 1 3 9 9 3 6]\n",
      "[0 8 8 9 8 9 0 9 9 8 9 0 9 9 9 9 9 9 9 8 9 9 8 9 9 9 9 9 9 9 9 9]\n",
      "correct: 16\n",
      "\n",
      "epoch 45 \t loss 1.857015609741211\n",
      "[0 8 8 4 8 9 0 2 9 8 7 0 7 9 9 1 7 7 9 8 2 1 8 0 5 3 1 3 9 9 3 6]\n",
      "[0 8 8 9 8 9 0 9 9 8 9 0 9 9 9 9 9 9 9 8 9 9 8 9 9 9 9 9 9 9 9 9]\n",
      "correct: 16\n",
      "\n",
      "epoch 46 \t loss 1.8393415212631226\n",
      "[0 8 8 4 8 9 0 2 9 8 7 0 7 9 9 1 7 7 9 8 2 1 8 0 5 3 1 3 9 9 3 6]\n",
      "[0 8 8 9 8 9 0 9 9 8 9 0 9 9 9 9 9 9 9 8 9 9 8 9 9 9 9 9 9 9 9 9]\n",
      "correct: 16\n",
      "\n",
      "epoch 47 \t loss 1.8043229579925537\n",
      "[0 8 8 4 8 9 0 2 9 8 7 0 7 9 9 1 7 7 9 8 2 1 8 0 5 3 1 3 9 9 3 6]\n",
      "[0 8 8 9 8 9 9 9 9 8 9 9 9 9 9 9 9 9 9 8 9 9 8 9 9 9 9 9 9 9 9 9]\n",
      "correct: 14\n",
      "\n",
      "epoch 48 \t loss 1.759644627571106\n",
      "[0 8 8 4 8 9 0 2 9 8 7 0 7 9 9 1 7 7 9 8 2 1 8 0 5 3 1 3 9 9 3 6]\n",
      "[9 8 8 9 8 9 9 9 9 8 9 9 9 9 9 9 9 9 9 8 9 9 8 9 9 9 9 9 9 9 9 9]\n",
      "correct: 13\n",
      "\n",
      "epoch 49 \t loss 1.7354936599731445\n",
      "[0 8 8 4 8 9 0 2 9 8 7 0 7 9 9 1 7 7 9 8 2 1 8 0 5 3 1 3 9 9 3 6]\n",
      "[9 8 8 9 8 9 9 9 9 8 9 9 9 9 9 9 9 9 9 8 9 9 8 9 9 9 9 9 9 9 9 9]\n",
      "correct: 13\n",
      "\n",
      "epoch 50 \t loss 1.6809090375900269\n",
      "[0 8 8 4 8 9 0 2 9 8 7 0 7 9 9 1 7 7 9 8 2 1 8 0 5 3 1 3 9 9 3 6]\n",
      "[9 8 8 9 8 9 9 9 9 8 9 9 9 9 9 9 9 9 9 8 9 9 8 9 9 9 9 9 9 9 9 9]\n",
      "correct: 13\n",
      "\n",
      "epoch 51 \t loss 1.6262787580490112\n",
      "[0 8 8 4 8 9 0 2 9 8 7 0 7 9 9 1 7 7 9 8 2 1 8 0 5 3 1 3 9 9 3 6]\n",
      "[0 8 8 9 8 9 9 8 9 8 9 9 9 9 9 9 9 9 9 8 9 9 8 9 9 9 9 9 9 9 9 9]\n",
      "correct: 14\n",
      "\n",
      "epoch 52 \t loss 1.5825562477111816\n",
      "[0 8 8 4 8 9 0 2 9 8 7 0 7 9 9 1 7 7 9 8 2 1 8 0 5 3 1 3 9 9 3 6]\n",
      "[0 8 8 9 8 9 9 8 9 8 9 9 9 9 9 9 9 9 9 8 9 9 8 9 9 9 9 9 9 9 9 9]\n",
      "correct: 14\n",
      "\n",
      "epoch 53 \t loss 1.4947242736816406\n",
      "[0 8 8 4 8 9 0 2 9 8 7 0 7 9 9 1 7 7 9 8 2 1 8 0 5 3 1 3 9 9 3 6]\n",
      "[0 8 8 9 8 9 9 8 9 8 9 0 9 9 9 9 9 9 9 8 8 9 8 0 9 9 9 9 9 9 9 9]\n",
      "correct: 16\n",
      "\n",
      "epoch 54 \t loss 1.4497640132904053\n",
      "[0 8 8 4 8 9 0 2 9 8 7 0 7 9 9 1 7 7 9 8 2 1 8 0 5 3 1 3 9 9 3 6]\n",
      "[8 8 8 8 8 9 8 8 9 8 9 0 9 9 9 9 9 9 9 8 8 9 8 8 9 9 9 9 9 9 9 9]\n",
      "correct: 14\n",
      "\n",
      "epoch 55 \t loss 1.3377574682235718\n",
      "[0 8 8 4 8 9 0 2 9 8 7 0 7 9 9 1 7 7 9 8 2 1 8 0 5 3 1 3 9 9 3 6]\n",
      "[0 8 8 8 8 9 0 8 9 8 9 0 9 9 9 9 9 9 9 8 8 1 8 0 8 9 9 9 9 9 9 8]\n",
      "correct: 18\n",
      "\n",
      "epoch 56 \t loss 1.2736202478408813\n",
      "[0 8 8 4 8 9 0 2 9 8 7 0 7 9 9 1 7 7 9 8 2 1 8 0 5 3 1 3 9 9 3 6]\n",
      "[0 8 8 8 8 9 0 8 9 8 7 0 7 9 9 1 7 7 9 8 2 1 8 0 8 9 1 9 9 9 9 8]\n",
      "correct: 25\n",
      "\n",
      "epoch 57 \t loss 1.1285148859024048\n",
      "[0 8 8 4 8 9 0 2 9 8 7 0 7 9 9 1 7 7 9 8 2 1 8 0 5 3 1 3 9 9 3 6]\n",
      "[0 8 8 8 8 9 0 8 9 8 7 0 9 9 9 1 7 7 9 8 2 1 8 0 8 9 1 9 9 9 9 8]\n",
      "correct: 24\n",
      "\n",
      "epoch 58 \t loss 1.038536787033081\n",
      "[0 8 8 4 8 9 0 2 9 8 7 0 7 9 9 1 7 7 9 8 2 1 8 0 5 3 1 3 9 9 3 6]\n",
      "[0 8 8 8 8 9 0 8 9 8 7 0 9 9 9 9 7 7 9 8 8 1 8 0 5 9 1 3 9 9 3 9]\n",
      "correct: 25\n",
      "\n",
      "epoch 59 \t loss 0.9142416715621948\n",
      "[0 8 8 4 8 9 0 2 9 8 7 0 7 9 9 1 7 7 9 8 2 1 8 0 5 3 1 3 9 9 3 6]\n",
      "[0 8 8 9 8 9 0 2 9 8 7 0 7 9 9 1 7 7 9 8 2 1 8 0 9 9 1 9 9 9 9 9]\n",
      "correct: 26\n",
      "\n",
      "epoch 60 \t loss 0.7431364059448242\n",
      "[0 8 8 4 8 9 0 2 9 8 7 0 7 9 9 1 7 7 9 8 2 1 8 0 5 3 1 3 9 9 3 6]\n",
      "[0 8 8 9 8 9 0 2 9 8 7 0 7 9 9 1 7 7 9 8 2 1 8 0 0 3 1 3 9 9 3 9]\n",
      "correct: 29\n",
      "\n",
      "epoch 61 \t loss 0.7005928754806519\n",
      "[0 8 8 4 8 9 0 2 9 8 7 0 7 9 9 1 7 7 9 8 2 1 8 0 5 3 1 3 9 9 3 6]\n",
      "[0 8 8 4 8 9 0 8 9 8 7 0 7 9 9 1 7 7 9 8 2 1 8 0 5 3 1 3 9 9 3 6]\n",
      "correct: 31\n",
      "\n",
      "epoch 62 \t loss 0.6553186178207397\n",
      "[0 8 8 4 8 9 0 2 9 8 7 0 7 9 9 1 7 7 9 8 2 1 8 0 5 3 1 3 9 9 3 6]\n",
      "[0 8 8 0 8 9 0 2 9 8 7 0 7 9 9 1 7 7 9 8 2 1 8 0 0 3 1 3 9 9 2 9]\n",
      "correct: 28\n",
      "\n",
      "epoch 63 \t loss 0.37582075595855713\n",
      "[0 8 8 4 8 9 0 2 9 8 7 0 7 9 9 1 7 7 9 8 2 1 8 0 5 3 1 3 9 9 3 6]\n",
      "[0 8 8 4 8 9 0 2 9 8 7 0 7 9 9 1 7 7 9 8 2 1 8 0 5 3 1 3 9 9 3 6]\n",
      "correct: 32\n",
      "\n",
      "done\n"
     ]
    }
   ],
   "source": [
    "for i in range(1, 101):\n",
    "    print(f\"epoch {i} \\t loss \", end=\"\")\n",
    "    los = pv.nn.loss.CrossEntropyLoss()\n",
    "    opt = pv.optim.SGD(m.parameters())\n",
    "    y_pred = m(x)\n",
    "    loss = los(y, y_pred)\n",
    "    print(loss.item())\n",
    "    y_p = y_pred.argmax(1, False).to_numpy()\n",
    "    s = sum(y_p == y)\n",
    "    print(y)\n",
    "    print(y_p)\n",
    "    print(f\"correct: {s}\")\n",
    "    print()\n",
    "    if s == y.shape[0]:\n",
    "        print(\"done\")\n",
    "        break\n",
    "    loss.backward()\n",
    "    opt._step()"
   ]
  },
  {
   "cell_type": "code",
   "execution_count": null,
   "id": "e9e9da4d-5511-4d9e-9263-2fa371339423",
   "metadata": {
    "editable": true,
    "slideshow": {
     "slide_type": ""
    },
    "tags": []
   },
   "outputs": [],
   "source": [
    "print(y)\n",
    "print(y_pred.argmax(1, False).to_numpy())"
   ]
  },
  {
   "cell_type": "code",
   "execution_count": null,
   "id": "2234be2c-4cbd-4dd6-b86a-9968832ad5fd",
   "metadata": {
    "editable": true,
    "scrolled": true,
    "slideshow": {
     "slide_type": ""
    },
    "tags": []
   },
   "outputs": [],
   "source": [
    "print(y_pred)"
   ]
  },
  {
   "cell_type": "code",
   "execution_count": 568,
   "id": "e540d960-0e5f-4a5d-94ae-aa1dc1117cf4",
   "metadata": {
    "editable": true,
    "slideshow": {
     "slide_type": ""
    },
    "tags": []
   },
   "outputs": [],
   "source": [
    "for i in range(30):\n",
    "    m.parameters()[1][i] = 0"
   ]
  },
  {
   "cell_type": "code",
   "execution_count": null,
   "id": "55f57c93-e3b2-4ba1-af05-c874baa0d9a7",
   "metadata": {
    "editable": true,
    "slideshow": {
     "slide_type": ""
    },
    "tags": []
   },
   "outputs": [],
   "source": [
    "m.parameters()[1]"
   ]
  },
  {
   "cell_type": "code",
   "execution_count": 6,
   "id": "782558c0-de0b-4d2b-9fa5-2fb201cbe0be",
   "metadata": {},
   "outputs": [
    {
     "data": {
      "text/plain": [
       "17104"
      ]
     },
     "execution_count": 6,
     "metadata": {},
     "output_type": "execute_result"
    }
   ],
   "source": [
    "513*32+33*16+16*10"
   ]
  },
  {
   "cell_type": "code",
   "execution_count": 6,
   "id": "b45dad17-a893-4ecc-a770-0fbd5a31cc07",
   "metadata": {},
   "outputs": [
    {
     "data": {
      "text/plain": [
       "1089.0"
      ]
     },
     "execution_count": 6,
     "metadata": {},
     "output_type": "execute_result"
    }
   ],
   "source": [
    "17424/16"
   ]
  },
  {
   "cell_type": "code",
   "execution_count": 7,
   "id": "b11c2060-1269-47f0-a264-b5012a79a913",
   "metadata": {},
   "outputs": [
    {
     "data": {
      "text/plain": [
       "1089"
      ]
     },
     "execution_count": 7,
     "metadata": {},
     "output_type": "execute_result"
    }
   ],
   "source": [
    "33*33"
   ]
  },
  {
   "cell_type": "code",
   "execution_count": 8,
   "id": "82ae4e93-6491-4d58-b67c-823e306c65d6",
   "metadata": {
    "editable": true,
    "scrolled": true,
    "slideshow": {
     "slide_type": ""
    },
    "tags": []
   },
   "outputs": [
    {
     "name": "stdout",
     "output_type": "stream",
     "text": [
      "[[[[0.7184945,0.7184945,0.7184945,...,0.7184945,0.7184945,0.7184945],\n",
      "   [0.7184945,0.7184945,0.7184945,...,0.7184945,0.7184945,0.7184945],\n",
      "   [0.7184945,0.7184945,0.7184945,...,0.7184945,0.7184945,0.7184945],\n",
      "   ...,\n",
      "   [0.7184945,0.7184945,0.7184945,...,0.7184945,0.7184945,0.7184945],\n",
      "   [0.7184945,0.7184945,0.7184945,...,0.7184945,0.7184945,0.7184945],\n",
      "   [0.7184945,0.7184945,0.7184945,...,0.7184945,0.7184945,0.7184945]]],\n",
      "\n",
      "\n",
      " [[[0.7184945,0.7184945,0.7184945,...,0.7184945,0.7184945,0.7184945],\n",
      "   [0.7184945,0.7184945,0.7184945,...,0.7184945,0.7184945,0.7184945],\n",
      "   [0.7184945,0.7184945,0.7184945,...,0.7184945,0.7184945,0.7184945],\n",
      "   ...,\n",
      "   [0.7184945,0.7184945,0.7184945,...,0.7184945,0.7184945,0.7184945],\n",
      "   [0.7184945,0.7184945,0.7184945,...,0.7184945,0.7184945,0.7184945],\n",
      "   [0.7184945,0.7184945,0.7184945,...,0.7184945,0.7184945,0.7184945]]],\n",
      "\n",
      "\n",
      " [[[0.7184945,0.7184945,0.7184945,...,0.7184945,0.7184945,0.7184945],\n",
      "   [0.7184945,0.7184945,0.7184945,...,0.7184945,0.7184945,0.7184945],\n",
      "   [0.7184945,0.7184945,0.7184945,...,0.7184945,0.7184945,0.7184945],\n",
      "   ...,\n",
      "   [0.7184945,0.7184945,0.7184945,...,0.7184945,0.7184945,0.7184945],\n",
      "   [0.7184945,0.7184945,0.7184945,...,0.7184945,0.7184945,0.7184945],\n",
      "   [0.7184945,0.7184945,0.7184945,...,0.7184945,0.7184945,0.7184945]]],\n",
      "\n",
      "\n",
      " ...,\n",
      "\n",
      "\n",
      " [[[0.7184945,0.7184945,0.7184945,...,0.7184945,0.7184945,0.7184945],\n",
      "   [0.7184945,0.7184945,0.7184945,...,0.7184945,0.7184945,0.7184945],\n",
      "   [0.7184945,0.7184945,0.7184945,...,0.7184945,0.7184945,0.7184945],\n",
      "   ...,\n",
      "   [0.7184945,0.7184945,0.7184945,...,0.7184945,0.7184945,0.7184945],\n",
      "   [0.7184945,0.7184945,0.7184945,...,0.7184945,0.7184945,0.7184945],\n",
      "   [0.7184945,0.7184945,0.7184945,...,0.7184945,0.7184945,0.7184945]]],\n",
      "\n",
      "\n",
      " [[[0.7184945,0.7184945,0.7184945,...,0.7184945,0.7184945,0.7184945],\n",
      "   [0.7184945,0.7184945,0.7184945,...,0.7184945,0.7184945,0.7184945],\n",
      "   [0.7184945,0.7184945,0.7184945,...,0.7184945,0.7184945,0.7184945],\n",
      "   ...,\n",
      "   [0.7184945,0.7184945,0.7184945,...,0.7184945,0.7184945,0.7184945],\n",
      "   [0.7184945,0.7184945,0.7184945,...,0.7184945,0.7184945,0.7184945],\n",
      "   [0.7184945,0.7184945,0.7184945,...,0.7184945,0.7184945,0.7184945]]],\n",
      "\n",
      "\n",
      " [[[0.7184945,0.7184945,0.7184945,...,0.7184945,0.7184945,0.7184945],\n",
      "   [0.7184945,0.7184945,0.7184945,...,0.7184945,0.7184945,0.7184945],\n",
      "   [0.7184945,0.7184945,0.7184945,...,0.7184945,0.7184945,0.7184945],\n",
      "   ...,\n",
      "   [0.7184945,0.7184945,0.7184945,...,0.7184945,0.7184945,0.7184945],\n",
      "   [0.7184945,0.7184945,0.7184945,...,0.7184945,0.7184945,0.7184945],\n",
      "   [0.7184945,0.7184945,0.7184945,...,0.7184945,0.7184945,0.7184945]]]]\n"
     ]
    }
   ],
   "source": [
    "from pyvqnet.tensor import tensor\n",
    "from pyvqnet.qnn.qcnn.qconv import QConv\n",
    "x = tensor.ones([16,3,32,32])\n",
    "layer = QConv(input_channels=3, output_channels=1, quantum_number=4, stride=(1, 1))\n",
    "y = layer(x)\n",
    "print(y)"
   ]
  },
  {
   "cell_type": "code",
   "execution_count": 9,
   "id": "e822418f-ce00-4d10-99a6-2685319024b4",
   "metadata": {
    "editable": true,
    "slideshow": {
     "slide_type": ""
    },
    "tags": []
   },
   "outputs": [
    {
     "ename": "KeyboardInterrupt",
     "evalue": "",
     "output_type": "error",
     "traceback": [
      "\u001b[1;31m---------------------------------------------------------------------------\u001b[0m",
      "\u001b[1;31mKeyboardInterrupt\u001b[0m                         Traceback (most recent call last)",
      "Cell \u001b[1;32mIn[9], line 1\u001b[0m\n\u001b[1;32m----> 1\u001b[0m \u001b[43my\u001b[49m\u001b[38;5;241;43m.\u001b[39;49m\u001b[43mbackward\u001b[49m\u001b[43m(\u001b[49m\u001b[43m)\u001b[49m\n",
      "File \u001b[1;32mpyvqnet\\tensor\\tensor.py:236\u001b[0m, in \u001b[0;36mpyvqnet.tensor.tensor.QTensor.backward\u001b[1;34m()\u001b[0m\n",
      "File \u001b[1;32mpyvqnet\\tensor\\tensor.py:9204\u001b[0m, in \u001b[0;36mpyvqnet.tensor.tensor.backprop\u001b[1;34m()\u001b[0m\n",
      "File \u001b[1;32mpyvqnet\\tensor\\tensor.py:9162\u001b[0m, in \u001b[0;36mpyvqnet.tensor.tensor.backprop_impl\u001b[1;34m()\u001b[0m\n",
      "File \u001b[1;32mpyvqnet\\qnn\\qcnn\\qconv.py:482\u001b[0m, in \u001b[0;36mpyvqnet.qnn.qcnn.qconv.QConv.forward.lambda2\u001b[1;34m()\u001b[0m\n",
      "File \u001b[1;32mpyvqnet\\qnn\\qcnn\\qconv.py:632\u001b[0m, in \u001b[0;36mpyvqnet.qnn.qcnn.qconv._q_conv_grad\u001b[1;34m()\u001b[0m\n",
      "File \u001b[1;32mD:\\anaconda3\\envs\\cp310\\lib\\site-packages\\numpy\\core\\numeric.py:132\u001b[0m, in \u001b[0;36mzeros_like\u001b[1;34m(a, dtype, order, subok, shape)\u001b[0m\n\u001b[0;32m    130\u001b[0m \u001b[38;5;66;03m# needed instead of a 0 to get same result as zeros for string dtypes\u001b[39;00m\n\u001b[0;32m    131\u001b[0m z \u001b[38;5;241m=\u001b[39m zeros(\u001b[38;5;241m1\u001b[39m, dtype\u001b[38;5;241m=\u001b[39mres\u001b[38;5;241m.\u001b[39mdtype)\n\u001b[1;32m--> 132\u001b[0m \u001b[43mmultiarray\u001b[49m\u001b[38;5;241;43m.\u001b[39;49m\u001b[43mcopyto\u001b[49m\u001b[43m(\u001b[49m\u001b[43mres\u001b[49m\u001b[43m,\u001b[49m\u001b[43m \u001b[49m\u001b[43mz\u001b[49m\u001b[43m,\u001b[49m\u001b[43m \u001b[49m\u001b[43mcasting\u001b[49m\u001b[38;5;241;43m=\u001b[39;49m\u001b[38;5;124;43m'\u001b[39;49m\u001b[38;5;124;43munsafe\u001b[39;49m\u001b[38;5;124;43m'\u001b[39;49m\u001b[43m)\u001b[49m\n\u001b[0;32m    133\u001b[0m \u001b[38;5;28;01mreturn\u001b[39;00m res\n",
      "\u001b[1;31mKeyboardInterrupt\u001b[0m: "
     ]
    }
   ],
   "source": [
    "y.backward()"
   ]
  },
  {
   "cell_type": "code",
   "execution_count": 34,
   "id": "5fe4d3e4-3227-4a7a-8fb1-29edd276beb3",
   "metadata": {},
   "outputs": [
    {
     "data": {
      "image/png": "[encoded data removed]",
      "text/plain": [
       "<Figure size 640x480 with 1 Axes>"
      ]
     },
     "metadata": {},
     "output_type": "display_data"
    }
   ],
   "source": [
    "\n",
    "acc_train=[0.395,0.431,0.44,0.453,0.460,0.471,0.475,0.477,0.480,0.481,0.482,0.483,0.484,0.483,0.484,0.4855,0.4865,0.4866,0.4870,0.4869]\n",
    "acc_test=[0.421,0.432,0.435,0.445,0.445,0.451,0.4606,0.4605,0.465,0.4722,0.4735,0.4762,0.475,0.4775,0.477,0.476,0.478,0.477,0.4772,0.4770]\n",
    "epochs=range(1,len(acc_train)+1)\n",
    "\n",
    "\n",
    "\n",
    "plt.plot(epochs, acc_train, label=\"Train\", marker=\".\")\n",
    "plt.plot(epochs, acc_test, label=\"Test\", marker=\".\")\n",
    "\n",
    "plt.title(\"Accuracy over Epochs\")\n",
    "plt.xlabel(\"Epoch\")\n",
    "plt.ylabel(\"Accuracy\")\n",
    "plt.grid(True)\n",
    "plt.legend()\n",
    "# plt.ylim((0,1))\n",
    "plt.tight_layout()\n",
    "\n",
    "plt.savefig(\"train161.png\")\n",
    "plt.show()"
   ]
  }
 ],
 "metadata": {
  "kernelspec": {
   "display_name": "Python 3 (ipykernel)",
   "language": "python",
   "name": "python3"
  },
  "language_info": {
   "codemirror_mode": {
    "name": "ipython",
    "version": 3
   },
   "file_extension": ".py",
   "mimetype": "text/x-python",
   "name": "python",
   "nbconvert_exporter": "python",
   "pygments_lexer": "ipython3",
   "version": "3.10.12"
  }
 },
 "nbformat": 4,
 "nbformat_minor": 5
}
