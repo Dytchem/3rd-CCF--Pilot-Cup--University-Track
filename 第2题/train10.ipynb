{
 "cells": [
  {
   "cell_type": "code",
   "execution_count": 1,
   "id": "590792a5-cddf-4a5d-aaef-da554f16ab4c",
   "metadata": {
    "editable": false,
    "slideshow": {
     "slide_type": ""
    },
    "tags": []
   },
   "outputs": [],
   "source": [
    "from utils import *\n",
    "import numpy as np\n",
    "import matplotlib.pyplot as plt\n",
    "import pyqpanda as pq\n",
    "import pyvqnet as pv\n",
    "import random\n",
    "\n",
    "%matplotlib inline"
   ]
  },
  {
   "cell_type": "code",
   "execution_count": 2,
   "id": "00d0bd95-484a-4e3d-b491-677e8a0ec9e1",
   "metadata": {
    "editable": false,
    "slideshow": {
     "slide_type": ""
    },
    "tags": []
   },
   "outputs": [],
   "source": [
    "train_data = Dataset(\n",
    "    \"data/cifar-10-batches-py/data_batch_1\",\n",
    "    \"data/cifar-10-batches-py/data_batch_2\",\n",
    "    \"data/cifar-10-batches-py/data_batch_3\",\n",
    "    \"data/cifar-10-batches-py/data_batch_4\",\n",
    "    \"data/cifar-10-batches-py/data_batch_5\",\n",
    ")\n",
    "train_data.enhance()\n",
    "test_data = Dataset(\"data/cifar-10-batches-py/test_batch\")"
   ]
  },
  {
   "cell_type": "code",
   "execution_count": 3,
   "id": "87bb597e-1bd2-4614-96c0-d0d9096bdcf5",
   "metadata": {
    "editable": true,
    "slideshow": {
     "slide_type": ""
    },
    "tags": []
   },
   "outputs": [],
   "source": [
    "def pqctest(input, param, qubits, cbits, machine):\n",
    "    n = int(np.sqrt(len(input)))\n",
    "    prog = pq.QProg()\n",
    "    for i in range(n):\n",
    "        prog.insert(pq.U3(qubits[i], param[i], param[i + n], param[i + 2 * n]))\n",
    "    for i in range(n):\n",
    "        for j in range(n):\n",
    "            t = i * n + j\n",
    "            if i == j:\n",
    "                prog.insert(pq.P(qubits[i], np.pi * input[t]))\n",
    "            else:\n",
    "                prog.insert(pq.CR(qubits[i], qubits[j], np.pi * input[t]))\n",
    "    for i in range(n):\n",
    "        prog.insert(\n",
    "            pq.U3(qubits[i], param[i + 3 * n], param[i + 4 * n], param[i + 5 * n])\n",
    "        )\n",
    "    prob = pv.qnn.measure.ProbsMeasure([i for i in range(n)], prog, machine, qubits)\n",
    "    re = [0] * n\n",
    "    for i in range(n):\n",
    "        re[i] = prob[1 << i]\n",
    "    return re\n",
    "\n",
    "\n",
    "class Model(pv.nn.module.Module):\n",
    "    def __init__(self):\n",
    "        super(Model, self).__init__()\n",
    "        self.conv = pv.nn.Conv2D(3, 1, (3, 3), (1, 1))\n",
    "        self.pool = pv.nn.MaxPool2D((3, 3), (3, 3))\n",
    "        self.ac = pv.nn.Sigmoid()\n",
    "        self.qc = pv.qnn.quantumlayer.QuantumLayer(\n",
    "            pqctest, 6 * 10, \"CPU\", 10, diff_method=\"finite_diff\"\n",
    "        )\n",
    "\n",
    "    def forward(self, x):\n",
    "        x = self.conv(x)\n",
    "        x = self.pool(x)\n",
    "        x = pv.tensor.flatten(x, 1)\n",
    "        x = self.ac(x)\n",
    "        x = self.qc(x)\n",
    "        return x"
   ]
  },
  {
   "cell_type": "code",
   "execution_count": 4,
   "id": "fc0cda54-098f-4397-8eef-7faa6d382d70",
   "metadata": {
    "editable": true,
    "slideshow": {
     "slide_type": ""
    },
    "tags": []
   },
   "outputs": [
    {
     "name": "stdout",
     "output_type": "stream",
     "text": [
      "88\n"
     ]
    }
   ],
   "source": [
    "epoch = 100\n",
    "batch = 16\n",
    "holdout = 10000\n",
    "\n",
    "model = Model()\n",
    "print(sum(p.numel() for p in model.parameters()))"
   ]
  },
  {
   "cell_type": "code",
   "execution_count": null,
   "id": "a295ff97-6006-46b0-90e1-a09a8f953469",
   "metadata": {
    "editable": true,
    "scrolled": true,
    "slideshow": {
     "slide_type": ""
    },
    "tags": []
   },
   "outputs": [
    {
     "name": "stdout",
     "output_type": "stream",
     "text": [
      "epoch 1/100 \t batch 16/90000 \t loss 2.30 \t accuracy 0.06\n",
      "epoch 1/100 \t batch 32/90000 \t loss 2.30 \t accuracy 0.12\n",
      "epoch 1/100 \t batch 48/90000 \t loss 2.30 \t accuracy 0.00\n",
      "epoch 1/100 \t batch 64/90000 \t loss 2.30 \t accuracy 0.12\n",
      "epoch 1/100 \t batch 80/90000 \t loss 2.30 \t accuracy 0.00\n",
      "epoch 1/100 \t batch 96/90000 \t loss 2.30 \t accuracy 0.00\n",
      "epoch 1/100 \t batch 112/90000 \t loss 2.30 \t accuracy 0.06\n",
      "epoch 1/100 \t batch 128/90000 \t loss 2.30 \t accuracy 0.00\n",
      "epoch 1/100 \t batch 144/90000 \t loss 2.30 \t accuracy 0.06\n",
      "epoch 1/100 \t batch 160/90000 \t loss 2.30 \t accuracy 0.12\n",
      "epoch 1/100 \t batch 176/90000 \t loss 2.30 \t accuracy 0.12\n",
      "epoch 1/100 \t batch 192/90000 \t loss 2.30 \t accuracy 0.12\n",
      "epoch 1/100 \t batch 208/90000 \t loss 2.30 \t accuracy 0.12\n",
      "epoch 1/100 \t batch 224/90000 \t loss 2.30 \t accuracy 0.06\n",
      "epoch 1/100 \t batch 240/90000 \t loss 2.30 \t accuracy 0.12\n",
      "epoch 1/100 \t batch 256/90000 \t loss 2.30 \t accuracy 0.06\n",
      "epoch 1/100 \t batch 272/90000 \t loss 2.30 \t accuracy 0.00\n",
      "epoch 1/100 \t batch 288/90000 \t loss 2.30 \t accuracy 0.06\n",
      "epoch 1/100 \t batch 304/90000 \t loss 2.30 \t accuracy 0.00\n",
      "epoch 1/100 \t batch 320/90000 \t loss 2.30 \t accuracy 0.00\n",
      "epoch 1/100 \t batch 336/90000 \t loss 2.30 \t accuracy 0.06\n",
      "epoch 1/100 \t batch 352/90000 \t loss 2.30 \t accuracy 0.19\n",
      "epoch 1/100 \t batch 368/90000 \t loss 2.30 \t accuracy 0.12\n",
      "epoch 1/100 \t batch 384/90000 \t loss 2.30 \t accuracy 0.19\n",
      "epoch 1/100 \t batch 400/90000 \t loss 2.30 \t accuracy 0.12\n",
      "epoch 1/100 \t batch 416/90000 \t loss 2.30 \t accuracy 0.06\n",
      "epoch 1/100 \t batch 432/90000 \t loss 2.30 \t accuracy 0.12\n",
      "epoch 1/100 \t batch 448/90000 \t loss 2.30 \t accuracy 0.00\n",
      "epoch 1/100 \t batch 464/90000 \t loss 2.30 \t accuracy 0.12\n",
      "epoch 1/100 \t batch 480/90000 \t loss 2.30 \t accuracy 0.06\n",
      "epoch 1/100 \t batch 496/90000 \t loss 2.30 \t accuracy 0.12\n",
      "epoch 1/100 \t batch 512/90000 \t loss 2.30 \t accuracy 0.12\n",
      "epoch 1/100 \t batch 528/90000 \t loss 2.30 \t accuracy 0.12\n",
      "epoch 1/100 \t batch 544/90000 \t loss 2.30 \t accuracy 0.19\n",
      "epoch 1/100 \t batch 560/90000 \t loss 2.30 \t accuracy 0.00\n",
      "epoch 1/100 \t batch 576/90000 \t loss 2.30 \t accuracy 0.06\n"
     ]
    }
   ],
   "source": [
    "X, Y = train_data.getdatas()\n",
    "los = pv.nn.loss.CrossEntropyLoss()\n",
    "opt = pv.optim.Adam(model.parameters())\n",
    "\n",
    "acc_train = []\n",
    "acc_test = []\n",
    "\n",
    "for e in range(1, epoch + 1):\n",
    "    model.train()\n",
    "\n",
    "    correct_tot = 0\n",
    "    for I, (x, y) in enumerate(\n",
    "        pv.data.data_generator(\n",
    "            X[:-holdout], Y[:-holdout], batch_size=batch, shuffle=True\n",
    "        )\n",
    "    ):\n",
    "        i = I + 1\n",
    "        # print(i)\n",
    "        opt.zero_grad()\n",
    "        y_pred = model(x)\n",
    "        loss = los(y, y_pred)\n",
    "        correct = sum(y_pred.argmax(1, False).to_numpy() == y)\n",
    "        acc = correct / y.shape[0]\n",
    "        correct_tot += correct\n",
    "        loss.backward()\n",
    "        opt._step()\n",
    "        if i % 1 == 0:\n",
    "            print(\n",
    "                f\"epoch {e}/{epoch} \\t batch {batch*i}/{Y.shape[0]-holdout} \\t loss {loss.item():.2f} \\t accuracy {acc:.2f}\"\n",
    "            )\n",
    "\n",
    "    model.eval()\n",
    "\n",
    "    acc = correct_tot / (Y.shape[0] - holdout)\n",
    "    print(f\"********** train: epoch {e}/{epoch} \\t accuracy {100*acc:.2f}% **********\")\n",
    "    acc_train.append(acc)\n",
    "\n",
    "    correct_tot = 0\n",
    "    for x, y in pv.data.data_generator(\n",
    "        X[-holdout:], Y[-holdout:], batch_size=batch, shuffle=False\n",
    "    ):\n",
    "        y_pred = model(x)\n",
    "        correct_tot += sum(y_pred.argmax(1, False).to_numpy() == y)\n",
    "\n",
    "    acc = correct_tot / holdout\n",
    "    print(f\"********** test: epoch {e}/{epoch} \\t accuracy {100*acc:.2f}% **********\")\n",
    "    acc_test.append(acc)\n",
    "\n",
    "    # opt = pv.optim.SGD(model.parameters(), 0.01 * (1 - acc))"
   ]
  },
  {
   "cell_type": "code",
   "execution_count": null,
   "id": "402d77b3-2cad-4bce-aad4-e9acd9205e8a",
   "metadata": {
    "editable": true,
    "slideshow": {
     "slide_type": ""
    },
    "tags": []
   },
   "outputs": [],
   "source": [
    "pv.utils.storage.save_parameters(model.state_dict(), \"train10.model\")"
   ]
  },
  {
   "cell_type": "code",
   "execution_count": null,
   "id": "dca29aa3-7efa-4e0e-a97c-eb145820efd6",
   "metadata": {
    "editable": true,
    "slideshow": {
     "slide_type": ""
    },
    "tags": []
   },
   "outputs": [],
   "source": [
    "m = Model()\n",
    "m.load_state_dict(pv.utils.storage.load_parameters(\"train10.model\"))"
   ]
  },
  {
   "cell_type": "code",
   "execution_count": null,
   "id": "d7d444c3-c167-4ff0-b6dd-725bb01148a6",
   "metadata": {
    "editable": false,
    "slideshow": {
     "slide_type": ""
    },
    "tags": []
   },
   "outputs": [],
   "source": [
    "m.eval()\n",
    "X, Y = test_data.getdatas()\n",
    "correct_tot = 0\n",
    "for x, y in pv.data.data_generator(X, Y, batch_size=batch, shuffle=False):\n",
    "    y_pred = model(x)\n",
    "    correct_tot += sum(y_pred.argmax(1, False).to_numpy() == y)\n",
    "acc = correct_tot / Y.shape[0]\n",
    "print(f\"********** eval: accuracy {100*acc:.2f}% **********\")"
   ]
  },
  {
   "cell_type": "code",
   "execution_count": null,
   "id": "1c91b698-5df4-46b1-9aa5-8950328b2068",
   "metadata": {
    "editable": true,
    "slideshow": {
     "slide_type": ""
    },
    "tags": []
   },
   "outputs": [],
   "source": []
  },
  {
   "cell_type": "code",
   "execution_count": null,
   "id": "7c82a43a-b593-4feb-baf4-0174d6bf7ef2",
   "metadata": {},
   "outputs": [],
   "source": []
  },
  {
   "cell_type": "code",
   "execution_count": null,
   "id": "12fe0458-44ee-4fde-8fdc-79d528782f55",
   "metadata": {},
   "outputs": [],
   "source": []
  },
  {
   "cell_type": "code",
   "execution_count": null,
   "id": "534048c2-cee7-49f3-ad6a-09a1b0150614",
   "metadata": {},
   "outputs": [],
   "source": []
  },
  {
   "cell_type": "code",
   "execution_count": null,
   "id": "ac5640dd-406d-4843-9e05-0f9823b6461b",
   "metadata": {
    "editable": true,
    "slideshow": {
     "slide_type": ""
    },
    "tags": []
   },
   "outputs": [],
   "source": []
  }
 ],
 "metadata": {
  "kernelspec": {
   "display_name": "Python 3 (ipykernel)",
   "language": "python",
   "name": "python3"
  },
  "language_info": {
   "codemirror_mode": {
    "name": "ipython",
    "version": 3
   },
   "file_extension": ".py",
   "mimetype": "text/x-python",
   "name": "python",
   "nbconvert_exporter": "python",
   "pygments_lexer": "ipython3",
   "version": "3.10.12"
  }
 },
 "nbformat": 4,
 "nbformat_minor": 5
}
