{
 "cells": [
  {
   "cell_type": "code",
   "execution_count": 6,
   "id": "9490d207-a1fd-46e9-b308-e774a1d087f8",
   "metadata": {},
   "outputs": [],
   "source": [
    "import numpy as np\n",
    "import matplotlib.pyplot as plt\n",
    "import numpy as np\n",
    "import random\n",
    "\n",
    "\n",
    "### 数据集\n",
    "class Dataset:\n",
    "    @staticmethod\n",
    "    def unpickle(file):\n",
    "        import pickle\n",
    "\n",
    "        with open(file, \"rb\") as fo:\n",
    "            dict = pickle.load(fo, encoding=\"bytes\")\n",
    "        return dict\n",
    "\n",
    "    @staticmethod\n",
    "    def getlabel(n):\n",
    "        return Dataset.label_names[n].decode(\"utf-8\")\n",
    "\n",
    "    def __init__(self, *path):\n",
    "        a = self.unpickle(path[0])\n",
    "        self.x = a[b\"data\"].reshape((-1, 3, 32, 32))\n",
    "        self.y = a[b\"labels\"]\n",
    "        for i in range(1, len(path)):\n",
    "            a = self.unpickle(path[i])\n",
    "            self.x = np.concatenate((self.x, a[b\"data\"].reshape((-1, 3, 32, 32))))\n",
    "            self.y = np.concatenate((self.y, a[b\"labels\"]))\n",
    "        self.y = np.array(self.y, dtype=\"int64\")\n",
    "        self.len = self.y.shape[0]\n",
    "\n",
    "    def getdata(self, index):\n",
    "        return self.x[index] / 255, self.y[index]\n",
    "\n",
    "    def getdatas(self):\n",
    "        return self.x / 255, self.y\n",
    "\n",
    "    def getimg(self, index):\n",
    "        return self.x[index].transpose((1, 2, 0)), self.y[index]\n",
    "\n",
    "    def showimg(self, index):\n",
    "        img, label = self.getimg(index)\n",
    "        plt.imshow(img)\n",
    "        plt.axis(\"off\")\n",
    "        plt.show()\n",
    "        return img, label\n",
    "\n",
    "    def shuffle(self):\n",
    "        r = np.random.permutation(self.len)\n",
    "        x = self.x.copy()\n",
    "        y = self.y.copy()\n",
    "        for i in range(self.len):\n",
    "            self.x[i] = x[r[i]]\n",
    "            self.y[i] = y[r[i]]\n",
    "\n",
    "    def enhance(self):\n",
    "        self.x = np.concatenate((self.x, self.x))\n",
    "        self.y = np.concatenate((self.y, self.y))\n",
    "        for i in range(self.len):\n",
    "            self.x[i] = self.x[i, :, :, ::-1]\n",
    "        self.len *= 2\n",
    "        self.shuffle()\n",
    "\n",
    "\n",
    "Dataset.label_names = Dataset.unpickle(\"data/cifar-10-batches-py/batches.meta\")[\n",
    "    b\"label_names\"\n",
    "]"
   ]
  },
  {
   "cell_type": "code",
   "execution_count": 7,
   "id": "26374564-7d9f-4be3-a5c1-5d3dbc49b315",
   "metadata": {},
   "outputs": [],
   "source": [
    "d = Dataset(\n",
    "    \"data/cifar-10-batches-py/data_batch_1\",\n",
    "    \"data/cifar-10-batches-py/data_batch_2\",\n",
    "    \"data/cifar-10-batches-py/data_batch_3\",\n",
    "    \"data/cifar-10-batches-py/data_batch_4\",\n",
    "    \"data/cifar-10-batches-py/data_batch_5\",\n",
    ")\n",
    "d.enhance()"
   ]
  },
  {
   "cell_type": "code",
   "execution_count": 8,
   "id": "5ecf0471-1ed4-4bfc-9fe0-3a1d77f35278",
   "metadata": {},
   "outputs": [
    {
     "data": {
      "image/png": "[encoded data removed]",
      "text/plain": [
       "<Figure size 640x480 with 1 Axes>"
      ]
     },
     "metadata": {},
     "output_type": "display_data"
    }
   ],
   "source": [
    "d.showimg(56);"
   ]
  },
  {
   "cell_type": "code",
   "execution_count": null,
   "id": "a4ed5406-57da-457c-897a-2e4e9f05a6de",
   "metadata": {},
   "outputs": [],
   "source": []
  },
  {
   "cell_type": "code",
   "execution_count": 9,
   "id": "c034e99b-bb81-42d4-9863-9c966b7d6d48",
   "metadata": {},
   "outputs": [
    {
     "data": {
      "text/plain": [
       "100000"
      ]
     },
     "execution_count": 9,
     "metadata": {},
     "output_type": "execute_result"
    }
   ],
   "source": [
    "d.len"
   ]
  },
  {
   "cell_type": "code",
   "execution_count": null,
   "id": "e414e428-c4ce-4712-ba9d-8b0c7cb9fdeb",
   "metadata": {},
   "outputs": [],
   "source": []
  },
  {
   "cell_type": "code",
   "execution_count": 11,
   "id": "db492f8c-0a20-4426-918c-bd47dbf56eb0",
   "metadata": {},
   "outputs": [],
   "source": [
    "x, y = d.getdata(0)\n",
    "x = (x * 255).astype(\"uint8\")"
   ]
  },
  {
   "cell_type": "code",
   "execution_count": 16,
   "id": "50f2e515-6be6-4a55-b359-e35cb0818b27",
   "metadata": {},
   "outputs": [
    {
     "data": {
      "image/png": "[encoded data removed]",
      "text/plain": [
       "<Figure size 640x480 with 1 Axes>"
      ]
     },
     "metadata": {},
     "output_type": "display_data"
    }
   ],
   "source": [
    "plt.imshow(x.transpose(1, 2, 0))\n",
    "plt.axis(\"off\")\n",
    "plt.show()"
   ]
  },
  {
   "cell_type": "code",
   "execution_count": 17,
   "id": "b1df612e-f319-40cd-ad21-4df17f8a74b5",
   "metadata": {},
   "outputs": [
    {
     "data": {
      "image/png": "[encoded data removed]",
      "text/plain": [
       "<Figure size 640x480 with 1 Axes>"
      ]
     },
     "metadata": {},
     "output_type": "display_data"
    }
   ],
   "source": [
    "x = x[:, :, ::-1]\n",
    "plt.imshow(x.transpose(1, 2, 0))\n",
    "plt.axis(\"off\")\n",
    "plt.show()"
   ]
  },
  {
   "cell_type": "code",
   "execution_count": null,
   "id": "c55b4db0-cce9-40ce-bf62-917c908d8ec1",
   "metadata": {},
   "outputs": [],
   "source": []
  },
  {
   "cell_type": "code",
   "execution_count": null,
   "id": "f2896847-3ae9-414c-9b5f-c06a932d6651",
   "metadata": {},
   "outputs": [],
   "source": []
  },
  {
   "cell_type": "code",
   "execution_count": null,
   "id": "f1dabcb9-1f83-4fb1-abf3-2018a0f65f27",
   "metadata": {},
   "outputs": [],
   "source": []
  },
  {
   "cell_type": "code",
   "execution_count": null,
   "id": "cae60296-635e-4c6b-89c4-9fa8aaea6d42",
   "metadata": {},
   "outputs": [],
   "source": []
  }
 ],
 "metadata": {
  "kernelspec": {
   "display_name": "Python 3 (ipykernel)",
   "language": "python",
   "name": "python3"
  },
  "language_info": {
   "codemirror_mode": {
    "name": "ipython",
    "version": 3
   },
   "file_extension": ".py",
   "mimetype": "text/x-python",
   "name": "python",
   "nbconvert_exporter": "python",
   "pygments_lexer": "ipython3",
   "version": "3.10.12"
  }
 },
 "nbformat": 4,
 "nbformat_minor": 5
}
