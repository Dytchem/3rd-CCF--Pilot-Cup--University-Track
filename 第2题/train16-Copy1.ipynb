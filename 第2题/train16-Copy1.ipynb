{
 "cells": [
  {
   "cell_type": "code",
   "execution_count": 1,
   "id": "590792a5-cddf-4a5d-aaef-da554f16ab4c",
   "metadata": {
    "editable": false,
    "slideshow": {
     "slide_type": ""
    },
    "tags": []
   },
   "outputs": [],
   "source": [
    "from utils import *\n",
    "import numpy as np\n",
    "import matplotlib.pyplot as plt\n",
    "import pyqpanda as pq\n",
    "import pyvqnet as pv\n",
    "import random\n",
    "from functools import partial\n",
    "import time\n",
    "\n",
    "%matplotlib inline"
   ]
  },
  {
   "cell_type": "code",
   "execution_count": 2,
   "id": "00d0bd95-484a-4e3d-b491-677e8a0ec9e1",
   "metadata": {
    "editable": false,
    "slideshow": {
     "slide_type": ""
    },
    "tags": []
   },
   "outputs": [],
   "source": [
    "train_data = Dataset(\n",
    "    \"data/cifar-10-batches-py/data_batch_1\",\n",
    "    \"data/cifar-10-batches-py/data_batch_2\",\n",
    "    \"data/cifar-10-batches-py/data_batch_3\",\n",
    "    \"data/cifar-10-batches-py/data_batch_4\",\n",
    "    \"data/cifar-10-batches-py/data_batch_5\",\n",
    ")\n",
    "train_data.enhance()\n",
    "test_data = Dataset(\"data/cifar-10-batches-py/test_batch\")"
   ]
  },
  {
   "cell_type": "code",
   "execution_count": 3,
   "id": "87bb597e-1bd2-4614-96c0-d0d9096bdcf5",
   "metadata": {
    "editable": true,
    "slideshow": {
     "slide_type": ""
    },
    "tags": []
   },
   "outputs": [],
   "source": [
    "class QM(pv.qnn.vqc.QModule):\n",
    "    def __init__(self, name=\"\"):\n",
    "        super().__init__(name)\n",
    "        self.device = pv.qnn.vqc.QMachine(2)\n",
    "        self.RX1 = pv.qnn.vqc.qcircuit.RX(wires=0)\n",
    "        self.RX2 = pv.qnn.vqc.qcircuit.RX(wires=1)\n",
    "        self.RY1 = pv.qnn.vqc.qcircuit.RY(True, True, 0, wires=0)\n",
    "        self.RY2 = pv.qnn.vqc.qcircuit.RY(True, True, 0, wires=1)\n",
    "        self.RX3 = pv.qnn.vqc.qcircuit.RX(True, True, 0, wires=0)\n",
    "        self.RX4 = pv.qnn.vqc.qcircuit.RX(True, True, 0, wires=1)\n",
    "        self.CZ1 = pv.qnn.vqc.qcircuit.CZ(wires=(0, 1))\n",
    "        self.CZ2 = pv.qnn.vqc.qcircuit.CZ(wires=(1, 0))\n",
    "        self.RY3 = pv.qnn.vqc.qcircuit.RY(True, True, 0, wires=0)\n",
    "        self.RY4 = pv.qnn.vqc.qcircuit.RY(True, True, 0, wires=1)\n",
    "        self.measure = pv.qnn.vqc.MeasureAll(\n",
    "            obs=[\n",
    "                {\n",
    "                    \"wires\": [0],\n",
    "                    \"observables\": [\"Z\"],\n",
    "                    \"coefficient\": [1],\n",
    "                }\n",
    "            ]\n",
    "        )\n",
    "\n",
    "    # @partial(pv.qnn.vqc.wrapper_compile)\n",
    "    def forward(self, x, y):\n",
    "        self.device.reset_states(x.shape[0])\n",
    "        self.RX1(q_machine=self.device, params=x[:])\n",
    "        self.RX2(q_machine=self.device, params=y[:])\n",
    "        self.RY1(q_machine=self.device)\n",
    "        self.RY2(q_machine=self.device)\n",
    "        self.RX3(q_machine=self.device)\n",
    "        self.RX4(q_machine=self.device)\n",
    "        self.CZ1(q_machine=self.device)\n",
    "        self.CZ2(q_machine=self.device)\n",
    "        self.RY3(q_machine=self.device)\n",
    "        self.RY4(q_machine=self.device)\n",
    "\n",
    "        return self.measure(q_machine=self.device)\n",
    "\n",
    "\n",
    "class QUnite(pv.nn.module.Module):\n",
    "    def __init__(self, name=\"\"):\n",
    "        super().__init__(name)\n",
    "        self.vqc = QM(name)\n",
    "\n",
    "    def forward(self, x, y):\n",
    "        X = pv.tensor.flatten(x, 1)\n",
    "        Y = pv.tensor.flatten(y, 1)\n",
    "        Z = pv.tensor.zeros_like(X)\n",
    "        for i in range(X.shape[1]):\n",
    "            Z[:, i] = self.vqc(X[:, i], Y[:, i])\n",
    "        z = pv.tensor.reshape(Z, x.shape)\n",
    "        return z\n",
    "\n",
    "\n",
    "class Model(pv.nn.module.Module):\n",
    "    def __init__(self):\n",
    "        super(Model, self).__init__()\n",
    "        self.conv1 = pv.nn.Conv2D(3, 4, (3, 3), (1, 1), \"same\")\n",
    "        self.pool1 = pv.nn.MaxPool2D((4, 4), (4, 4))\n",
    "        self.conv2 = pv.nn.Conv2D(3, 4, (3, 3), (1, 1), \"same\")\n",
    "        self.pool2 = pv.nn.MaxPool2D((4, 4), (4, 4))\n",
    "        self.vqc1 = QUnite(\"MyVQC1\")\n",
    "        self.conv3 = pv.nn.Conv2D(4, 8, (3, 3), (1, 1), \"same\")\n",
    "        self.pool3 = pv.nn.MaxPool2D((4, 4), (4, 4))\n",
    "        self.conv4 = pv.nn.Conv2D(4, 8, (3, 3), (1, 1), \"same\")\n",
    "        self.pool4 = pv.nn.MaxPool2D((4, 4), (4, 4))\n",
    "        self.vqc2 = QUnite(\"MyVQC2\")\n",
    "        self.fc = pv.nn.Linear(8 * 2 * 2, 10)\n",
    "\n",
    "    def forward(self, x):\n",
    "        x1 = 2 * pv.tensor.atan(self.pool1(self.conv1(x)))\n",
    "        x2 = 2 * pv.tensor.atan(self.pool2(self.conv2(x)))\n",
    "        x = self.vqc1(x1, x2)\n",
    "        x1 = 2 * pv.tensor.atan(self.pool3(self.conv3(x)))\n",
    "        x2 = 2 * pv.tensor.atan(self.pool4(self.conv4(x)))\n",
    "        x = self.vqc2(x1, x2)\n",
    "        x = pv.tensor.flatten(x, 1)\n",
    "        x = self.fc(x)\n",
    "\n",
    "        return x"
   ]
  },
  {
   "cell_type": "code",
   "execution_count": 4,
   "id": "d1d15243-0ede-4f5e-aed5-6f5281aa0faa",
   "metadata": {
    "editable": true,
    "slideshow": {
     "slide_type": ""
    },
    "tags": []
   },
   "outputs": [
    {
     "name": "stdout",
     "output_type": "stream",
     "text": [
      "\n",
      "\n",
      "###################Model Summary#######################\n",
      "\n",
      "classic layers: {'Conv2D': 4, 'MaxPool2D': 4, 'Linear': 1}\n",
      "total classic parameters: 1146\n",
      "\n",
      "=========================================\n",
      "qubits num: 2\n",
      "gates: {'RX': 8, 'RY': 8, 'CZ': 4}\n",
      "total quantum gates: 20\n",
      "total quantum parameter gates: 16\n",
      "total quantum parameters: 16\n",
      "#########################################################\n",
      "    \n"
     ]
    }
   ],
   "source": [
    "epoch = 1000\n",
    "batch = 32\n",
    "holdout = 10000\n",
    "\n",
    "model = Model()\n",
    "# model.load_state_dict(pv.utils.storage.load_parameters(\"train15.model\"))\n",
    "print(pv.model_summary(model))\n",
    "\n",
    "e = 1\n",
    "acc_train = []\n",
    "acc_test = []"
   ]
  },
  {
   "cell_type": "code",
   "execution_count": 5,
   "id": "3943cdfc-3f1f-48e1-9d9e-a8f63cc645ac",
   "metadata": {
    "editable": true,
    "slideshow": {
     "slide_type": ""
    },
    "tags": []
   },
   "outputs": [],
   "source": [
    "# batch = 128"
   ]
  },
  {
   "cell_type": "code",
   "execution_count": 6,
   "id": "a295ff97-6006-46b0-90e1-a09a8f953469",
   "metadata": {
    "editable": true,
    "scrolled": true,
    "slideshow": {
     "slide_type": ""
    },
    "tags": []
   },
   "outputs": [
    {
     "name": "stdout",
     "output_type": "stream",
     "text": [
      "epoch 1/1000 \t batch 32/90000 \t loss 2.63 \t accuracy 0.03    \t 5.24 s\n"
     ]
    },
    {
     "ename": "KeyboardInterrupt",
     "evalue": "",
     "output_type": "error",
     "traceback": [
      "\u001b[1;31m---------------------------------------------------------------------------\u001b[0m",
      "\u001b[1;31mKeyboardInterrupt\u001b[0m                         Traceback (most recent call last)",
      "Cell \u001b[1;32mIn[6], line 25\u001b[0m\n\u001b[0;32m     23\u001b[0m correct_tot \u001b[38;5;241m+\u001b[39m\u001b[38;5;241m=\u001b[39m correct\n\u001b[0;32m     24\u001b[0m loss\u001b[38;5;241m.\u001b[39mbackward()\n\u001b[1;32m---> 25\u001b[0m \u001b[43mopt\u001b[49m\u001b[38;5;241;43m.\u001b[39;49m\u001b[43m_step\u001b[49m\u001b[43m(\u001b[49m\u001b[43m)\u001b[49m\n\u001b[0;32m     26\u001b[0m \u001b[38;5;28;01mif\u001b[39;00m i \u001b[38;5;241m%\u001b[39m \u001b[38;5;241m1\u001b[39m \u001b[38;5;241m==\u001b[39m \u001b[38;5;241m0\u001b[39m:\n\u001b[0;32m     27\u001b[0m     end_time \u001b[38;5;241m=\u001b[39m time\u001b[38;5;241m.\u001b[39mtime()\n",
      "\u001b[1;31mKeyboardInterrupt\u001b[0m: "
     ]
    }
   ],
   "source": [
    "X, Y = train_data.getdatas()\n",
    "los = pv.nn.loss.CrossEntropyLoss()\n",
    "# opt = pv.optim.SGD(model.parameters())\n",
    "opt = pv.optim.Adam(model.parameters())\n",
    "start_time = time.time()\n",
    "\n",
    "while e <= epoch:\n",
    "    model.train()\n",
    "\n",
    "    correct_tot = 0\n",
    "    for I, (x, y) in enumerate(\n",
    "        pv.data.data_generator(\n",
    "            X[:-holdout], Y[:-holdout], batch_size=batch, shuffle=True\n",
    "        )\n",
    "    ):\n",
    "        i = I + 1\n",
    "        # print(i)\n",
    "        opt.zero_grad()\n",
    "        y_pred = model(x)\n",
    "        loss = los(y, y_pred)\n",
    "        correct = np.sum(y_pred.argmax(1, False).to_numpy() == y)\n",
    "        acc = correct / y.shape[0]\n",
    "        correct_tot += correct\n",
    "        loss.backward()\n",
    "        opt._step()\n",
    "        if i % 10 == 0:\n",
    "            end_time = time.time()\n",
    "            print(\n",
    "                f\"epoch {e}/{epoch} \\t batch {batch*i}/{Y.shape[0]-holdout} \\t loss {loss.item():.2f} \\t accuracy {acc:.2f}    \\t {end_time-start_time:.2f} s\"\n",
    "            )\n",
    "    e += 1\n",
    "\n",
    "    model.eval()\n",
    "\n",
    "    acc = correct_tot / (Y.shape[0] - holdout)\n",
    "    print(f\"********** train: epoch {e}/{epoch} \\t accuracy {100*acc:.2f}% **********\")\n",
    "    acc_train.append(acc)\n",
    "\n",
    "    correct_tot = 0\n",
    "    for x, y in pv.data.data_generator(\n",
    "        X[-holdout:], Y[-holdout:], batch_size=128, shuffle=False\n",
    "    ):\n",
    "        y_pred = model(x)\n",
    "        correct_tot += np.sum(y_pred.argmax(1, False).to_numpy() == y)\n",
    "\n",
    "    acc = correct_tot / holdout\n",
    "    print(f\"********** test : epoch {e}/{epoch} \\t accuracy {100*acc:.2f}% **********\")\n",
    "    acc_test.append(acc)\n",
    "\n",
    "    # opt = pv.optim.SGD(model.parameters(), 0.01 * (1 - acc))"
   ]
  },
  {
   "cell_type": "code",
   "execution_count": null,
   "id": "402d77b3-2cad-4bce-aad4-e9acd9205e8a",
   "metadata": {
    "editable": true,
    "slideshow": {
     "slide_type": ""
    },
    "tags": []
   },
   "outputs": [],
   "source": [
    "pv.utils.storage.save_parameters(model.state_dict(), \"train16.model\")"
   ]
  },
  {
   "cell_type": "code",
   "execution_count": null,
   "id": "dca29aa3-7efa-4e0e-a97c-eb145820efd6",
   "metadata": {
    "editable": true,
    "slideshow": {
     "slide_type": ""
    },
    "tags": []
   },
   "outputs": [],
   "source": [
    "m = Model()\n",
    "m.load_state_dict(pv.utils.storage.load_parameters(\"train16.model\"))"
   ]
  },
  {
   "cell_type": "code",
   "execution_count": null,
   "id": "d7d444c3-c167-4ff0-b6dd-725bb01148a6",
   "metadata": {
    "editable": true,
    "slideshow": {
     "slide_type": ""
    },
    "tags": []
   },
   "outputs": [],
   "source": [
    "m.eval()\n",
    "X, Y = test_data.getdatas()\n",
    "correct_tot = 0\n",
    "for x, y in pv.data.data_generator(X, Y, batch_size=128, shuffle=False):\n",
    "    y_pred = model(x)\n",
    "    correct_tot += np.sum(y_pred.argmax(1, False).to_numpy() == y)\n",
    "acc = correct_tot / Y.shape[0]\n",
    "print(f\"********** eval : accuracy {100*acc:.2f}% **********\")"
   ]
  },
  {
   "cell_type": "code",
   "execution_count": null,
   "id": "1c91b698-5df4-46b1-9aa5-8950328b2068",
   "metadata": {
    "editable": true,
    "slideshow": {
     "slide_type": ""
    },
    "tags": []
   },
   "outputs": [],
   "source": []
  },
  {
   "cell_type": "code",
   "execution_count": null,
   "id": "12fe0458-44ee-4fde-8fdc-79d528782f55",
   "metadata": {
    "editable": true,
    "slideshow": {
     "slide_type": ""
    },
    "tags": []
   },
   "outputs": [],
   "source": []
  },
  {
   "cell_type": "code",
   "execution_count": null,
   "id": "534048c2-cee7-49f3-ad6a-09a1b0150614",
   "metadata": {
    "editable": true,
    "slideshow": {
     "slide_type": ""
    },
    "tags": []
   },
   "outputs": [],
   "source": [
    "epochs = range(1, len(acc_train) + 1)\n",
    "\n",
    "plt.plot(epochs, acc_train, label=\"Train\", marker=\".\")\n",
    "plt.plot(epochs, acc_test, label=\"Test\", marker=\".\")\n",
    "\n",
    "plt.title(\"Accuracy over Epochs\")\n",
    "plt.xlabel(\"Epoch\")\n",
    "plt.ylabel(\"Accuracy\")\n",
    "plt.grid(True)\n",
    "plt.legend()\n",
    "# plt.ylim((0,1))\n",
    "plt.tight_layout()\n",
    "\n",
    "# plt.savefig(\"raw.png\")\n",
    "plt.show()"
   ]
  },
  {
   "cell_type": "code",
   "execution_count": null,
   "id": "ac5640dd-406d-4843-9e05-0f9823b6461b",
   "metadata": {
    "editable": true,
    "slideshow": {
     "slide_type": ""
    },
    "tags": []
   },
   "outputs": [],
   "source": []
  }
 ],
 "metadata": {
  "kernelspec": {
   "display_name": "Python 3 (ipykernel)",
   "language": "python",
   "name": "python3"
  },
  "language_info": {
   "codemirror_mode": {
    "name": "ipython",
    "version": 3
   },
   "file_extension": ".py",
   "mimetype": "text/x-python",
   "name": "python",
   "nbconvert_exporter": "python",
   "pygments_lexer": "ipython3",
   "version": "3.10.12"
  }
 },
 "nbformat": 4,
 "nbformat_minor": 5
}
