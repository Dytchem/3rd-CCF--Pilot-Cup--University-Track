{
 "cells": [
  {
   "cell_type": "code",
   "execution_count": 1,
   "id": "590792a5-cddf-4a5d-aaef-da554f16ab4c",
   "metadata": {
    "editable": false,
    "slideshow": {
     "slide_type": ""
    },
    "tags": []
   },
   "outputs": [],
   "source": [
    "from utils import *\n",
    "import numpy as np\n",
    "import matplotlib.pyplot as plt\n",
    "import pyqpanda as pq\n",
    "import pyvqnet as pv\n",
    "import random\n",
    "\n",
    "%matplotlib inline"
   ]
  },
  {
   "cell_type": "code",
   "execution_count": 2,
   "id": "00d0bd95-484a-4e3d-b491-677e8a0ec9e1",
   "metadata": {
    "editable": false,
    "slideshow": {
     "slide_type": ""
    },
    "tags": []
   },
   "outputs": [],
   "source": [
    "train_data = Dataset(\n",
    "    \"data/cifar-10-batches-py/data_batch_1\",\n",
    "    \"data/cifar-10-batches-py/data_batch_2\",\n",
    "    \"data/cifar-10-batches-py/data_batch_3\",\n",
    "    \"data/cifar-10-batches-py/data_batch_4\",\n",
    "    \"data/cifar-10-batches-py/data_batch_5\",\n",
    ")\n",
    "train_data.enhance()\n",
    "test_data = Dataset(\"data/cifar-10-batches-py/test_batch\")"
   ]
  },
  {
   "cell_type": "code",
   "execution_count": 3,
   "id": "87bb597e-1bd2-4614-96c0-d0d9096bdcf5",
   "metadata": {
    "editable": true,
    "slideshow": {
     "slide_type": ""
    },
    "tags": []
   },
   "outputs": [],
   "source": [
    "obs_list = [\n",
    "    {\n",
    "        \"wires\": [i],\n",
    "        \"observables\": [\"Z\"],\n",
    "        \"coefficient\": [1],\n",
    "    }\n",
    "    for i in range(10)\n",
    "]\n",
    "\n",
    "\n",
    "def pqc(input, param, qubits, cbits, machine):\n",
    "    n = len(input)\n",
    "    prog = pq.QProg()\n",
    "    prog.insert(pq.H(qubits[10]))\n",
    "    for i in range(10):\n",
    "        prog.insert(pq.CNOT(qubits[10], qubits[i]))\n",
    "    for i in range(n):\n",
    "        prog.insert(pq.U2(qubits[i % 10], param[i], input[i]))\n",
    "    for i in range(10):\n",
    "        prog.insert(pq.CNOT(qubits[10], qubits[i]))\n",
    "\n",
    "    re = pv.qnn.measure.MeasurePauliSum(machine, prog, obs_list, qubits)\n",
    "    return re\n",
    "\n",
    "\n",
    "class Model(pv.nn.module.Module):\n",
    "    def __init__(self):\n",
    "        super(Model, self).__init__()\n",
    "        self.conv1 = pv.nn.Conv2D(3, 30, (3, 3))\n",
    "        self.conv2 = pv.nn.Conv2D(30, 30, (3, 3))\n",
    "        self.pool2 = pv.nn.MaxPool2D((2, 2), (2, 2))\n",
    "        self.conv3 = pv.nn.Conv2D(30, 60, (3, 3))\n",
    "        self.conv4 = pv.nn.Conv2D(60, 60, (3, 3))\n",
    "        self.pool4 = pv.nn.MaxPool2D((2, 2), (2, 2))\n",
    "        self.conv5 = pv.nn.Conv2D(60, 120, (3, 3))\n",
    "        self.conv6 = pv.nn.Conv2D(120, 120, (3, 3))\n",
    "        self.qc = pv.qnn.quantumlayer.QuantumLayer(\n",
    "            pqc, 120, \"CPU\", 11, diff_method=\"finite_diff\"\n",
    "        )\n",
    "        # self.qc = pv.nn.Linear(120, 10)\n",
    "\n",
    "    def forward(self, x):\n",
    "        x = self.conv1(x)\n",
    "        x = self.conv2(x)\n",
    "        x = self.pool2(x)\n",
    "        x = self.conv3(x)\n",
    "        x = self.conv4(x)\n",
    "        x = self.pool4(x)\n",
    "        x = self.conv5(x)\n",
    "        x = self.conv6(x)\n",
    "        x = pv.tensor.flatten(x, 1)\n",
    "        x = 2 * pv.tensor.atan(x)\n",
    "        x = self.qc(x)\n",
    "        return x"
   ]
  },
  {
   "cell_type": "code",
   "execution_count": 4,
   "id": "fc0cda54-098f-4397-8eef-7faa6d382d70",
   "metadata": {
    "editable": true,
    "slideshow": {
     "slide_type": ""
    },
    "tags": []
   },
   "outputs": [
    {
     "name": "stdout",
     "output_type": "stream",
     "text": [
      "47790\n"
     ]
    }
   ],
   "source": [
    "epoch = 100\n",
    "batch = 16\n",
    "holdout = 10000\n",
    "\n",
    "model = Model()\n",
    "print(sum(p.numel() for p in model.parameters()))"
   ]
  },
  {
   "cell_type": "code",
   "execution_count": 5,
   "id": "a295ff97-6006-46b0-90e1-a09a8f953469",
   "metadata": {
    "editable": true,
    "scrolled": true,
    "slideshow": {
     "slide_type": ""
    },
    "tags": []
   },
   "outputs": [
    {
     "ename": "KeyboardInterrupt",
     "evalue": "",
     "output_type": "error",
     "traceback": [
      "\u001b[1;31m---------------------------------------------------------------------------\u001b[0m",
      "\u001b[1;31mKeyboardInterrupt\u001b[0m                         Traceback (most recent call last)",
      "Cell \u001b[1;32mIn[5], line 25\u001b[0m\n\u001b[0;32m     23\u001b[0m acc \u001b[38;5;241m=\u001b[39m correct \u001b[38;5;241m/\u001b[39m y\u001b[38;5;241m.\u001b[39mshape[\u001b[38;5;241m0\u001b[39m]\n\u001b[0;32m     24\u001b[0m correct_tot \u001b[38;5;241m+\u001b[39m\u001b[38;5;241m=\u001b[39m correct\n\u001b[1;32m---> 25\u001b[0m \u001b[43mloss\u001b[49m\u001b[38;5;241;43m.\u001b[39;49m\u001b[43mbackward\u001b[49m\u001b[43m(\u001b[49m\u001b[43m)\u001b[49m\n\u001b[0;32m     26\u001b[0m opt\u001b[38;5;241m.\u001b[39m_step()\n\u001b[0;32m     27\u001b[0m \u001b[38;5;28;01mif\u001b[39;00m i \u001b[38;5;241m%\u001b[39m \u001b[38;5;241m10\u001b[39m \u001b[38;5;241m==\u001b[39m \u001b[38;5;241m0\u001b[39m:\n",
      "File \u001b[1;32mpyvqnet\\tensor\\tensor.py:236\u001b[0m, in \u001b[0;36mpyvqnet.tensor.tensor.QTensor.backward\u001b[1;34m()\u001b[0m\n",
      "File \u001b[1;32mpyvqnet\\tensor\\tensor.py:9204\u001b[0m, in \u001b[0;36mpyvqnet.tensor.tensor.backprop\u001b[1;34m()\u001b[0m\n",
      "File \u001b[1;32mpyvqnet\\tensor\\tensor.py:9162\u001b[0m, in \u001b[0;36mpyvqnet.tensor.tensor.backprop_impl\u001b[1;34m()\u001b[0m\n",
      "File \u001b[1;32mpyvqnet\\qnn\\quantumlayer.py:1533\u001b[0m, in \u001b[0;36mpyvqnet.qnn.quantumlayer.QuantumLayer.forward.lambda6\u001b[1;34m()\u001b[0m\n",
      "File \u001b[1;32mpyvqnet\\qnn\\quantumlayer.py:1687\u001b[0m, in \u001b[0;36mpyvqnet.qnn.quantumlayer.QuantumLayer._grad_x\u001b[1;34m()\u001b[0m\n",
      "File \u001b[1;32mpyvqnet\\qnn\\quantumlayer.py:3718\u001b[0m, in \u001b[0;36mpyvqnet.qnn.quantumlayer._fun_of_calc_x_grad\u001b[1;34m()\u001b[0m\n",
      "\u001b[1;31mKeyboardInterrupt\u001b[0m: "
     ]
    }
   ],
   "source": [
    "X, Y = train_data.getdatas()\n",
    "los = pv.nn.loss.CrossEntropyLoss()\n",
    "opt = pv.optim.SGD(model.parameters())\n",
    "\n",
    "acc_train = []\n",
    "acc_test = []\n",
    "\n",
    "for e in range(1, epoch + 1):\n",
    "    model.train()\n",
    "\n",
    "    correct_tot = 0\n",
    "    for I, (x, y) in enumerate(\n",
    "        pv.data.data_generator(\n",
    "            X[:-holdout], Y[:-holdout], batch_size=batch, shuffle=True\n",
    "        )\n",
    "    ):\n",
    "        i = I + 1\n",
    "        # print(i)\n",
    "        opt.zero_grad()\n",
    "        y_pred = model(x)\n",
    "        loss = los(y, y_pred)\n",
    "        correct = sum(y_pred.argmax(1, False).to_numpy() == y)\n",
    "        acc = correct / y.shape[0]\n",
    "        correct_tot += correct\n",
    "        loss.backward()\n",
    "        opt._step()\n",
    "        if i % 10 == 0:\n",
    "            print(\n",
    "                f\"epoch {e}/{epoch} \\t batch {batch*i}/{Y.shape[0]-holdout} \\t loss {loss.item():.2f} \\t accuracy {acc:.2f}\"\n",
    "            )\n",
    "\n",
    "    model.eval()\n",
    "\n",
    "    acc = correct_tot / (Y.shape[0] - holdout)\n",
    "    print(f\"********** train: epoch {e}/{epoch} \\t accuracy {100*acc:.2f}% **********\")\n",
    "    acc_train.append(acc)\n",
    "\n",
    "    correct_tot = 0\n",
    "    for x, y in pv.data.data_generator(\n",
    "        X[-holdout:], Y[-holdout:], batch_size=batch, shuffle=False\n",
    "    ):\n",
    "        y_pred = model(x)\n",
    "        correct_tot += sum(y_pred.argmax(1, False).to_numpy() == y)\n",
    "\n",
    "    acc = correct_tot / holdout\n",
    "    print(f\"********** test: epoch {e}/{epoch} \\t accuracy {100*acc:.2f}% **********\")\n",
    "    acc_test.append(acc)\n",
    "\n",
    "    opt = pv.optim.SGD(model.parameters(), 0.01 * (1 - acc))"
   ]
  },
  {
   "cell_type": "code",
   "execution_count": null,
   "id": "402d77b3-2cad-4bce-aad4-e9acd9205e8a",
   "metadata": {
    "editable": true,
    "slideshow": {
     "slide_type": ""
    },
    "tags": []
   },
   "outputs": [],
   "source": [
    "pv.utils.storage.save_parameters(model.state_dict(), \"train13.model\")"
   ]
  },
  {
   "cell_type": "code",
   "execution_count": null,
   "id": "dca29aa3-7efa-4e0e-a97c-eb145820efd6",
   "metadata": {
    "editable": true,
    "slideshow": {
     "slide_type": ""
    },
    "tags": []
   },
   "outputs": [],
   "source": [
    "m = Model()\n",
    "m.load_state_dict(pv.utils.storage.load_parameters(\"train13.model\"))"
   ]
  },
  {
   "cell_type": "code",
   "execution_count": null,
   "id": "d7d444c3-c167-4ff0-b6dd-725bb01148a6",
   "metadata": {
    "editable": false,
    "slideshow": {
     "slide_type": ""
    },
    "tags": []
   },
   "outputs": [],
   "source": [
    "m.eval()\n",
    "X, Y = test_data.getdatas()\n",
    "correct_tot = 0\n",
    "for x, y in pv.data.data_generator(X, Y, batch_size=batch, shuffle=False):\n",
    "    y_pred = model(x)\n",
    "    correct_tot += sum(y_pred.argmax(1, False).to_numpy() == y)\n",
    "acc = correct_tot / Y.shape[0]\n",
    "print(f\"********** eval: accuracy {100*acc:.2f}% **********\")"
   ]
  },
  {
   "cell_type": "code",
   "execution_count": null,
   "id": "1c91b698-5df4-46b1-9aa5-8950328b2068",
   "metadata": {
    "editable": true,
    "slideshow": {
     "slide_type": ""
    },
    "tags": []
   },
   "outputs": [],
   "source": []
  },
  {
   "cell_type": "code",
   "execution_count": null,
   "id": "7c82a43a-b593-4feb-baf4-0174d6bf7ef2",
   "metadata": {
    "editable": true,
    "slideshow": {
     "slide_type": ""
    },
    "tags": []
   },
   "outputs": [],
   "source": [
    "pv.tensor.atan()"
   ]
  },
  {
   "cell_type": "code",
   "execution_count": null,
   "id": "12fe0458-44ee-4fde-8fdc-79d528782f55",
   "metadata": {},
   "outputs": [],
   "source": []
  },
  {
   "cell_type": "code",
   "execution_count": null,
   "id": "534048c2-cee7-49f3-ad6a-09a1b0150614",
   "metadata": {},
   "outputs": [],
   "source": []
  },
  {
   "cell_type": "code",
   "execution_count": null,
   "id": "ac5640dd-406d-4843-9e05-0f9823b6461b",
   "metadata": {
    "editable": true,
    "slideshow": {
     "slide_type": ""
    },
    "tags": []
   },
   "outputs": [],
   "source": []
  }
 ],
 "metadata": {
  "kernelspec": {
   "display_name": "Python 3 (ipykernel)",
   "language": "python",
   "name": "python3"
  },
  "language_info": {
   "codemirror_mode": {
    "name": "ipython",
    "version": 3
   },
   "file_extension": ".py",
   "mimetype": "text/x-python",
   "name": "python",
   "nbconvert_exporter": "python",
   "pygments_lexer": "ipython3",
   "version": "3.10.12"
  }
 },
 "nbformat": 4,
 "nbformat_minor": 5
}
