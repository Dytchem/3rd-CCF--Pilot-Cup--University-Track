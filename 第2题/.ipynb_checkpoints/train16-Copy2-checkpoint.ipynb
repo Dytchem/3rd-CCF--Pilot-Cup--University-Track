{
 "cells": [
  {
   "cell_type": "code",
   "execution_count": 1,
   "id": "590792a5-cddf-4a5d-aaef-da554f16ab4c",
   "metadata": {
    "editable": false,
    "slideshow": {
     "slide_type": ""
    },
    "tags": []
   },
   "outputs": [],
   "source": [
    "from utils import *\n",
    "import numpy as np\n",
    "import matplotlib.pyplot as plt\n",
    "import pyqpanda as pq\n",
    "import pyvqnet as pv\n",
    "import random\n",
    "from functools import partial\n",
    "import time\n",
    "\n",
    "%matplotlib inline"
   ]
  },
  {
   "cell_type": "code",
   "execution_count": 2,
   "id": "00d0bd95-484a-4e3d-b491-677e8a0ec9e1",
   "metadata": {
    "editable": false,
    "slideshow": {
     "slide_type": ""
    },
    "tags": []
   },
   "outputs": [],
   "source": [
    "train_data = Dataset(\n",
    "    \"data/cifar-10-batches-py/data_batch_1\",\n",
    "    \"data/cifar-10-batches-py/data_batch_2\",\n",
    "    \"data/cifar-10-batches-py/data_batch_3\",\n",
    "    \"data/cifar-10-batches-py/data_batch_4\",\n",
    "    \"data/cifar-10-batches-py/data_batch_5\",\n",
    ")\n",
    "train_data.enhance()\n",
    "test_data = Dataset(\"data/cifar-10-batches-py/test_batch\")"
   ]
  },
  {
   "cell_type": "code",
   "execution_count": 3,
   "id": "87bb597e-1bd2-4614-96c0-d0d9096bdcf5",
   "metadata": {
    "editable": true,
    "slideshow": {
     "slide_type": ""
    },
    "tags": []
   },
   "outputs": [],
   "source": [
    "class qm(pv.qnn.vqc.QModule):\n",
    "    def __init__(self, name=\"\"):\n",
    "        super().__init__(name)\n",
    "        self.device = pv.qnn.vqc.QMachine(2)\n",
    "        self.RX1 = pv.qnn.vqc.qcircuit.RX(wires=0)\n",
    "        self.RX2 = pv.qnn.vqc.qcircuit.RX(wires=1)\n",
    "        self.RY1 = pv.qnn.vqc.qcircuit.RY(True, True, 0, wires=0)\n",
    "        self.RY2 = pv.qnn.vqc.qcircuit.RY(True, True, 0, wires=1)\n",
    "        self.RX3 = pv.qnn.vqc.qcircuit.RX(True, True, 0, wires=0)\n",
    "        self.RX4 = pv.qnn.vqc.qcircuit.RX(True, True, 0, wires=1)\n",
    "        self.CZ1 = pv.qnn.vqc.qcircuit.CZ(wires=(0, 1))\n",
    "        self.CZ2 = pv.qnn.vqc.qcircuit.CZ(wires=(1, 0))\n",
    "        self.RY3 = pv.qnn.vqc.qcircuit.RY(True, True, 0, wires=0)\n",
    "        self.RY4 = pv.qnn.vqc.qcircuit.RY(True, True, 0, wires=1)\n",
    "        self.measure = pv.qnn.vqc.MeasureAll(\n",
    "            obs=[\n",
    "                {\n",
    "                    \"wires\": [0],\n",
    "                    \"observables\": [\"Z\"],\n",
    "                    \"coefficient\": [1],\n",
    "                }\n",
    "            ]\n",
    "        )\n",
    "\n",
    "    # @partial(pv.qnn.vqc.wrapper_compile)\n",
    "    def forward(self, x, y):\n",
    "        self.device.reset_states(x.shape[0])\n",
    "        self.RX1(q_machine=self.device, params=x[:])\n",
    "        self.RX2(q_machine=self.device, params=y[:])\n",
    "        self.RY1(q_machine=self.device)\n",
    "        self.RY2(q_machine=self.device)\n",
    "        self.RX3(q_machine=self.device)\n",
    "        self.RX4(q_machine=self.device)\n",
    "        self.CZ1(q_machine=self.device)\n",
    "        self.CZ2(q_machine=self.device)\n",
    "        self.RY3(q_machine=self.device)\n",
    "        self.RY4(q_machine=self.device)\n",
    "\n",
    "        return self.measure(q_machine=self.device)\n",
    "\n",
    "\n",
    "class QM(pv.nn.module.Module):\n",
    "    def __init__(self, name=\"\"):\n",
    "        super().__init__(name)\n",
    "        self.vqc = qm(name)\n",
    "\n",
    "    def forward(self, x, y):\n",
    "        X = pv.tensor.flatten(x, 1)\n",
    "        Y = pv.tensor.flatten(y, 1)\n",
    "        Z = pv.tensor.zeros_like(X)\n",
    "        for i in range(X.shape[1]):\n",
    "            Z[:, i] = self.vqc(X[:, i], Y[:, i])\n",
    "        z = pv.tensor.reshape(Z, x.shape)\n",
    "        return z\n",
    "\n",
    "\n",
    "class Model(pv.nn.module.Module):\n",
    "    def __init__(self):\n",
    "        super(Model, self).__init__()\n",
    "        self.conv1 = pv.nn.Conv2D(3, 4, (3, 3), (1, 1), \"same\")\n",
    "        self.pool1 = pv.nn.MaxPool2D((4, 4), (4, 4))\n",
    "        self.conv2 = pv.nn.Conv2D(3, 4, (3, 3), (1, 1), \"same\")\n",
    "        self.pool2 = pv.nn.MaxPool2D((4, 4), (4, 4))\n",
    "        self.vqc1 = QM(\"MyVQC1\")\n",
    "        self.conv3 = pv.nn.Conv2D(4, 8, (3, 3), (1, 1), \"same\")\n",
    "        self.pool3 = pv.nn.MaxPool2D((4, 4), (4, 4))\n",
    "        self.conv4 = pv.nn.Conv2D(4, 8, (3, 3), (1, 1), \"same\")\n",
    "        self.pool4 = pv.nn.MaxPool2D((4, 4), (4, 4))\n",
    "        self.vqc2 = QM(\"MyVQC2\")\n",
    "        self.fc = pv.nn.Linear(8 * 2 * 2, 10)\n",
    "\n",
    "    def forward(self, x):\n",
    "        x1 = 2 * pv.tensor.atan(self.pool1(self.conv1(x)))\n",
    "        x2 = 2 * pv.tensor.atan(self.pool2(self.conv2(x)))\n",
    "        x = self.vqc1(x1, x2)\n",
    "        x1 = 2 * pv.tensor.atan(self.pool3(self.conv3(x)))\n",
    "        x2 = 2 * pv.tensor.atan(self.pool4(self.conv4(x)))\n",
    "        x = self.vqc2(x1, x2)\n",
    "        x = pv.tensor.flatten(x, 1)\n",
    "        x = self.fc(x)\n",
    "\n",
    "        return x"
   ]
  },
  {
   "cell_type": "code",
   "execution_count": 4,
   "id": "d1d15243-0ede-4f5e-aed5-6f5281aa0faa",
   "metadata": {
    "editable": true,
    "slideshow": {
     "slide_type": ""
    },
    "tags": []
   },
   "outputs": [
    {
     "name": "stdout",
     "output_type": "stream",
     "text": [
      "\n",
      "\n",
      "###################Model Summary#######################\n",
      "\n",
      "classic layers: {'Conv2D': 4, 'MaxPool2D': 4, 'Linear': 1}\n",
      "total classic parameters: 1146\n",
      "\n",
      "=========================================\n",
      "qubits num: 2\n",
      "gates: {'RX': 8, 'RY': 8, 'CZ': 4}\n",
      "total quantum gates: 20\n",
      "total quantum parameter gates: 16\n",
      "total quantum parameters: 16\n",
      "#########################################################\n",
      "    \n"
     ]
    }
   ],
   "source": [
    "epoch = 1000\n",
    "batch = 32\n",
    "holdout = 10000\n",
    "\n",
    "model = Model()\n",
    "# model.load_state_dict(pv.utils.storage.load_parameters(\"train15.model\"))\n",
    "print(pv.model_summary(model))\n",
    "\n",
    "e = 1\n",
    "acc_train = []\n",
    "acc_test = []"
   ]
  },
  {
   "cell_type": "code",
   "execution_count": 5,
   "id": "3943cdfc-3f1f-48e1-9d9e-a8f63cc645ac",
   "metadata": {
    "editable": true,
    "slideshow": {
     "slide_type": ""
    },
    "tags": []
   },
   "outputs": [],
   "source": [
    "# batch = 128"
   ]
  },
  {
   "cell_type": "code",
   "execution_count": null,
   "id": "a295ff97-6006-46b0-90e1-a09a8f953469",
   "metadata": {
    "editable": true,
    "scrolled": true,
    "slideshow": {
     "slide_type": ""
    },
    "tags": []
   },
   "outputs": [
    {
     "name": "stdout",
     "output_type": "stream",
     "text": [
      "epoch 1/1000 \t batch 320/90000 \t loss 2.36 \t accuracy 0.12    \t 49.33 s\n",
      "epoch 1/1000 \t batch 640/90000 \t loss 2.24 \t accuracy 0.16    \t 99.81 s\n",
      "epoch 1/1000 \t batch 960/90000 \t loss 2.33 \t accuracy 0.03    \t 154.79 s\n",
      "epoch 1/1000 \t batch 1280/90000 \t loss 2.14 \t accuracy 0.22    \t 206.94 s\n",
      "epoch 1/1000 \t batch 1600/90000 \t loss 2.09 \t accuracy 0.19    \t 260.51 s\n",
      "epoch 1/1000 \t batch 1920/90000 \t loss 2.08 \t accuracy 0.22    \t 312.08 s\n",
      "epoch 1/1000 \t batch 2240/90000 \t loss 2.08 \t accuracy 0.16    \t 363.50 s\n",
      "epoch 1/1000 \t batch 2560/90000 \t loss 1.94 \t accuracy 0.22    \t 415.91 s\n",
      "epoch 1/1000 \t batch 2880/90000 \t loss 2.14 \t accuracy 0.22    \t 467.50 s\n",
      "epoch 1/1000 \t batch 3200/90000 \t loss 1.80 \t accuracy 0.25    \t 521.68 s\n",
      "epoch 1/1000 \t batch 3520/90000 \t loss 1.91 \t accuracy 0.34    \t 574.44 s\n",
      "epoch 1/1000 \t batch 3840/90000 \t loss 1.78 \t accuracy 0.47    \t 628.79 s\n",
      "epoch 1/1000 \t batch 4160/90000 \t loss 1.74 \t accuracy 0.41    \t 682.63 s\n",
      "epoch 1/1000 \t batch 4480/90000 \t loss 1.87 \t accuracy 0.38    \t 735.10 s\n",
      "epoch 1/1000 \t batch 4800/90000 \t loss 2.01 \t accuracy 0.22    \t 787.78 s\n",
      "epoch 1/1000 \t batch 5120/90000 \t loss 1.91 \t accuracy 0.25    \t 843.99 s\n",
      "epoch 1/1000 \t batch 5440/90000 \t loss 1.84 \t accuracy 0.25    \t 897.70 s\n",
      "epoch 1/1000 \t batch 5760/90000 \t loss 1.79 \t accuracy 0.44    \t 954.11 s\n",
      "epoch 1/1000 \t batch 6080/90000 \t loss 2.16 \t accuracy 0.12    \t 1007.30 s\n",
      "epoch 1/1000 \t batch 6400/90000 \t loss 1.70 \t accuracy 0.38    \t 1063.64 s\n",
      "epoch 1/1000 \t batch 6720/90000 \t loss 1.87 \t accuracy 0.34    \t 1120.41 s\n",
      "epoch 1/1000 \t batch 7040/90000 \t loss 1.75 \t accuracy 0.38    \t 1175.46 s\n",
      "epoch 1/1000 \t batch 7360/90000 \t loss 1.78 \t accuracy 0.41    \t 1232.68 s\n",
      "epoch 1/1000 \t batch 7680/90000 \t loss 1.74 \t accuracy 0.44    \t 1287.32 s\n",
      "epoch 1/1000 \t batch 8000/90000 \t loss 1.84 \t accuracy 0.22    \t 1342.12 s\n",
      "epoch 1/1000 \t batch 8320/90000 \t loss 1.87 \t accuracy 0.31    \t 1396.73 s\n",
      "epoch 1/1000 \t batch 8640/90000 \t loss 1.74 \t accuracy 0.38    \t 1451.93 s\n",
      "epoch 1/1000 \t batch 8960/90000 \t loss 1.94 \t accuracy 0.25    \t 1506.59 s\n",
      "epoch 1/1000 \t batch 9280/90000 \t loss 1.94 \t accuracy 0.25    \t 1561.53 s\n",
      "epoch 1/1000 \t batch 9600/90000 \t loss 1.91 \t accuracy 0.34    \t 1617.75 s\n",
      "epoch 1/1000 \t batch 9920/90000 \t loss 2.06 \t accuracy 0.19    \t 1672.56 s\n",
      "epoch 1/1000 \t batch 10240/90000 \t loss 1.60 \t accuracy 0.38    \t 1727.30 s\n",
      "epoch 1/1000 \t batch 10560/90000 \t loss 1.75 \t accuracy 0.38    \t 1782.13 s\n",
      "epoch 1/1000 \t batch 10880/90000 \t loss 1.80 \t accuracy 0.31    \t 1837.35 s\n",
      "epoch 1/1000 \t batch 11200/90000 \t loss 1.62 \t accuracy 0.50    \t 1892.14 s\n",
      "epoch 1/1000 \t batch 11520/90000 \t loss 1.86 \t accuracy 0.31    \t 1947.96 s\n",
      "epoch 1/1000 \t batch 11840/90000 \t loss 1.84 \t accuracy 0.31    \t 2002.38 s\n",
      "epoch 1/1000 \t batch 12160/90000 \t loss 1.81 \t accuracy 0.41    \t 2057.25 s\n",
      "epoch 1/1000 \t batch 12480/90000 \t loss 1.82 \t accuracy 0.25    \t 2111.94 s\n",
      "epoch 1/1000 \t batch 12800/90000 \t loss 1.80 \t accuracy 0.31    \t 2166.45 s\n",
      "epoch 1/1000 \t batch 13120/90000 \t loss 1.71 \t accuracy 0.44    \t 2221.76 s\n",
      "epoch 1/1000 \t batch 13440/90000 \t loss 1.82 \t accuracy 0.41    \t 2276.31 s\n",
      "epoch 1/1000 \t batch 13760/90000 \t loss 1.76 \t accuracy 0.41    \t 2331.92 s\n",
      "epoch 1/1000 \t batch 14080/90000 \t loss 1.74 \t accuracy 0.47    \t 2386.61 s\n",
      "epoch 1/1000 \t batch 14400/90000 \t loss 1.62 \t accuracy 0.38    \t 2441.63 s\n",
      "epoch 1/1000 \t batch 14720/90000 \t loss 1.57 \t accuracy 0.47    \t 2496.66 s\n",
      "epoch 1/1000 \t batch 15040/90000 \t loss 1.73 \t accuracy 0.44    \t 2551.69 s\n",
      "epoch 1/1000 \t batch 15360/90000 \t loss 1.75 \t accuracy 0.47    \t 2607.16 s\n",
      "epoch 1/1000 \t batch 15680/90000 \t loss 1.64 \t accuracy 0.44    \t 2662.19 s\n",
      "epoch 1/1000 \t batch 16000/90000 \t loss 1.47 \t accuracy 0.56    \t 2717.64 s\n",
      "epoch 1/1000 \t batch 16320/90000 \t loss 1.46 \t accuracy 0.44    \t 2773.53 s\n",
      "epoch 1/1000 \t batch 16640/90000 \t loss 1.50 \t accuracy 0.53    \t 2829.18 s\n",
      "epoch 1/1000 \t batch 16960/90000 \t loss 1.65 \t accuracy 0.38    \t 2885.21 s\n",
      "epoch 1/1000 \t batch 17280/90000 \t loss 1.64 \t accuracy 0.47    \t 2940.99 s\n",
      "epoch 1/1000 \t batch 17600/90000 \t loss 1.69 \t accuracy 0.28    \t 2997.66 s\n",
      "epoch 1/1000 \t batch 17920/90000 \t loss 1.70 \t accuracy 0.38    \t 3054.40 s\n",
      "epoch 1/1000 \t batch 18240/90000 \t loss 1.59 \t accuracy 0.47    \t 3110.41 s\n",
      "epoch 1/1000 \t batch 18560/90000 \t loss 1.35 \t accuracy 0.50    \t 3166.16 s\n",
      "epoch 1/1000 \t batch 18880/90000 \t loss 1.73 \t accuracy 0.47    \t 3221.89 s\n",
      "epoch 1/1000 \t batch 19200/90000 \t loss 1.72 \t accuracy 0.38    \t 3277.71 s\n",
      "epoch 1/1000 \t batch 19520/90000 \t loss 1.44 \t accuracy 0.44    \t 3333.28 s\n",
      "epoch 1/1000 \t batch 19840/90000 \t loss 1.56 \t accuracy 0.53    \t 3389.85 s\n",
      "epoch 1/1000 \t batch 20160/90000 \t loss 1.59 \t accuracy 0.47    \t 3445.84 s\n",
      "epoch 1/1000 \t batch 20480/90000 \t loss 1.56 \t accuracy 0.38    \t 3502.07 s\n",
      "epoch 1/1000 \t batch 20800/90000 \t loss 1.85 \t accuracy 0.31    \t 3557.67 s\n",
      "epoch 1/1000 \t batch 21120/90000 \t loss 1.86 \t accuracy 0.41    \t 3614.39 s\n",
      "epoch 1/1000 \t batch 21440/90000 \t loss 1.40 \t accuracy 0.59    \t 3670.19 s\n",
      "epoch 1/1000 \t batch 21760/90000 \t loss 1.36 \t accuracy 0.50    \t 3726.25 s\n",
      "epoch 1/1000 \t batch 22080/90000 \t loss 1.80 \t accuracy 0.44    \t 3782.88 s\n",
      "epoch 1/1000 \t batch 22400/90000 \t loss 1.82 \t accuracy 0.31    \t 3838.99 s\n",
      "epoch 1/1000 \t batch 22720/90000 \t loss 1.83 \t accuracy 0.31    \t 3895.38 s\n",
      "epoch 1/1000 \t batch 23040/90000 \t loss 1.87 \t accuracy 0.31    \t 3951.94 s\n",
      "epoch 1/1000 \t batch 23360/90000 \t loss 1.50 \t accuracy 0.44    \t 4008.75 s\n",
      "epoch 1/1000 \t batch 23680/90000 \t loss 1.55 \t accuracy 0.41    \t 4065.15 s\n",
      "epoch 1/1000 \t batch 24000/90000 \t loss 1.60 \t accuracy 0.41    \t 4121.68 s\n",
      "epoch 1/1000 \t batch 24320/90000 \t loss 1.67 \t accuracy 0.41    \t 4178.59 s\n",
      "epoch 1/1000 \t batch 24640/90000 \t loss 1.66 \t accuracy 0.34    \t 4235.75 s\n",
      "epoch 1/1000 \t batch 24960/90000 \t loss 1.46 \t accuracy 0.34    \t 4292.60 s\n",
      "epoch 1/1000 \t batch 25280/90000 \t loss 1.98 \t accuracy 0.25    \t 4349.70 s\n",
      "epoch 1/1000 \t batch 25600/90000 \t loss 1.65 \t accuracy 0.41    \t 4406.89 s\n",
      "epoch 1/1000 \t batch 25920/90000 \t loss 1.60 \t accuracy 0.44    \t 4463.62 s\n",
      "epoch 1/1000 \t batch 26240/90000 \t loss 1.86 \t accuracy 0.41    \t 4520.37 s\n",
      "epoch 1/1000 \t batch 26560/90000 \t loss 1.68 \t accuracy 0.38    \t 4577.58 s\n",
      "epoch 1/1000 \t batch 26880/90000 \t loss 1.56 \t accuracy 0.34    \t 4634.77 s\n",
      "epoch 1/1000 \t batch 27200/90000 \t loss 1.48 \t accuracy 0.44    \t 4692.19 s\n",
      "epoch 1/1000 \t batch 27520/90000 \t loss 1.62 \t accuracy 0.38    \t 4749.52 s\n",
      "epoch 1/1000 \t batch 27840/90000 \t loss 2.05 \t accuracy 0.38    \t 4806.78 s\n",
      "epoch 1/1000 \t batch 28160/90000 \t loss 1.47 \t accuracy 0.31    \t 4864.04 s\n",
      "epoch 1/1000 \t batch 28480/90000 \t loss 1.32 \t accuracy 0.59    \t 4921.55 s\n",
      "epoch 1/1000 \t batch 28800/90000 \t loss 1.97 \t accuracy 0.47    \t 4980.08 s\n",
      "epoch 1/1000 \t batch 29120/90000 \t loss 1.39 \t accuracy 0.47    \t 5037.42 s\n",
      "epoch 1/1000 \t batch 29440/90000 \t loss 1.98 \t accuracy 0.12    \t 5095.28 s\n",
      "epoch 1/1000 \t batch 29760/90000 \t loss 1.57 \t accuracy 0.47    \t 5154.18 s\n",
      "epoch 1/1000 \t batch 30080/90000 \t loss 1.66 \t accuracy 0.28    \t 5211.48 s\n",
      "epoch 1/1000 \t batch 30400/90000 \t loss 1.44 \t accuracy 0.50    \t 5269.33 s\n",
      "epoch 1/1000 \t batch 30720/90000 \t loss 1.46 \t accuracy 0.47    \t 5327.73 s\n",
      "epoch 1/1000 \t batch 31040/90000 \t loss 1.95 \t accuracy 0.34    \t 5386.45 s\n",
      "epoch 1/1000 \t batch 31360/90000 \t loss 1.47 \t accuracy 0.62    \t 5445.21 s\n",
      "epoch 1/1000 \t batch 31680/90000 \t loss 1.68 \t accuracy 0.34    \t 5504.69 s\n",
      "epoch 1/1000 \t batch 32000/90000 \t loss 1.53 \t accuracy 0.56    \t 5564.03 s\n",
      "epoch 1/1000 \t batch 32320/90000 \t loss 1.70 \t accuracy 0.44    \t 5623.18 s\n",
      "epoch 1/1000 \t batch 32640/90000 \t loss 1.82 \t accuracy 0.34    \t 5681.72 s\n",
      "epoch 1/1000 \t batch 32960/90000 \t loss 1.55 \t accuracy 0.34    \t 5740.26 s\n",
      "epoch 1/1000 \t batch 33280/90000 \t loss 1.76 \t accuracy 0.50    \t 5798.97 s\n",
      "epoch 1/1000 \t batch 33600/90000 \t loss 1.68 \t accuracy 0.38    \t 5857.70 s\n",
      "epoch 1/1000 \t batch 33920/90000 \t loss 1.45 \t accuracy 0.38    \t 5916.37 s\n",
      "epoch 1/1000 \t batch 34240/90000 \t loss 1.70 \t accuracy 0.28    \t 5974.61 s\n",
      "epoch 1/1000 \t batch 34560/90000 \t loss 2.08 \t accuracy 0.25    \t 6033.45 s\n",
      "epoch 1/1000 \t batch 34880/90000 \t loss 1.71 \t accuracy 0.28    \t 6093.22 s\n",
      "epoch 1/1000 \t batch 35200/90000 \t loss 1.65 \t accuracy 0.47    \t 6153.08 s\n",
      "epoch 1/1000 \t batch 35520/90000 \t loss 1.42 \t accuracy 0.44    \t 6212.12 s\n",
      "epoch 1/1000 \t batch 35840/90000 \t loss 1.59 \t accuracy 0.53    \t 6272.19 s\n",
      "epoch 1/1000 \t batch 36160/90000 \t loss 1.52 \t accuracy 0.38    \t 6333.19 s\n",
      "epoch 1/1000 \t batch 36480/90000 \t loss 1.73 \t accuracy 0.44    \t 6393.11 s\n",
      "epoch 1/1000 \t batch 36800/90000 \t loss 1.56 \t accuracy 0.34    \t 6453.88 s\n",
      "epoch 1/1000 \t batch 37120/90000 \t loss 1.37 \t accuracy 0.44    \t 6514.03 s\n",
      "epoch 1/1000 \t batch 37440/90000 \t loss 1.55 \t accuracy 0.41    \t 6574.13 s\n",
      "epoch 1/1000 \t batch 37760/90000 \t loss 1.85 \t accuracy 0.34    \t 6635.20 s\n",
      "epoch 1/1000 \t batch 38080/90000 \t loss 1.58 \t accuracy 0.31    \t 6694.80 s\n",
      "epoch 1/1000 \t batch 38400/90000 \t loss 1.61 \t accuracy 0.44    \t 6754.28 s\n",
      "epoch 1/1000 \t batch 38720/90000 \t loss 1.46 \t accuracy 0.41    \t 6813.85 s\n",
      "epoch 1/1000 \t batch 39040/90000 \t loss 1.43 \t accuracy 0.47    \t 6873.24 s\n",
      "epoch 1/1000 \t batch 39360/90000 \t loss 1.63 \t accuracy 0.44    \t 6934.61 s\n",
      "epoch 1/1000 \t batch 39680/90000 \t loss 2.24 \t accuracy 0.34    \t 6996.59 s\n",
      "epoch 1/1000 \t batch 40000/90000 \t loss 1.58 \t accuracy 0.44    \t 7055.83 s\n",
      "epoch 1/1000 \t batch 40320/90000 \t loss 1.71 \t accuracy 0.38    \t 7114.07 s\n",
      "epoch 1/1000 \t batch 40640/90000 \t loss 1.75 \t accuracy 0.41    \t 7172.41 s\n",
      "epoch 1/1000 \t batch 40960/90000 \t loss 1.30 \t accuracy 0.62    \t 7231.59 s\n",
      "epoch 1/1000 \t batch 41280/90000 \t loss 1.60 \t accuracy 0.41    \t 7294.61 s\n",
      "epoch 1/1000 \t batch 41600/90000 \t loss 1.61 \t accuracy 0.22    \t 7353.79 s\n",
      "epoch 1/1000 \t batch 41920/90000 \t loss 1.88 \t accuracy 0.25    \t 7412.43 s\n",
      "epoch 1/1000 \t batch 42240/90000 \t loss 1.71 \t accuracy 0.44    \t 7471.57 s\n",
      "epoch 1/1000 \t batch 42560/90000 \t loss 1.65 \t accuracy 0.41    \t 7530.92 s\n"
     ]
    }
   ],
   "source": [
    "X, Y = train_data.getdatas()\n",
    "los = pv.nn.loss.CrossEntropyLoss()\n",
    "# opt = pv.optim.SGD(model.parameters())\n",
    "opt = pv.optim.Adam(model.parameters())\n",
    "start_time = time.time()\n",
    "\n",
    "while e <= epoch:\n",
    "    model.train()\n",
    "\n",
    "    correct_tot = 0\n",
    "    for I, (x, y) in enumerate(\n",
    "        pv.data.data_generator(\n",
    "            X[:-holdout], Y[:-holdout], batch_size=batch, shuffle=True\n",
    "        )\n",
    "    ):\n",
    "        i = I + 1\n",
    "        # print(i)\n",
    "        opt.zero_grad()\n",
    "        y_pred = model(x)\n",
    "        loss = los(y, y_pred)\n",
    "        correct = np.sum(y_pred.argmax(1, False).to_numpy() == y)\n",
    "        acc = correct / y.shape[0]\n",
    "        correct_tot += correct\n",
    "        loss.backward()\n",
    "        opt._step()\n",
    "        if i % 10 == 0:\n",
    "            end_time = time.time()\n",
    "            print(\n",
    "                f\"epoch {e}/{epoch} \\t batch {batch*i}/{Y.shape[0]-holdout} \\t loss {loss.item():.2f} \\t accuracy {acc:.2f}    \\t {end_time-start_time:.2f} s\"\n",
    "            )\n",
    "    e += 1\n",
    "\n",
    "    model.eval()\n",
    "\n",
    "    acc = correct_tot / (Y.shape[0] - holdout)\n",
    "    print(f\"********** train: epoch {e}/{epoch} \\t accuracy {100*acc:.2f}% **********\")\n",
    "    acc_train.append(acc)\n",
    "\n",
    "    correct_tot = 0\n",
    "    for x, y in pv.data.data_generator(\n",
    "        X[-holdout:], Y[-holdout:], batch_size=128, shuffle=False\n",
    "    ):\n",
    "        y_pred = model(x)\n",
    "        correct_tot += np.sum(y_pred.argmax(1, False).to_numpy() == y)\n",
    "\n",
    "    acc = correct_tot / holdout\n",
    "    print(f\"********** test : epoch {e}/{epoch} \\t accuracy {100*acc:.2f}% **********\")\n",
    "    acc_test.append(acc)\n",
    "\n",
    "    # opt = pv.optim.SGD(model.parameters(), 0.01 * (1 - acc))"
   ]
  },
  {
   "cell_type": "code",
   "execution_count": null,
   "id": "402d77b3-2cad-4bce-aad4-e9acd9205e8a",
   "metadata": {
    "editable": true,
    "slideshow": {
     "slide_type": ""
    },
    "tags": []
   },
   "outputs": [],
   "source": [
    "pv.utils.storage.save_parameters(model.state_dict(), \"train16.model\")"
   ]
  },
  {
   "cell_type": "code",
   "execution_count": null,
   "id": "dca29aa3-7efa-4e0e-a97c-eb145820efd6",
   "metadata": {
    "editable": true,
    "slideshow": {
     "slide_type": ""
    },
    "tags": []
   },
   "outputs": [],
   "source": [
    "m = Model()\n",
    "m.load_state_dict(pv.utils.storage.load_parameters(\"train16.model\"))"
   ]
  },
  {
   "cell_type": "code",
   "execution_count": null,
   "id": "d7d444c3-c167-4ff0-b6dd-725bb01148a6",
   "metadata": {
    "editable": true,
    "slideshow": {
     "slide_type": ""
    },
    "tags": []
   },
   "outputs": [],
   "source": [
    "m.eval()\n",
    "X, Y = test_data.getdatas()\n",
    "correct_tot = 0\n",
    "for x, y in pv.data.data_generator(X, Y, batch_size=128, shuffle=False):\n",
    "    y_pred = model(x)\n",
    "    correct_tot += np.sum(y_pred.argmax(1, False).to_numpy() == y)\n",
    "acc = correct_tot / Y.shape[0]\n",
    "print(f\"********** eval : accuracy {100*acc:.2f}% **********\")"
   ]
  },
  {
   "cell_type": "code",
   "execution_count": null,
   "id": "1c91b698-5df4-46b1-9aa5-8950328b2068",
   "metadata": {
    "editable": true,
    "slideshow": {
     "slide_type": ""
    },
    "tags": []
   },
   "outputs": [],
   "source": []
  },
  {
   "cell_type": "code",
   "execution_count": null,
   "id": "12fe0458-44ee-4fde-8fdc-79d528782f55",
   "metadata": {
    "editable": true,
    "slideshow": {
     "slide_type": ""
    },
    "tags": []
   },
   "outputs": [],
   "source": []
  },
  {
   "cell_type": "code",
   "execution_count": null,
   "id": "534048c2-cee7-49f3-ad6a-09a1b0150614",
   "metadata": {
    "editable": true,
    "slideshow": {
     "slide_type": ""
    },
    "tags": []
   },
   "outputs": [],
   "source": [
    "epochs = range(1, len(acc_train) + 1)\n",
    "\n",
    "plt.plot(epochs, acc_train, label=\"Train\", marker=\".\")\n",
    "plt.plot(epochs, acc_test, label=\"Test\", marker=\".\")\n",
    "\n",
    "plt.title(\"Accuracy over Epochs\")\n",
    "plt.xlabel(\"Epoch\")\n",
    "plt.ylabel(\"Accuracy\")\n",
    "plt.grid(True)\n",
    "plt.legend()\n",
    "# plt.ylim((0,1))\n",
    "plt.tight_layout()\n",
    "\n",
    "# plt.savefig(\"raw.png\")\n",
    "plt.show()"
   ]
  },
  {
   "cell_type": "code",
   "execution_count": null,
   "id": "ac5640dd-406d-4843-9e05-0f9823b6461b",
   "metadata": {
    "editable": true,
    "slideshow": {
     "slide_type": ""
    },
    "tags": []
   },
   "outputs": [],
   "source": []
  }
 ],
 "metadata": {
  "kernelspec": {
   "display_name": "Python 3 (ipykernel)",
   "language": "python",
   "name": "python3"
  },
  "language_info": {
   "codemirror_mode": {
    "name": "ipython",
    "version": 3
   },
   "file_extension": ".py",
   "mimetype": "text/x-python",
   "name": "python",
   "nbconvert_exporter": "python",
   "pygments_lexer": "ipython3",
   "version": "3.10.12"
  }
 },
 "nbformat": 4,
 "nbformat_minor": 5
}
