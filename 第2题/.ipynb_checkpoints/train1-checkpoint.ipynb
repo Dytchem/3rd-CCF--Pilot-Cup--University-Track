{
 "cells": [
  {
   "cell_type": "code",
   "execution_count": 1,
   "id": "926b16ea-ea93-40c0-ba9d-628afc80c609",
   "metadata": {},
   "outputs": [],
   "source": [
    "import numpy as np\n",
    "import matplotlib.pyplot as plt\n",
    "import pyqpanda as pq\n",
    "import pyvqnet as pv\n",
    "import random"
   ]
  },
  {
   "cell_type": "code",
   "execution_count": null,
   "id": "feaaffb9-4da5-4517-b29f-a5330227241f",
   "metadata": {},
   "outputs": [],
   "source": [
    "pv.qnn.qcnn.QConv()"
   ]
  },
  {
   "cell_type": "code",
   "execution_count": 79,
   "id": "e3947ad2-7aca-43b0-8643-4191c2651828",
   "metadata": {},
   "outputs": [],
   "source": [
    "pic_size=32\n",
    "output_num=10\n",
    "channel_num=3\n",
    "\n",
    "L=4\n",
    "K=2\n",
    "W=2\n",
    "H=2\n",
    "\n",
    "epoch=1\n",
    "batch=1\n",
    "class Model(pv.nn.Module):\n",
    "    def __init__(self):\n",
    "        super().__init__()\n",
    "        self.vq = [pv.qnn.qcnn.Quanvolution([L,K],(W,H)) for i in range(channel_num)]\n",
    "        self.li = pv.nn.Linear(W*H*channel_num*(pic_size//W)*(pic_size//H),output_num)\n",
    "\n",
    "    def forward(self, x): # x : (batch,channel_num,h,w)\n",
    "        size=x.shape\n",
    "        size[1]=1\n",
    "        z=pv.tensor.zeros([batch,channel_num,W*H,pic_size//W,pic_size//H])\n",
    "        for i in range(channel_num):\n",
    "            y=pv.tensor.zeros(size)\n",
    "            for b in range(size[0]):\n",
    "                y[b,0]=x[b,i]\n",
    "            y=self.vq[i](y)\n",
    "            #print(z.shape,y.shape)\n",
    "            for b in range(size[0]):\n",
    "                z[b,i]=y[b]\n",
    "        x = pv.tensor.flatten(z, 1)\n",
    "        x = self.li(x)\n",
    "        x = pv.tensor.log_softmax(x)\n",
    "        return x"
   ]
  },
  {
   "cell_type": "code",
   "execution_count": 18,
   "id": "67d7d9b1-eede-437e-b383-35a1897572d0",
   "metadata": {},
   "outputs": [],
   "source": [
    "def unpickle(file):\n",
    "    import pickle\n",
    "    with open(file, 'rb') as fo:\n",
    "        dict = pickle.load(fo, encoding='bytes')\n",
    "    return dict"
   ]
  },
  {
   "cell_type": "code",
   "execution_count": 77,
   "id": "5fb3609e-99ad-4536-bbbf-182cd95f6915",
   "metadata": {},
   "outputs": [],
   "source": [
    "def dataloader(file):\n",
    "    data=unpickle(file)\n",
    "    X=data[b'data']\n",
    "    Y=data[b'labels']\n",
    "    N=X.shape[0]\n",
    "    L=[i for i in range(N)]\n",
    "    random.shuffle(L)\n",
    "    now=0\n",
    "    pic_tot=pic_size*pic_size\n",
    "    while (now<N):\n",
    "        n=min(N-now,batch)\n",
    "        x=pv.tensor.QTensor(np.zeros([n,channel_num,pic_size,pic_size]))\n",
    "        y=pv.tensor.QTensor(np.zeros([n],dtype=\"int64\"))\n",
    "        for i in range(n):\n",
    "            for c in range(channel_num):\n",
    "                x[i,c]=X[L[now]][pic_tot*c:pic_tot*(c+1)].reshape((pic_size,pic_size))/255\n",
    "            y[i]=Y[L[now]]\n",
    "            now+=1\n",
    "        yield x,y"
   ]
  },
  {
   "cell_type": "code",
   "execution_count": 32,
   "id": "400a7472-7d19-46be-91eb-01fdaae4b57e",
   "metadata": {
    "scrolled": true
   },
   "outputs": [
    {
     "name": "stdout",
     "output_type": "stream",
     "text": [
      "[1, 3, 32, 32] [1]\n",
      "[[[[0.5960784,0.6039216,0.6117647,...,0.6392157,0.6627451,0.654902 ],\n",
      "   [0.6      ,0.6117647,0.6235294,...,0.6352941,0.6509804,0.6352941],\n",
      "   [0.6039216,0.6196078,0.6627451,...,0.6313725,0.6352941,0.6235294],\n",
      "   ...,\n",
      "   [0.2862745,0.2862745,0.2862745,...,0.345098 ,0.3254902,0.3215686],\n",
      "   [0.3294118,0.3254902,0.3215686,...,0.3921569,0.3607843,0.3803922],\n",
      "   [0.2901961,0.2862745,0.3019608,...,0.3843137,0.3607843,0.372549 ]],\n",
      "\n",
      "  [[0.7333333,0.7372549,0.7411765,...,0.7254902,0.7411765,0.7294118],\n",
      "   [0.7294118,0.7294118,0.7294118,...,0.7372549,0.7411765,0.7254902],\n",
      "   [0.7294118,0.7215686,0.745098 ,...,0.7411765,0.7372549,0.7294118],\n",
      "   ...,\n",
      "   [0.4588235,0.4588235,0.4588235,...,0.4784314,0.4588235,0.454902 ],\n",
      "   [0.4980392,0.4901961,0.4862745,...,0.5294118,0.4980392,0.5215686],\n",
      "   [0.4588235,0.4509804,0.4666667,...,0.5254902,0.5058824,0.5137255]],\n",
      "\n",
      "  [[0.8588235,0.8627451,0.8705882,...,0.8392157,0.8588235,0.8509804],\n",
      "   [0.854902 ,0.8470588,0.8352941,...,0.8588235,0.8666667,0.854902 ],\n",
      "   [0.8470588,0.827451 ,0.8352941,...,0.8705882,0.8705882,0.8666667],\n",
      "   ...,\n",
      "   [0.6117647,0.6117647,0.6117647,...,0.6235294,0.6039216,0.6      ],\n",
      "   [0.6470588,0.6431373,0.6392157,...,0.6666667,0.6352941,0.654902 ],\n",
      "   [0.6      ,0.5960784,0.6078431,...,0.6509804,0.627451 ,0.6313725]]]]\n"
     ]
    }
   ],
   "source": [
    "y=1\n",
    "for x,y in dataloader(\"data/cifar-10-batches-py/data_batch_1\"):\n",
    "    print(x.shape,y.shape)\n",
    "    print(x)\n",
    "    break"
   ]
  },
  {
   "cell_type": "code",
   "execution_count": 78,
   "id": "958198f7-707a-4d7e-becf-e8a23de0128b",
   "metadata": {},
   "outputs": [
    {
     "name": "stdout",
     "output_type": "stream",
     "text": [
      "loss 2.6523342\n"
     ]
    },
    {
     "ename": "ValueError",
     "evalue": "could not broadcast input array from shape (0,) into shape (1024,)",
     "output_type": "error",
     "traceback": [
      "\u001b[1;31m---------------------------------------------------------------------------\u001b[0m",
      "\u001b[1;31mValueError\u001b[0m                                Traceback (most recent call last)",
      "Cell \u001b[1;32mIn[78], line 20\u001b[0m\n\u001b[0;32m     17\u001b[0m \u001b[38;5;28mprint\u001b[39m(\u001b[38;5;124mf\u001b[39m\u001b[38;5;124m\"\u001b[39m\u001b[38;5;124mloss \u001b[39m\u001b[38;5;132;01m{\u001b[39;00mloss\u001b[38;5;132;01m}\u001b[39;00m\u001b[38;5;124m\"\u001b[39m)\n\u001b[0;32m     18\u001b[0m t\u001b[38;5;241m=\u001b[39mloss\n\u001b[1;32m---> 20\u001b[0m \u001b[43mloss\u001b[49m\u001b[38;5;241;43m.\u001b[39;49m\u001b[43mbackward\u001b[49m\u001b[43m(\u001b[49m\u001b[43m)\u001b[49m\n\u001b[0;32m     21\u001b[0m optimizer\u001b[38;5;241m.\u001b[39m_step()\n\u001b[0;32m     23\u001b[0m full_loss \u001b[38;5;241m+\u001b[39m\u001b[38;5;241m=\u001b[39m loss\u001b[38;5;241m.\u001b[39mitem()\n",
      "File \u001b[1;32mpyvqnet\\tensor\\tensor.py:236\u001b[0m, in \u001b[0;36mpyvqnet.tensor.tensor.QTensor.backward\u001b[1;34m()\u001b[0m\n",
      "File \u001b[1;32mpyvqnet\\tensor\\tensor.py:9204\u001b[0m, in \u001b[0;36mpyvqnet.tensor.tensor.backprop\u001b[1;34m()\u001b[0m\n",
      "File \u001b[1;32mpyvqnet\\tensor\\tensor.py:9162\u001b[0m, in \u001b[0;36mpyvqnet.tensor.tensor.backprop_impl\u001b[1;34m()\u001b[0m\n",
      "File \u001b[1;32mpyvqnet\\qnn\\qcnn\\qconv.py:284\u001b[0m, in \u001b[0;36mpyvqnet.qnn.qcnn.qconv.Quanvolution.forward.lambda\u001b[1;34m()\u001b[0m\n",
      "File \u001b[1;32mpyvqnet\\qnn\\qcnn\\qconv.py:363\u001b[0m, in \u001b[0;36mpyvqnet.qnn.qcnn.qconv.Quanvolution._grad\u001b[1;34m()\u001b[0m\n",
      "\u001b[1;31mValueError\u001b[0m: could not broadcast input array from shape (0,) into shape (1024,)"
     ]
    }
   ],
   "source": [
    "model=Model()\n",
    "model.train()\n",
    "optimizer = pv.optim.SGD(model.parameters())\n",
    "cceloss = pv.nn.loss.NLL_Loss()\n",
    "\n",
    "t=1\n",
    "\n",
    "for e in range(1,epoch+1):\n",
    "    full_loss = 0\n",
    "    n_loss = 0\n",
    "    n_eval = 0\n",
    "    correct = 0\n",
    "    for x,y in dataloader(\"data/cifar-10-batches-py/data_batch_1\"):\n",
    "        optimizer.zero_grad()\n",
    "        output = model(x)\n",
    "        loss = cceloss(y, output)\n",
    "        print(f\"loss {loss}\")\n",
    "        t=loss\n",
    "        \n",
    "        loss.backward()\n",
    "        optimizer._step()\n",
    "\n",
    "        full_loss += loss.item()\n",
    "        n_loss += batch\n",
    "        \n",
    "        np_output = np.array(output.data, copy=False)\n",
    "        #t=np_output\n",
    "        mask = np_output.argmax(1) == y\n",
    "        correct += sum(mask)\n",
    "        \n",
    "        print(f\"correct {correct}\")\n",
    "    print(f\"Train Accuracy: {correct/n_loss}%\")\n",
    "    print(f\"Epoch: {epoch}, Loss: {full_loss / n_loss}\")\n",
    "    result_file.write(f\"{epoch}\\t{full_loss / n_loss}\\t{correct/n_loss}\\t\")"
   ]
  },
  {
   "cell_type": "code",
   "execution_count": 69,
   "id": "0de211e5-edaf-4811-a6f5-3f60c2e07b80",
   "metadata": {},
   "outputs": [
    {
     "data": {
      "text/plain": [
       "2.3310716"
      ]
     },
     "execution_count": 69,
     "metadata": {},
     "output_type": "execute_result"
    }
   ],
   "source": [
    "t"
   ]
  },
  {
   "cell_type": "code",
   "execution_count": 43,
   "id": "9501ebaa-378d-4d2b-913e-d157209f3518",
   "metadata": {},
   "outputs": [],
   "source": [
    "x=pv.tensor.QTensor([2.,2.,3.],requires_grad=True)"
   ]
  },
  {
   "cell_type": "code",
   "execution_count": 44,
   "id": "0c9d3f79-4305-4444-85a9-42bac225c9d7",
   "metadata": {},
   "outputs": [],
   "source": [
    "y=x+2"
   ]
  },
  {
   "cell_type": "code",
   "execution_count": 45,
   "id": "98b35c2f-ef87-4651-b581-8f5d29506387",
   "metadata": {},
   "outputs": [],
   "source": [
    "y.backward()"
   ]
  },
  {
   "cell_type": "code",
   "execution_count": 50,
   "id": "274c31e7-a71a-4d5f-b087-7be8975cf08c",
   "metadata": {},
   "outputs": [],
   "source": [
    "y=pv.tensor.QTensor([],requires_grad=True)"
   ]
  },
  {
   "cell_type": "code",
   "execution_count": 52,
   "id": "05dfe096-5b3b-437a-af93-df671c8418b1",
   "metadata": {},
   "outputs": [],
   "source": [
    "y.backward()"
   ]
  },
  {
   "cell_type": "code",
   "execution_count": null,
   "id": "11733125-a784-4240-aeec-d00b0adf0bf5",
   "metadata": {},
   "outputs": [],
   "source": []
  },
  {
   "cell_type": "code",
   "execution_count": 53,
   "id": "5121b6e6-517e-4b30-8e83-9967e317d339",
   "metadata": {},
   "outputs": [],
   "source": [
    "x=pv.tensor.zeros([1,3,32,32])"
   ]
  },
  {
   "cell_type": "code",
   "execution_count": 75,
   "id": "e594362e-1d36-448a-b95d-a187aca1c013",
   "metadata": {},
   "outputs": [
    {
     "data": {
      "text/plain": [
       "[[-23.772766 , -9.074633 , -9.376058 ,-16.642033 , -9.285053 , -0.0002936,\n",
       "  -26.237473 ,-13.482978 ,-17.61934  ,-18.210335 ]]"
      ]
     },
     "execution_count": 75,
     "metadata": {},
     "output_type": "execute_result"
    }
   ],
   "source": [
    "m=Model()\n",
    "m(x)"
   ]
  },
  {
   "cell_type": "code",
   "execution_count": 76,
   "id": "59681c76-fc2a-4e8d-8521-5f485892b487",
   "metadata": {},
   "outputs": [
    {
     "data": {
      "text/plain": [
       "[0.9999999]"
      ]
     },
     "execution_count": 76,
     "metadata": {},
     "output_type": "execute_result"
    }
   ],
   "source": [
    "sum(sum(pv.tensor.exp(m(x))))"
   ]
  },
  {
   "cell_type": "code",
   "execution_count": null,
   "id": "d75ba0e7-fb69-45ea-a8fe-35830e9cbfa4",
   "metadata": {
    "scrolled": true
   },
   "outputs": [],
   "source": [
    "x"
   ]
  },
  {
   "cell_type": "code",
   "execution_count": null,
   "id": "9439c3c1-5c9a-4410-a932-8f493c9ff254",
   "metadata": {},
   "outputs": [],
   "source": [
    "x.shape"
   ]
  },
  {
   "cell_type": "code",
   "execution_count": null,
   "id": "4e046abc-90af-43dd-9a42-b6ad5cf616c5",
   "metadata": {},
   "outputs": [],
   "source": [
    "pv.tensor.zeros([2,2],dtype=1)"
   ]
  },
  {
   "cell_type": "code",
   "execution_count": null,
   "id": "c1d4fb04-5637-4276-bac4-e2d18a771be5",
   "metadata": {},
   "outputs": [],
   "source": [
    "np.zeros([2,2],dtype=\"int64\")"
   ]
  },
  {
   "cell_type": "code",
   "execution_count": null,
   "id": "19c5899d-f273-4d9e-80a6-f5a26204858f",
   "metadata": {},
   "outputs": [],
   "source": [
    "a=np.zeros([5,5,5])"
   ]
  },
  {
   "cell_type": "code",
   "execution_count": null,
   "id": "06886189-6fea-4a9c-b5c9-bba1d2fd0ed7",
   "metadata": {},
   "outputs": [],
   "source": [
    "a[3,3]=a[3,3]"
   ]
  },
  {
   "cell_type": "code",
   "execution_count": null,
   "id": "1a467862-1556-4004-955a-df0c4a87c771",
   "metadata": {},
   "outputs": [],
   "source": [
    "x[0,0]"
   ]
  }
 ],
 "metadata": {
  "kernelspec": {
   "display_name": "Python 3 (ipykernel)",
   "language": "python",
   "name": "python3"
  },
  "language_info": {
   "codemirror_mode": {
    "name": "ipython",
    "version": 3
   },
   "file_extension": ".py",
   "mimetype": "text/x-python",
   "name": "python",
   "nbconvert_exporter": "python",
   "pygments_lexer": "ipython3",
   "version": "3.10.14"
  }
 },
 "nbformat": 4,
 "nbformat_minor": 5
}
