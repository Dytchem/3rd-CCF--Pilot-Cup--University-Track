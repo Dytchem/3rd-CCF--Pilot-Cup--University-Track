{
 "cells": [
  {
   "cell_type": "code",
   "execution_count": 1,
   "id": "590792a5-cddf-4a5d-aaef-da554f16ab4c",
   "metadata": {},
   "outputs": [],
   "source": [
    "from utils import *\n",
    "import numpy as np\n",
    "import matplotlib.pyplot as plt\n",
    "import pyqpanda as pq\n",
    "import pyvqnet as pv\n",
    "import random\n",
    "\n",
    "%matplotlib inline"
   ]
  },
  {
   "cell_type": "code",
   "execution_count": 2,
   "id": "00d0bd95-484a-4e3d-b491-677e8a0ec9e1",
   "metadata": {},
   "outputs": [],
   "source": [
    "train_data = Dataset(\n",
    "    \"data/cifar-10-batches-py/data_batch_1\",\n",
    "    \"data/cifar-10-batches-py/data_batch_2\",\n",
    "    \"data/cifar-10-batches-py/data_batch_3\",\n",
    "    \"data/cifar-10-batches-py/data_batch_4\",\n",
    "    \"data/cifar-10-batches-py/data_batch_5\",\n",
    ")\n",
    "test_data = Dataset(\"data/cifar-10-batches-py/test_batch\")"
   ]
  },
  {
   "cell_type": "code",
   "execution_count": 3,
   "id": "87bb597e-1bd2-4614-96c0-d0d9096bdcf5",
   "metadata": {},
   "outputs": [],
   "source": [
    "class Model(pv.nn.module.Module):\n",
    "    def __init__(self):\n",
    "        super(Model, self).__init__()\n",
    "        self.conv1 = pv.nn.Conv2D(3, 64, (3, 3), (1, 1))\n",
    "        self.pool1 = pv.nn.MaxPool2D((2, 2), (2, 2))\n",
    "        self.conv2 = pv.nn.Conv2D(64, 128, (4, 4), (1, 1))\n",
    "        self.pool2 = pv.nn.MaxPool2D((2, 2), (2, 2))\n",
    "        self.conv3 = pv.nn.Conv2D(128, 32, (5, 5), (1, 1))\n",
    "        self.pool3 = pv.nn.MaxPool2D((2, 2), (2, 2))\n",
    "        self.li = pv.nn.Linear(32 * 1 * 1, 10)\n",
    "\n",
    "    def forward(self, x):\n",
    "        x = self.conv1(x)\n",
    "        x = self.pool1(x)\n",
    "        x = self.conv2(x)\n",
    "        x = self.pool2(x)\n",
    "        x = self.conv3(x)\n",
    "        x = self.pool3(x)\n",
    "        x = pv.tensor.flatten(x, 1)\n",
    "        x = self.li(x)\n",
    "        return x"
   ]
  },
  {
   "cell_type": "code",
   "execution_count": null,
   "id": "a295ff97-6006-46b0-90e1-a09a8f953469",
   "metadata": {
    "scrolled": true
   },
   "outputs": [
    {
     "name": "stdout",
     "output_type": "stream",
     "text": [
      "epoch 1 \t batch 10*100 \t loss 2.18 \t accuracy 0.30\n",
      "epoch 1 \t batch 10*200 \t loss 2.17 \t accuracy 0.40\n",
      "epoch 1 \t batch 10*300 \t loss 2.05 \t accuracy 0.30\n",
      "epoch 1 \t batch 10*400 \t loss 1.73 \t accuracy 0.40\n",
      "epoch 1 \t batch 10*500 \t loss 1.85 \t accuracy 0.40\n",
      "epoch 1 \t batch 10*600 \t loss 2.33 \t accuracy 0.10\n",
      "epoch 1 \t batch 10*700 \t loss 2.12 \t accuracy 0.20\n",
      "epoch 1 \t batch 10*800 \t loss 1.98 \t accuracy 0.10\n",
      "epoch 1 \t batch 10*900 \t loss 1.36 \t accuracy 0.30\n",
      "epoch 1 \t batch 10*1000 \t loss 2.01 \t accuracy 0.40\n",
      "epoch 1 \t batch 10*1100 \t loss 1.98 \t accuracy 0.30\n",
      "epoch 1 \t batch 10*1200 \t loss 1.54 \t accuracy 0.50\n",
      "epoch 1 \t batch 10*1300 \t loss 1.83 \t accuracy 0.50\n",
      "epoch 1 \t batch 10*1400 \t loss 1.78 \t accuracy 0.30\n",
      "epoch 1 \t batch 10*1500 \t loss 1.21 \t accuracy 0.70\n",
      "epoch 1 \t batch 10*1600 \t loss 1.59 \t accuracy 0.50\n",
      "epoch 1 \t batch 10*1700 \t loss 1.64 \t accuracy 0.50\n",
      "epoch 1 \t batch 10*1800 \t loss 2.09 \t accuracy 0.30\n",
      "epoch 1 \t batch 10*1900 \t loss 2.08 \t accuracy 0.20\n",
      "epoch 1 \t batch 10*2000 \t loss 2.30 \t accuracy 0.10\n",
      "epoch 1 \t batch 10*2100 \t loss 1.37 \t accuracy 0.50\n",
      "epoch 1 \t batch 10*2200 \t loss 2.34 \t accuracy 0.30\n",
      "epoch 1 \t batch 10*2300 \t loss 1.65 \t accuracy 0.50\n",
      "epoch 1 \t batch 10*2400 \t loss 2.02 \t accuracy 0.20\n",
      "epoch 1 \t batch 10*2500 \t loss 1.49 \t accuracy 0.50\n",
      "epoch 1 \t batch 10*2600 \t loss 1.26 \t accuracy 0.70\n",
      "epoch 1 \t batch 10*2700 \t loss 2.17 \t accuracy 0.10\n",
      "epoch 1 \t batch 10*2800 \t loss 1.00 \t accuracy 0.70\n",
      "epoch 1 \t batch 10*2900 \t loss 1.40 \t accuracy 0.30\n",
      "epoch 1 \t batch 10*3000 \t loss 1.42 \t accuracy 0.60\n",
      "epoch 1 \t batch 10*3100 \t loss 1.47 \t accuracy 0.40\n",
      "epoch 1 \t batch 10*3200 \t loss 1.76 \t accuracy 0.20\n",
      "epoch 1 \t batch 10*3300 \t loss 1.30 \t accuracy 0.50\n",
      "epoch 1 \t batch 10*3400 \t loss 0.84 \t accuracy 0.80\n",
      "epoch 1 \t batch 10*3500 \t loss 1.24 \t accuracy 0.60\n",
      "epoch 1 \t batch 10*3600 \t loss 1.18 \t accuracy 0.70\n",
      "epoch 1 \t batch 10*3700 \t loss 1.14 \t accuracy 0.80\n",
      "epoch 1 \t batch 10*3800 \t loss 1.24 \t accuracy 0.50\n",
      "epoch 1 \t batch 10*3900 \t loss 1.23 \t accuracy 0.60\n",
      "epoch 1 \t batch 10*4000 \t loss 1.65 \t accuracy 0.50\n"
     ]
    }
   ],
   "source": [
    "epoch = 3\n",
    "batch = 10\n",
    "holdout = 10000\n",
    "\n",
    "model = Model()\n",
    "\n",
    "X, Y = train_data.getdatas()\n",
    "los = pv.nn.loss.CrossEntropyLoss()\n",
    "opt = pv.optim.SGD(model.parameters(), 0.01)\n",
    "\n",
    "for e in range(1, epoch + 1):\n",
    "    model.train()\n",
    "\n",
    "    correct_tot = 0\n",
    "    for I, (x, y) in enumerate(\n",
    "        pv.data.data_generator(\n",
    "            X[:-holdout], Y[:-holdout], batch_size=batch, shuffle=True\n",
    "        )\n",
    "    ):\n",
    "        i = I + 1\n",
    "        opt.zero_grad()\n",
    "        y_pred = model(x)\n",
    "        loss = los(y, y_pred)\n",
    "        correct = sum(y_pred.argmax(1, False).to_numpy() == y)\n",
    "        acc = correct / y.shape[0]\n",
    "        correct_tot += correct\n",
    "        loss.backward()\n",
    "        opt._step()\n",
    "        if i % 100 == 0:\n",
    "            print(\n",
    "                f\"epoch {e} \\t batch {batch}*{i} \\t loss {loss.item():.2f} \\t accuracy {acc:.2f}\"\n",
    "            )\n",
    "\n",
    "    model.eval()\n",
    "\n",
    "    acc = correct_tot / (Y.shape[0] - holdout)\n",
    "    print(f\"********** train: epoch {e} \\t accuracy {acc:.2f} **********\")\n",
    "\n",
    "    correct_tot = 0\n",
    "    for x, y in pv.data.data_generator(\n",
    "        X[-holdout:], Y[-holdout:], batch_size=batch, shuffle=False\n",
    "    ):\n",
    "        y_pred = model(x)\n",
    "        correct_tot += sum(y_pred.argmax(1, False).to_numpy() == y)\n",
    "\n",
    "    acc = correct_tot / holdout\n",
    "    print(f\"********** test: epoch {e} \\t accuracy {acc:.2f} **********\")"
   ]
  },
  {
   "cell_type": "code",
   "execution_count": null,
   "id": "126d541c-d034-4297-9f18-b7e9da5af43c",
   "metadata": {},
   "outputs": [],
   "source": []
  },
  {
   "cell_type": "code",
   "execution_count": null,
   "id": "402d77b3-2cad-4bce-aad4-e9acd9205e8a",
   "metadata": {},
   "outputs": [],
   "source": []
  },
  {
   "cell_type": "code",
   "execution_count": null,
   "id": "dca29aa3-7efa-4e0e-a97c-eb145820efd6",
   "metadata": {},
   "outputs": [],
   "source": []
  },
  {
   "cell_type": "code",
   "execution_count": null,
   "id": "d7d444c3-c167-4ff0-b6dd-725bb01148a6",
   "metadata": {},
   "outputs": [],
   "source": []
  },
  {
   "cell_type": "code",
   "execution_count": null,
   "id": "1c91b698-5df4-46b1-9aa5-8950328b2068",
   "metadata": {},
   "outputs": [],
   "source": []
  },
  {
   "cell_type": "code",
   "execution_count": null,
   "id": "7c82a43a-b593-4feb-baf4-0174d6bf7ef2",
   "metadata": {},
   "outputs": [],
   "source": []
  },
  {
   "cell_type": "code",
   "execution_count": null,
   "id": "12fe0458-44ee-4fde-8fdc-79d528782f55",
   "metadata": {},
   "outputs": [],
   "source": []
  },
  {
   "cell_type": "code",
   "execution_count": null,
   "id": "534048c2-cee7-49f3-ad6a-09a1b0150614",
   "metadata": {},
   "outputs": [],
   "source": []
  },
  {
   "cell_type": "code",
   "execution_count": null,
   "id": "ac5640dd-406d-4843-9e05-0f9823b6461b",
   "metadata": {},
   "outputs": [],
   "source": []
  }
 ],
 "metadata": {
  "kernelspec": {
   "display_name": "Python 3 (ipykernel)",
   "language": "python",
   "name": "python3"
  },
  "language_info": {
   "codemirror_mode": {
    "name": "ipython",
    "version": 3
   },
   "file_extension": ".py",
   "mimetype": "text/x-python",
   "name": "python",
   "nbconvert_exporter": "python",
   "pygments_lexer": "ipython3",
   "version": "3.10.12"
  }
 },
 "nbformat": 4,
 "nbformat_minor": 5
}
