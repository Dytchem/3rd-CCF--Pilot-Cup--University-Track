{
 "cells": [
  {
   "cell_type": "code",
   "execution_count": 2,
   "id": "6331572c-f416-4b50-bf0e-9bbc2cc2d12c",
   "metadata": {
    "editable": true,
    "slideshow": {
     "slide_type": ""
    },
    "tags": []
   },
   "outputs": [],
   "source": [
    "import numpy as np\n",
    "import matplotlib.pyplot as plt\n",
    "import pyqpanda as pq\n",
    "import pyvqnet as pv\n",
    "import random"
   ]
  },
  {
   "cell_type": "code",
   "execution_count": 3,
   "id": "fdae75c6-8de9-4262-b050-bf4a0564867b",
   "metadata": {
    "editable": true,
    "slideshow": {
     "slide_type": ""
    },
    "tags": []
   },
   "outputs": [],
   "source": [
    "from utils import *\n",
    "from PIL import Image, ImageEnhance\n",
    "import numpy as np\n",
    "import random"
   ]
  },
  {
   "cell_type": "code",
   "execution_count": 3,
   "id": "734e9f90-4418-43dd-ad3d-e90c87d5baa8",
   "metadata": {},
   "outputs": [],
   "source": [
    "d = Dataset(\n",
    "    \"data/cifar-10-batches-py/data_batch_1\",\n",
    "    \"data/cifar-10-batches-py/data_batch_2\",\n",
    "    \"data/cifar-10-batches-py/data_batch_3\",\n",
    "    \"data/cifar-10-batches-py/data_batch_4\",\n",
    "    \"data/cifar-10-batches-py/data_batch_5\",\n",
    ")"
   ]
  },
  {
   "cell_type": "code",
   "execution_count": null,
   "id": "6d501015-3219-4784-8c8f-ae919a9c9afc",
   "metadata": {
    "editable": true,
    "slideshow": {
     "slide_type": ""
    },
    "tags": []
   },
   "outputs": [],
   "source": []
  },
  {
   "cell_type": "code",
   "execution_count": null,
   "id": "96008e8a-e23b-4e07-b8d5-f2631e08a4fc",
   "metadata": {
    "editable": true,
    "slideshow": {
     "slide_type": ""
    },
    "tags": []
   },
   "outputs": [],
   "source": []
  },
  {
   "cell_type": "code",
   "execution_count": 38,
   "id": "2c9b6682-6c5d-4419-82cf-2e0866b42f8a",
   "metadata": {
    "editable": true,
    "slideshow": {
     "slide_type": ""
    },
    "tags": []
   },
   "outputs": [],
   "source": [
    "obs_list = [\n",
    "    {\n",
    "        \"wires\": [i],\n",
    "        \"observables\": [\"Z\"],\n",
    "        \"coefficient\": [1],\n",
    "    }\n",
    "    for i in range(10)\n",
    "]\n",
    "\n",
    "\n",
    "def pqc(input, param, qubits, cbits, machine):\n",
    "    n = len(input)\n",
    "    prog = pq.QProg()\n",
    "    prog.insert(pq.H(qubits[10]))\n",
    "    for i in range(10):\n",
    "        prog.insert(pq.CNOT(qubits[10], qubits[i]))\n",
    "    for i in range(n):\n",
    "        prog.insert(pq.U2(qubits[i % 10], param[i], input[i]))\n",
    "    for i in range(10):\n",
    "        prog.insert(pq.CNOT(qubits[10], qubits[i]))\n",
    "\n",
    "    re = pv.qnn.measure.MeasurePauliSum(machine, prog, obs_list, qubits)\n",
    "    return re\n",
    "\n",
    "\n",
    "class Model(pv.nn.module.Module):\n",
    "    def __init__(self):\n",
    "        super(Model, self).__init__()\n",
    "        self.conv1 = pv.nn.Conv2D(3, 30, (3, 3))\n",
    "        self.conv2 = pv.nn.Conv2D(30, 30, (3, 3))\n",
    "        self.pool2 = pv.nn.MaxPool2D((2, 2), (2, 2))\n",
    "        self.conv3 = pv.nn.Conv2D(30, 30, (3, 3))\n",
    "        self.conv4 = pv.nn.Conv2D(30, 30, (3, 3))\n",
    "        self.pool4 = pv.nn.MaxPool2D((2, 2), (2, 2))\n",
    "        self.conv5 = pv.nn.Conv2D(30, 30, (5, 5))\n",
    "        self.qc = pv.qnn.quantumlayer.QuantumLayer(\n",
    "            pqc, 30, \"CPU\", 11, diff_method=\"finite_diff\"\n",
    "        )\n",
    "        # self.qc = pv.nn.Linear(30, 10)\n",
    "\n",
    "    def forward(self, x):\n",
    "        x = self.conv1(x)\n",
    "        x = self.conv2(x)\n",
    "        x = self.pool2(x)\n",
    "        x = self.conv3(x)\n",
    "        x = self.conv4(x)\n",
    "        x = self.pool4(x)\n",
    "        x = self.conv5(x)\n",
    "        x = pv.tensor.flatten(x, 1)\n",
    "        x = 2 * pv.tensor.atan(x)\n",
    "        x = self.qc(x)\n",
    "        return x"
   ]
  },
  {
   "cell_type": "code",
   "execution_count": 19,
   "id": "20ff491f-2d9b-44a8-b4b0-fa59a40d0902",
   "metadata": {
    "editable": true,
    "jupyter": {
     "source_hidden": true
    },
    "slideshow": {
     "slide_type": ""
    },
    "tags": [
     "good"
    ]
   },
   "outputs": [],
   "source": [
    "obs_list = [\n",
    "    {\n",
    "        \"wires\": [i],\n",
    "        \"observables\": [\"Z\"],\n",
    "        \"coefficient\": [1],\n",
    "    }\n",
    "    for i in range(10)\n",
    "]\n",
    "\n",
    "\n",
    "def pqc(input, param, qubits, cbits, machine):\n",
    "    n = len(input)\n",
    "    prog = pq.QProg()\n",
    "    prog.insert(pq.H(qubits[10]))\n",
    "    for i in range(10):\n",
    "        prog.insert(pq.CNOT(qubits[10], qubits[i]))\n",
    "    for i in range(n):\n",
    "        prog.insert(pq.U2(qubits[i % 10], param[i], input[i]))\n",
    "    for i in range(10):\n",
    "        prog.insert(pq.CNOT(qubits[10], qubits[i]))\n",
    "\n",
    "    re = pv.qnn.measure.MeasurePauliSum(machine, prog, obs_list, qubits)\n",
    "    return re\n",
    "\n",
    "\n",
    "class Model(pv.nn.module.Module):\n",
    "    def __init__(self):\n",
    "        super(Model, self).__init__()\n",
    "        self.conv = pv.nn.Conv2D(3, 30, (32, 32))\n",
    "        self.qc = pv.qnn.quantumlayer.QuantumLayer(\n",
    "            pqc, 30, \"CPU\", 11, diff_method=\"finite_diff\"\n",
    "        )\n",
    "        # self.qc = pv.nn.Linear(30, 10)\n",
    "\n",
    "    def forward(self, x):\n",
    "        x = self.conv(x)\n",
    "        x = pv.tensor.flatten(x, 1)\n",
    "        x = 2 * pv.tensor.atan(x)\n",
    "        x = self.qc(x)\n",
    "        return x"
   ]
  },
  {
   "cell_type": "code",
   "execution_count": 902,
   "id": "d00364df-56ad-4819-ab30-d32e598e970c",
   "metadata": {
    "editable": true,
    "jupyter": {
     "source_hidden": true
    },
    "slideshow": {
     "slide_type": ""
    },
    "tags": [
     "base"
    ]
   },
   "outputs": [],
   "source": [
    "class Model(pv.nn.module.Module):\n",
    "    def __init__(self):\n",
    "        super(Model, self).__init__()\n",
    "        self.conv = pv.nn.Conv2D(3, 30, (32, 32))\n",
    "        self.qc = pv.nn.Linear(30, 10)\n",
    "\n",
    "    def forward(self, x):\n",
    "        x = self.conv(x)\n",
    "        x = pv.tensor.flatten(x, 1)\n",
    "        x = self.qc(x)\n",
    "        return x"
   ]
  },
  {
   "cell_type": "code",
   "execution_count": 856,
   "id": "64fb1273-cc51-493f-a012-a67660fd2a21",
   "metadata": {
    "editable": false,
    "jupyter": {
     "source_hidden": true
    },
    "slideshow": {
     "slide_type": ""
    },
    "tags": [
     "good"
    ]
   },
   "outputs": [],
   "source": [
    "obs_list = [\n",
    "    {\n",
    "        \"wires\": [i],\n",
    "        \"observables\": [\"Z\"],\n",
    "        \"coefficient\": [1],\n",
    "    }\n",
    "    for i in range(10)\n",
    "]\n",
    "\n",
    "\n",
    "def pqc(input, param, qubits, cbits, machine):\n",
    "    n = len(input)\n",
    "    prog = pq.QProg()\n",
    "    prog.insert(pq.H(qubits[10]))\n",
    "    for i in range(10):\n",
    "        prog.insert(pq.CNOT(qubits[10], qubits[i]))\n",
    "    for i in range(10):\n",
    "        prog.insert(\n",
    "            pq.U3(\n",
    "                qubits[i],\n",
    "                np.arctan(param[i]),\n",
    "                np.arctan(param[i + 10]),\n",
    "                np.arctan(param[i + 20]),\n",
    "            )\n",
    "        )\n",
    "        prog.insert(\n",
    "            pq.U3(\n",
    "                qubits[i],\n",
    "                np.arctan(input[i]),\n",
    "                np.arctan(input[i + 10]),\n",
    "                np.arctan(input[i + 20]),\n",
    "            )\n",
    "        )\n",
    "        prog.insert(\n",
    "            pq.U3(\n",
    "                qubits[i],\n",
    "                np.arctan(param[i + 30]),\n",
    "                np.arctan(param[i + 40]),\n",
    "                np.arctan(param[i + 50]),\n",
    "            )\n",
    "        )\n",
    "    for i in range(9, -1, -1):\n",
    "        prog.insert(pq.CNOT(qubits[10], qubits[i]))\n",
    "    prog.insert(pq.H(qubits[10]))\n",
    "\n",
    "    re = pv.qnn.measure.MeasurePauliSum(machine, prog, obs_list, qubits)\n",
    "    return re\n",
    "\n",
    "\n",
    "class Model(pv.nn.module.Module):\n",
    "    def __init__(self):\n",
    "        super(Model, self).__init__()\n",
    "        self.conv = pv.nn.Conv2D(3, 30, (32, 32))\n",
    "        self.qc = pv.qnn.quantumlayer.QuantumLayer(\n",
    "            pqc, 60, \"CPU\", 11, diff_method=\"finite_diff\"\n",
    "        )\n",
    "        # self.qc = pv.nn.Linear(30, 10)\n",
    "\n",
    "    def forward(self, x):\n",
    "        x = self.conv(x)\n",
    "        x = pv.tensor.flatten(x, 1)\n",
    "        x = self.qc(x)\n",
    "        return x"
   ]
  },
  {
   "cell_type": "code",
   "execution_count": 616,
   "id": "2993c731-f616-4d97-9f81-93b354f7273f",
   "metadata": {
    "editable": true,
    "jupyter": {
     "source_hidden": true
    },
    "slideshow": {
     "slide_type": ""
    },
    "tags": []
   },
   "outputs": [],
   "source": [
    "obs_list = [\n",
    "    {\n",
    "        \"wires\": [i],\n",
    "        \"observables\": [\"Z\"],\n",
    "        \"coefficient\": [1],\n",
    "    }\n",
    "    for i in range(10)\n",
    "]\n",
    "\n",
    "\n",
    "def pqc(input, param, qubits, cbits, machine):\n",
    "    n = len(input)\n",
    "    prog = pq.QProg()\n",
    "    prog.insert(pq.H(qubits[10]))\n",
    "    for i in range(10):\n",
    "        prog.insert(pq.CNOT(qubits[10], qubits[i]))\n",
    "    for i in range(10):\n",
    "        prog.insert(pq.RX(qubits[i], np.arctan(input[i])))\n",
    "        prog.insert(pq.RY(qubits[i], np.arctan(input[i + 10])))\n",
    "        prog.insert(pq.RZ(qubits[i], np.arctan(input[i + 20])))\n",
    "        prog.insert(pq.RX(qubits[i], np.arctan(param[i])))\n",
    "        prog.insert(pq.RY(qubits[i], np.arctan(param[i + 10])))\n",
    "        prog.insert(pq.RZ(qubits[i], np.arctan(param[i + 20])))\n",
    "    for i in range(9, -1, -1):\n",
    "        prog.insert(pq.CNOT(qubits[10], qubits[i]))\n",
    "    prog.insert(pq.H(qubits[10]))\n",
    "\n",
    "    re = pv.qnn.measure.MeasurePauliSum(machine, prog, obs_list, qubits)\n",
    "    return re\n",
    "\n",
    "\n",
    "class Model(pv.nn.module.Module):\n",
    "    def __init__(self):\n",
    "        super(Model, self).__init__()\n",
    "        self.conv1 = pv.nn.Conv2D(3, 30, (3, 3))\n",
    "        self.conv2 = pv.nn.Conv2D(30, 30, (3, 3))\n",
    "        self.pool2 = pv.nn.MaxPool2D((2, 2), (2, 2))\n",
    "        self.conv3 = pv.nn.Conv2D(30, 30, (3, 3))\n",
    "        self.conv4 = pv.nn.Conv2D(30, 30, (3, 3))\n",
    "        self.pool4 = pv.nn.MaxPool2D((2, 2), (2, 2))\n",
    "        self.conv5 = pv.nn.Conv2D(30, 30, (5, 5))\n",
    "        self.qc = pv.qnn.quantumlayer.QuantumLayer(\n",
    "            pqc, 30, \"CPU\", 11, diff_method=\"finite_diff\"\n",
    "        )\n",
    "        # self.qc = pv.nn.Linear(30, 10)\n",
    "\n",
    "    def forward(self, x):\n",
    "        x = self.conv1(x)\n",
    "        x = self.conv2(x)\n",
    "        x = self.pool2(x)\n",
    "        x = self.conv3(x)\n",
    "        x = self.conv4(x)\n",
    "        x = self.pool4(x)\n",
    "        x = self.conv5(x)\n",
    "        x = pv.tensor.flatten(x, 1)\n",
    "        x = self.qc(x)\n",
    "        return x"
   ]
  },
  {
   "cell_type": "code",
   "execution_count": 46,
   "id": "1c09b97f-5282-4b15-9955-e73c712e09d9",
   "metadata": {
    "editable": true,
    "slideshow": {
     "slide_type": ""
    },
    "tags": []
   },
   "outputs": [
    {
     "name": "stdout",
     "output_type": "stream",
     "text": [
      "47790\n",
      "[[ 0.0359937,-0.1733132,-0.3559388, 0.0445173,-0.5137978,-0.6565396,\n",
      "  -0.179577 , 0.7154672, 0.652656 ,-0.0789741],\n",
      " [ 0.0285529,-0.1908629,-0.3508462, 0.0393779,-0.5195481,-0.6497594,\n",
      "  -0.1876085, 0.7199009, 0.6552359,-0.0903018]]\n",
      "[5 9 0 0 5 4 8 6 9 1 2 0 8 4 6 2 3 2 4 7 3 1 5 0 6 0 7 3 4 7 4 7]\n",
      "[7 7 7 7 7 7 7 7 7 7 7 7 7 7 7 7 7 7 7 7 7 7 7 7 7 7 7 7 7 7 7 7]\n"
     ]
    }
   ],
   "source": [
    "m = Model()\n",
    "print(sum(p.numel() for p in m.parameters()))\n",
    "# print(m.parameters())\n",
    "x = np.random.rand(32, 3, 32, 32).astype(\"float32\")\n",
    "y_pred = m(x)\n",
    "print(y_pred[:2])\n",
    "y = np.random.randint(0, 10, (32,), dtype=\"int64\")\n",
    "print(y)\n",
    "print(y_pred.argmax(1, False).to_numpy())"
   ]
  },
  {
   "cell_type": "code",
   "execution_count": 603,
   "id": "e1c74bab-fa4e-44de-a925-b2faf2f9efdc",
   "metadata": {
    "editable": true,
    "jupyter": {
     "source_hidden": true
    },
    "slideshow": {
     "slide_type": ""
    },
    "tags": []
   },
   "outputs": [
    {
     "name": "stdout",
     "output_type": "stream",
     "text": [
      "2.2426698207855225\n",
      "2.240192413330078\n"
     ]
    }
   ],
   "source": [
    "los = pv.nn.loss.CrossEntropyLoss()\n",
    "opt = pv.optim.SGD(m.parameters())\n",
    "y_pred = m(x)\n",
    "loss = los(y, y_pred)\n",
    "print(loss.item())\n",
    "loss.backward()\n",
    "opt._step()\n",
    "y_pred = m(x)\n",
    "loss = los(y, y_pred)\n",
    "print(loss.item())"
   ]
  },
  {
   "cell_type": "code",
   "execution_count": 28,
   "id": "88ae849d-1f57-4e4b-8e2b-bdbf15568686",
   "metadata": {
    "editable": true,
    "scrolled": true,
    "slideshow": {
     "slide_type": ""
    },
    "tags": []
   },
   "outputs": [
    {
     "name": "stdout",
     "output_type": "stream",
     "text": [
      "epoch 1 \t loss 2.3742082118988037\n",
      "[3 2 7 2 0 4 7 2 8 1 3 4 6 3 9 6 2 3 6 2 4 9 7 7 3 9 6 0 8 2 9 3]\n",
      "[4 4 1 1 1 1 1 3 1 1 1 1 1 1 1 1 1 4 1 1 4 1 1 1 1 1 4 4 1 3 1 4]\n",
      "correct: 2\n",
      "\n",
      "epoch 2 \t loss 2.1947197914123535\n",
      "[3 2 7 2 0 4 7 2 8 1 3 4 6 3 9 6 2 3 6 2 4 9 7 7 3 9 6 0 8 2 9 3]\n",
      "[3 3 3 3 3 3 3 3 3 3 3 3 3 3 3 3 3 3 3 3 3 3 3 3 3 3 3 3 3 3 3 3]\n",
      "correct: 6\n",
      "\n",
      "epoch 3 \t loss 2.1130764484405518\n",
      "[3 2 7 2 0 4 7 2 8 1 3 4 6 3 9 6 2 3 6 2 4 9 7 7 3 9 6 0 8 2 9 3]\n",
      "[3 3 3 3 3 3 3 3 3 3 3 3 3 3 3 3 3 3 3 3 3 3 3 3 3 3 3 3 3 3 3 3]\n",
      "correct: 6\n",
      "\n",
      "epoch 4 \t loss 2.085216760635376\n",
      "[3 2 7 2 0 4 7 2 8 1 3 4 6 3 9 6 2 3 6 2 4 9 7 7 3 9 6 0 8 2 9 3]\n",
      "[3 3 3 3 3 3 3 3 3 3 3 3 3 3 3 3 3 3 3 3 3 3 3 3 3 3 3 3 3 3 3 3]\n",
      "correct: 6\n",
      "\n",
      "epoch 5 \t loss 2.025099039077759\n",
      "[3 2 7 2 0 4 7 2 8 1 3 4 6 3 9 6 2 3 6 2 4 9 7 7 3 9 6 0 8 2 9 3]\n",
      "[3 3 3 3 3 3 2 3 2 3 3 2 2 3 3 3 3 3 3 3 3 3 3 2 3 3 2 3 3 3 3 3]\n",
      "correct: 6\n",
      "\n",
      "epoch 6 \t loss 1.9235163927078247\n",
      "[3 2 7 2 0 4 7 2 8 1 3 4 6 3 9 6 2 3 6 2 4 9 7 7 3 9 6 0 8 2 9 3]\n",
      "[3 2 2 2 2 2 2 2 2 2 3 2 2 3 2 2 2 3 2 2 2 2 2 2 3 2 2 2 2 2 2 3]\n",
      "correct: 12\n",
      "\n",
      "epoch 7 \t loss 1.8856353759765625\n",
      "[3 2 7 2 0 4 7 2 8 1 3 4 6 3 9 6 2 3 6 2 4 9 7 7 3 9 6 0 8 2 9 3]\n",
      "[2 2 2 2 2 4 2 2 2 2 2 4 2 2 2 2 2 2 2 2 4 2 2 2 2 2 2 2 2 2 2 2]\n",
      "correct: 9\n",
      "\n",
      "epoch 8 \t loss 1.7798432111740112\n",
      "[3 2 7 2 0 4 7 2 8 1 3 4 6 3 9 6 2 3 6 2 4 9 7 7 3 9 6 0 8 2 9 3]\n",
      "[2 2 2 2 2 4 2 2 2 2 3 4 2 2 2 2 2 2 2 2 4 2 2 2 2 2 2 2 2 2 2 2]\n",
      "correct: 10\n",
      "\n",
      "epoch 9 \t loss 1.6986689567565918\n",
      "[3 2 7 2 0 4 7 2 8 1 3 4 6 3 9 6 2 3 6 2 4 9 7 7 3 9 6 0 8 2 9 3]\n",
      "[3 2 2 2 2 4 2 2 2 2 3 4 2 3 2 2 2 3 2 2 4 2 2 2 3 2 2 2 2 2 2 3]\n",
      "correct: 15\n",
      "\n",
      "epoch 10 \t loss 1.6359784603118896\n",
      "[3 2 7 2 0 4 7 2 8 1 3 4 6 3 9 6 2 3 6 2 4 9 7 7 3 9 6 0 8 2 9 3]\n",
      "[3 2 2 2 2 4 7 2 8 2 3 4 2 3 6 2 2 3 6 2 4 2 7 2 3 2 2 2 8 2 6 3]\n",
      "correct: 20\n",
      "\n",
      "epoch 11 \t loss 1.5576773881912231\n",
      "[3 2 7 2 0 4 7 2 8 1 3 4 6 3 9 6 2 3 6 2 4 9 7 7 3 9 6 0 8 2 9 3]\n",
      "[3 2 7 2 2 4 7 2 8 2 3 4 6 3 9 6 2 3 6 2 4 9 7 7 3 9 6 2 8 2 9 3]\n",
      "correct: 29\n",
      "\n",
      "epoch 12 \t loss 1.5028128623962402\n",
      "[3 2 7 2 0 4 7 2 8 1 3 4 6 3 9 6 2 3 6 2 4 9 7 7 3 9 6 0 8 2 9 3]\n",
      "[3 2 7 2 2 4 7 2 8 2 3 4 6 3 9 6 2 3 6 2 4 9 7 7 3 9 6 2 8 2 9 3]\n",
      "correct: 29\n",
      "\n",
      "epoch 13 \t loss 1.466072916984558\n",
      "[3 2 7 2 0 4 7 2 8 1 3 4 6 3 9 6 2 3 6 2 4 9 7 7 3 9 6 0 8 2 9 3]\n",
      "[3 2 7 2 1 4 7 2 8 2 3 4 6 3 9 6 2 3 6 2 4 9 7 7 3 9 1 2 8 2 9 3]\n",
      "correct: 28\n",
      "\n",
      "epoch 14 \t loss 1.4332082271575928\n",
      "[3 2 7 2 0 4 7 2 8 1 3 4 6 3 9 6 2 3 6 2 4 9 7 7 3 9 6 0 8 2 9 3]\n",
      "[3 2 7 2 1 4 7 2 8 2 3 4 6 3 9 2 2 3 6 2 4 9 7 7 3 9 1 2 8 2 9 3]\n",
      "correct: 27\n",
      "\n",
      "epoch 15 \t loss 1.376188039779663\n",
      "[3 2 7 2 0 4 7 2 8 1 3 4 6 3 9 6 2 3 6 2 4 9 7 7 3 9 6 0 8 2 9 3]\n",
      "[3 2 7 2 1 4 7 2 8 2 3 4 6 3 9 2 2 3 6 2 4 9 7 7 3 9 2 2 8 2 9 3]\n",
      "correct: 27\n",
      "\n",
      "epoch 16 \t loss 1.3424601554870605\n",
      "[3 2 7 2 0 4 7 2 8 1 3 4 6 3 9 6 2 3 6 2 4 9 7 7 3 9 6 0 8 2 9 3]\n",
      "[3 2 7 2 2 4 7 2 8 2 3 4 6 3 9 2 2 3 6 2 4 9 7 7 3 9 6 2 8 2 9 3]\n",
      "correct: 28\n",
      "\n",
      "epoch 17 \t loss 1.3351532220840454\n",
      "[3 2 7 2 0 4 7 2 8 1 3 4 6 3 9 6 2 3 6 2 4 9 7 7 3 9 6 0 8 2 9 3]\n",
      "[3 2 7 2 2 4 7 2 8 2 3 4 6 3 9 6 2 3 6 2 4 9 7 7 3 9 6 2 8 2 9 3]\n",
      "correct: 29\n",
      "\n",
      "epoch 18 \t loss 1.304152250289917\n",
      "[3 2 7 2 0 4 7 2 8 1 3 4 6 3 9 6 2 3 6 2 4 9 7 7 3 9 6 0 8 2 9 3]\n",
      "[3 2 7 2 1 4 7 2 8 2 3 4 6 3 9 6 2 3 6 2 4 9 7 7 3 9 6 1 8 2 9 3]\n",
      "correct: 29\n",
      "\n",
      "epoch 19 \t loss 1.2729246616363525\n",
      "[3 2 7 2 0 4 7 2 8 1 3 4 6 3 9 6 2 3 6 2 4 9 7 7 3 9 6 0 8 2 9 3]\n",
      "[3 2 7 2 1 4 7 2 8 1 3 4 6 3 9 6 2 3 6 2 4 9 7 7 3 9 6 1 8 2 9 3]\n",
      "correct: 30\n",
      "\n",
      "epoch 20 \t loss 1.2466710805892944\n",
      "[3 2 7 2 0 4 7 2 8 1 3 4 6 3 9 6 2 3 6 2 4 9 7 7 3 9 6 0 8 2 9 3]\n",
      "[3 2 7 2 1 4 7 2 8 1 3 4 6 3 9 6 2 3 6 2 4 9 7 7 3 9 6 1 8 2 9 3]\n",
      "correct: 30\n",
      "\n",
      "epoch 21 \t loss 1.2205126285552979\n",
      "[3 2 7 2 0 4 7 2 8 1 3 4 6 3 9 6 2 3 6 2 4 9 7 7 3 9 6 0 8 2 9 3]\n",
      "[3 2 7 2 1 4 7 2 8 1 3 4 6 3 9 6 2 3 6 2 4 9 7 7 3 9 6 1 8 2 9 3]\n",
      "correct: 30\n",
      "\n",
      "epoch 22 \t loss 1.2145895957946777\n",
      "[3 2 7 2 0 4 7 2 8 1 3 4 6 3 9 6 2 3 6 2 4 9 7 7 3 9 6 0 8 2 9 3]\n",
      "[3 2 7 2 1 4 7 2 8 1 3 4 6 3 9 6 2 3 6 2 4 9 7 7 3 9 6 0 8 2 9 3]\n",
      "correct: 31\n",
      "\n",
      "epoch 23 \t loss 1.2168527841567993\n",
      "[3 2 7 2 0 4 7 2 8 1 3 4 6 3 9 6 2 3 6 2 4 9 7 7 3 9 6 0 8 2 9 3]\n",
      "[3 2 7 2 0 4 7 2 8 1 3 4 6 3 9 6 2 3 6 2 4 9 7 7 3 9 6 0 8 2 9 3]\n",
      "correct: 32\n",
      "\n",
      "done\n"
     ]
    }
   ],
   "source": [
    "for i in range(1, 101):\n",
    "    print(f\"epoch {i} \\t loss \", end=\"\")\n",
    "    los = pv.nn.loss.CrossEntropyLoss()\n",
    "    opt = pv.optim.SGD(m.parameters())\n",
    "    y_pred = m(x)\n",
    "    loss = los(y, y_pred)\n",
    "    print(loss.item())\n",
    "    y_p = y_pred.argmax(1, False).to_numpy()\n",
    "    s = sum(y_p == y)\n",
    "    print(y)\n",
    "    print(y_p)\n",
    "    print(f\"correct: {s}\")\n",
    "    print()\n",
    "    if s == y.shape[0]:\n",
    "        print(\"done\")\n",
    "        break\n",
    "    loss.backward()\n",
    "    opt._step()"
   ]
  },
  {
   "cell_type": "code",
   "execution_count": null,
   "id": "e9e9da4d-5511-4d9e-9263-2fa371339423",
   "metadata": {
    "editable": true,
    "slideshow": {
     "slide_type": ""
    },
    "tags": []
   },
   "outputs": [],
   "source": [
    "print(y)\n",
    "print(y_pred.argmax(1, False).to_numpy())"
   ]
  },
  {
   "cell_type": "code",
   "execution_count": null,
   "id": "2234be2c-4cbd-4dd6-b86a-9968832ad5fd",
   "metadata": {
    "editable": true,
    "scrolled": true,
    "slideshow": {
     "slide_type": ""
    },
    "tags": []
   },
   "outputs": [],
   "source": [
    "print(y_pred)"
   ]
  },
  {
   "cell_type": "code",
   "execution_count": 568,
   "id": "e540d960-0e5f-4a5d-94ae-aa1dc1117cf4",
   "metadata": {
    "editable": true,
    "slideshow": {
     "slide_type": ""
    },
    "tags": []
   },
   "outputs": [],
   "source": [
    "for i in range(30):\n",
    "    m.parameters()[1][i] = 0"
   ]
  },
  {
   "cell_type": "code",
   "execution_count": null,
   "id": "55f57c93-e3b2-4ba1-af05-c874baa0d9a7",
   "metadata": {
    "editable": true,
    "slideshow": {
     "slide_type": ""
    },
    "tags": []
   },
   "outputs": [],
   "source": [
    "m.parameters()[1]"
   ]
  },
  {
   "cell_type": "code",
   "execution_count": null,
   "id": "782558c0-de0b-4d2b-9fa5-2fb201cbe0be",
   "metadata": {},
   "outputs": [],
   "source": []
  }
 ],
 "metadata": {
  "kernelspec": {
   "display_name": "Python 3 (ipykernel)",
   "language": "python",
   "name": "python3"
  },
  "language_info": {
   "codemirror_mode": {
    "name": "ipython",
    "version": 3
   },
   "file_extension": ".py",
   "mimetype": "text/x-python",
   "name": "python",
   "nbconvert_exporter": "python",
   "pygments_lexer": "ipython3",
   "version": "3.10.12"
  }
 },
 "nbformat": 4,
 "nbformat_minor": 5
}
