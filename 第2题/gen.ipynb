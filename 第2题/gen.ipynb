{
 "cells": [
  {
   "cell_type": "code",
   "execution_count": 4,
   "id": "666ec983-bc24-4634-ad55-3877d137e72e",
   "metadata": {
    "editable": true,
    "slideshow": {
     "slide_type": ""
    },
    "tags": []
   },
   "outputs": [
    {
     "name": "stdout",
     "output_type": "stream",
     "text": [
      "        self.RY10 = pv.qnn.vqc.qcircuit.RY(True,True,wires=0)\n",
      "        self.RY11 = pv.qnn.vqc.qcircuit.RY(True,True,wires=1)\n",
      "        self.RY12 = pv.qnn.vqc.qcircuit.RY(True,True,wires=2)\n",
      "        self.RY13 = pv.qnn.vqc.qcircuit.RY(True,True,wires=3)\n",
      "        self.RY14 = pv.qnn.vqc.qcircuit.RY(True,True,wires=4)\n",
      "        self.RY15 = pv.qnn.vqc.qcircuit.RY(True,True,wires=5)\n",
      "        self.RY16 = pv.qnn.vqc.qcircuit.RY(True,True,wires=6)\n",
      "        self.RY17 = pv.qnn.vqc.qcircuit.RY(True,True,wires=7)\n",
      "        self.RY18 = pv.qnn.vqc.qcircuit.RY(True,True,wires=8)\n",
      "        self.RY19 = pv.qnn.vqc.qcircuit.RY(True,True,wires=9)\n"
     ]
    }
   ],
   "source": [
    "for i in range(10):\n",
    "    print(f\"\"\"        self.RY{i+10} = pv.qnn.vqc.qcircuit.RY(True,True,wires={i})\"\"\")"
   ]
  },
  {
   "cell_type": "code",
   "execution_count": 5,
   "id": "a2d6334d-d713-49dc-8116-f650d4c62a5a",
   "metadata": {},
   "outputs": [
    {
     "name": "stdout",
     "output_type": "stream",
     "text": [
      "        self.CNOT10 = pv.qnn.vqc.qcircuit.CNOT(wires=[0,1])\n",
      "        self.CNOT11 = pv.qnn.vqc.qcircuit.CNOT(wires=[1,2])\n",
      "        self.CNOT12 = pv.qnn.vqc.qcircuit.CNOT(wires=[2,3])\n",
      "        self.CNOT13 = pv.qnn.vqc.qcircuit.CNOT(wires=[3,4])\n",
      "        self.CNOT14 = pv.qnn.vqc.qcircuit.CNOT(wires=[4,5])\n",
      "        self.CNOT15 = pv.qnn.vqc.qcircuit.CNOT(wires=[5,6])\n",
      "        self.CNOT16 = pv.qnn.vqc.qcircuit.CNOT(wires=[6,7])\n",
      "        self.CNOT17 = pv.qnn.vqc.qcircuit.CNOT(wires=[7,8])\n",
      "        self.CNOT18 = pv.qnn.vqc.qcircuit.CNOT(wires=[8,9])\n",
      "        self.CNOT19 = pv.qnn.vqc.qcircuit.CNOT(wires=[9,0])\n"
     ]
    }
   ],
   "source": [
    "for i in range(10):\n",
    "    print(f\"\"\"        self.CNOT{i+10} = pv.qnn.vqc.qcircuit.CNOT(wires=[{i},{(i+1)%10}])\"\"\")"
   ]
  },
  {
   "cell_type": "code",
   "execution_count": 6,
   "id": "d6daac46-de78-44e4-ad5a-fe11705b62d3",
   "metadata": {},
   "outputs": [
    {
     "name": "stdout",
     "output_type": "stream",
     "text": [
      "        self.RY0(q_machine=self.device, params=x[:, [i]])\n",
      "        self.RY1(q_machine=self.device, params=x[:, [i]])\n",
      "        self.RY2(q_machine=self.device, params=x[:, [i]])\n",
      "        self.RY3(q_machine=self.device, params=x[:, [i]])\n",
      "        self.RY4(q_machine=self.device, params=x[:, [i]])\n",
      "        self.RY5(q_machine=self.device, params=x[:, [i]])\n",
      "        self.RY6(q_machine=self.device, params=x[:, [i]])\n",
      "        self.RY7(q_machine=self.device, params=x[:, [i]])\n",
      "        self.RY8(q_machine=self.device, params=x[:, [i]])\n",
      "        self.RY9(q_machine=self.device, params=x[:, [i]])\n"
     ]
    }
   ],
   "source": [
    "for i in range(10):\n",
    "    print(f\"\"\"        self.RY{i}(q_machine=self.device, params=x[:, [i]])\"\"\")"
   ]
  },
  {
   "cell_type": "code",
   "execution_count": 7,
   "id": "af6eaa6f-791f-4433-95af-2ff19caf8f63",
   "metadata": {},
   "outputs": [
    {
     "name": "stdout",
     "output_type": "stream",
     "text": [
      "        self.CNOT0(q_machine=self.device)\n",
      "        self.CNOT1(q_machine=self.device)\n",
      "        self.CNOT2(q_machine=self.device)\n",
      "        self.CNOT3(q_machine=self.device)\n",
      "        self.CNOT4(q_machine=self.device)\n",
      "        self.CNOT5(q_machine=self.device)\n",
      "        self.CNOT6(q_machine=self.device)\n",
      "        self.CNOT7(q_machine=self.device)\n",
      "        self.CNOT8(q_machine=self.device)\n",
      "        self.CNOT9(q_machine=self.device)\n"
     ]
    }
   ],
   "source": [
    "for i in range(10):\n",
    "    print(f\"\"\"        self.CNOT{i}(q_machine=self.device)\"\"\")"
   ]
  },
  {
   "cell_type": "code",
   "execution_count": 8,
   "id": "564f9310-f69b-46e3-8590-8bdd92cfd497",
   "metadata": {},
   "outputs": [
    {
     "name": "stdout",
     "output_type": "stream",
     "text": [
      "        self.RY10(q_machine=self.device)\n",
      "        self.RY11(q_machine=self.device)\n",
      "        self.RY12(q_machine=self.device)\n",
      "        self.RY13(q_machine=self.device)\n",
      "        self.RY14(q_machine=self.device)\n",
      "        self.RY15(q_machine=self.device)\n",
      "        self.RY16(q_machine=self.device)\n",
      "        self.RY17(q_machine=self.device)\n",
      "        self.RY18(q_machine=self.device)\n",
      "        self.RY19(q_machine=self.device)\n"
     ]
    }
   ],
   "source": [
    "for i in range(10):\n",
    "    print(f\"\"\"        self.RY{i+10}(q_machine=self.device)\"\"\")"
   ]
  },
  {
   "cell_type": "code",
   "execution_count": 9,
   "id": "ae7a9b08-5fb9-40d1-8a21-ed469e0cfa31",
   "metadata": {},
   "outputs": [
    {
     "name": "stdout",
     "output_type": "stream",
     "text": [
      "        self.CNOT10(q_machine=self.device)\n",
      "        self.CNOT11(q_machine=self.device)\n",
      "        self.CNOT12(q_machine=self.device)\n",
      "        self.CNOT13(q_machine=self.device)\n",
      "        self.CNOT14(q_machine=self.device)\n",
      "        self.CNOT15(q_machine=self.device)\n",
      "        self.CNOT16(q_machine=self.device)\n",
      "        self.CNOT17(q_machine=self.device)\n",
      "        self.CNOT18(q_machine=self.device)\n",
      "        self.CNOT19(q_machine=self.device)\n"
     ]
    }
   ],
   "source": [
    "for i in range(10):\n",
    "    print(f\"\"\"        self.CNOT{i+10}(q_machine=self.device)\"\"\")"
   ]
  },
  {
   "cell_type": "code",
   "execution_count": null,
   "id": "4c4732d2-1ab2-4836-8691-5ac9a0627299",
   "metadata": {},
   "outputs": [],
   "source": []
  },
  {
   "cell_type": "code",
   "execution_count": null,
   "id": "4683b4c3-35a6-492a-a0a4-ee1f890fe170",
   "metadata": {},
   "outputs": [],
   "source": []
  },
  {
   "cell_type": "code",
   "execution_count": null,
   "id": "38360047-a17c-4a97-9ff4-87011b3cd9ff",
   "metadata": {},
   "outputs": [],
   "source": []
  }
 ],
 "metadata": {
  "kernelspec": {
   "display_name": "Python 3 (ipykernel)",
   "language": "python",
   "name": "python3"
  },
  "language_info": {
   "codemirror_mode": {
    "name": "ipython",
    "version": 3
   },
   "file_extension": ".py",
   "mimetype": "text/x-python",
   "name": "python",
   "nbconvert_exporter": "python",
   "pygments_lexer": "ipython3",
   "version": "3.10.12"
  }
 },
 "nbformat": 4,
 "nbformat_minor": 5
}
