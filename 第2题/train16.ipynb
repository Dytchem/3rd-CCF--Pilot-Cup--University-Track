{
 "cells": [
  {
   "cell_type": "code",
   "execution_count": 1,
   "id": "590792a5-cddf-4a5d-aaef-da554f16ab4c",
   "metadata": {
    "editable": false,
    "slideshow": {
     "slide_type": ""
    },
    "tags": []
   },
   "outputs": [],
   "source": [
    "from utils import *\n",
    "import numpy as np\n",
    "import matplotlib.pyplot as plt\n",
    "import pyqpanda as pq\n",
    "import pyvqnet as pv\n",
    "import random\n",
    "from functools import partial\n",
    "import time\n",
    "\n",
    "%matplotlib inline"
   ]
  },
  {
   "cell_type": "code",
   "execution_count": 2,
   "id": "00d0bd95-484a-4e3d-b491-677e8a0ec9e1",
   "metadata": {
    "editable": false,
    "slideshow": {
     "slide_type": ""
    },
    "tags": []
   },
   "outputs": [],
   "source": [
    "train_data = Dataset(\n",
    "    \"data/cifar-10-batches-py/data_batch_1\",\n",
    "    \"data/cifar-10-batches-py/data_batch_2\",\n",
    "    \"data/cifar-10-batches-py/data_batch_3\",\n",
    "    \"data/cifar-10-batches-py/data_batch_4\",\n",
    "    \"data/cifar-10-batches-py/data_batch_5\",\n",
    ")\n",
    "train_data.enhance()\n",
    "test_data = Dataset(\"data/cifar-10-batches-py/test_batch\")"
   ]
  },
  {
   "cell_type": "code",
   "execution_count": 3,
   "id": "87bb597e-1bd2-4614-96c0-d0d9096bdcf5",
   "metadata": {
    "editable": true,
    "slideshow": {
     "slide_type": ""
    },
    "tags": []
   },
   "outputs": [],
   "source": [
    "class qm(pv.qnn.vqc.QModule):\n",
    "    def __init__(self, name=\"\"):\n",
    "        super().__init__(name)\n",
    "        self.device = pv.qnn.vqc.QMachine(2)\n",
    "        self.RX1 = pv.qnn.vqc.qcircuit.RX(wires=0)\n",
    "        self.RX2 = pv.qnn.vqc.qcircuit.RX(wires=1)\n",
    "        self.RY1 = pv.qnn.vqc.qcircuit.RY(True, True, 0, wires=0)\n",
    "        self.RY2 = pv.qnn.vqc.qcircuit.RY(True, True, 0, wires=1)\n",
    "        self.RX3 = pv.qnn.vqc.qcircuit.RX(True, True, 0, wires=0)\n",
    "        self.RX4 = pv.qnn.vqc.qcircuit.RX(True, True, 0, wires=1)\n",
    "        self.CZ1 = pv.qnn.vqc.qcircuit.CZ(wires=(0, 1))\n",
    "        self.CZ2 = pv.qnn.vqc.qcircuit.CZ(wires=(1, 0))\n",
    "        self.RY3 = pv.qnn.vqc.qcircuit.RY(True, True, 0, wires=0)\n",
    "        self.RY4 = pv.qnn.vqc.qcircuit.RY(True, True, 0, wires=1)\n",
    "        self.measure = pv.qnn.vqc.MeasureAll(\n",
    "            obs=[\n",
    "                {\n",
    "                    \"wires\": [0],\n",
    "                    \"observables\": [\"Z\"],\n",
    "                    \"coefficient\": [1],\n",
    "                }\n",
    "            ]\n",
    "        )\n",
    "\n",
    "    # @partial(pv.qnn.vqc.wrapper_compile)\n",
    "    def forward(self, x, y):\n",
    "        self.device.reset_states(x.shape[0])\n",
    "        self.RX1(q_machine=self.device, params=x[:])\n",
    "        self.RX2(q_machine=self.device, params=y[:])\n",
    "        self.RY1(q_machine=self.device)\n",
    "        self.RY2(q_machine=self.device)\n",
    "        self.RX3(q_machine=self.device)\n",
    "        self.RX4(q_machine=self.device)\n",
    "        self.CZ1(q_machine=self.device)\n",
    "        self.CZ2(q_machine=self.device)\n",
    "        self.RY3(q_machine=self.device)\n",
    "        self.RY4(q_machine=self.device)\n",
    "\n",
    "        return self.measure(q_machine=self.device)\n",
    "\n",
    "\n",
    "class QM(pv.nn.module.Module):\n",
    "    def __init__(self, name=\"\"):\n",
    "        super().__init__(name)\n",
    "        self.vqc = qm(name)\n",
    "\n",
    "    def forward(self, x, y):\n",
    "        X = pv.tensor.flatten(x, 1)\n",
    "        Y = pv.tensor.flatten(y, 1)\n",
    "        Z = pv.tensor.zeros_like(X)\n",
    "        for i in range(X.shape[1]):\n",
    "            Z[:, i] = self.vqc(X[:, i], Y[:, i])\n",
    "        z = pv.tensor.reshape(Z, x.shape)\n",
    "        return z\n",
    "\n",
    "\n",
    "class Model(pv.nn.module.Module):\n",
    "    def __init__(self):\n",
    "        super(Model, self).__init__()\n",
    "        self.conv1 = pv.nn.Conv2D(3, 4, (3, 3), (1, 1), \"same\")\n",
    "        self.pool1 = pv.nn.MaxPool2D((4, 4), (4, 4))\n",
    "        self.conv2 = pv.nn.Conv2D(3, 4, (3, 3), (1, 1), \"same\")\n",
    "        self.pool2 = pv.nn.MaxPool2D((4, 4), (4, 4))\n",
    "        self.vqc1 = QM(\"MyVQC1\")\n",
    "        self.conv3 = pv.nn.Conv2D(4, 8, (3, 3), (1, 1), \"same\")\n",
    "        self.pool3 = pv.nn.MaxPool2D((4, 4), (4, 4))\n",
    "        self.conv4 = pv.nn.Conv2D(4, 8, (3, 3), (1, 1), \"same\")\n",
    "        self.pool4 = pv.nn.MaxPool2D((4, 4), (4, 4))\n",
    "        self.vqc2 = QM(\"MyVQC2\")\n",
    "        self.fc = pv.nn.Linear(8 * 2 * 2, 10)\n",
    "\n",
    "    def forward(self, x):\n",
    "        x1 = 2 * pv.tensor.atan(self.pool1(self.conv1(x)))\n",
    "        x2 = 2 * pv.tensor.atan(self.pool2(self.conv2(x)))\n",
    "        x = self.vqc1(x1, x2)\n",
    "        x1 = 2 * pv.tensor.atan(self.pool3(self.conv3(x)))\n",
    "        x2 = 2 * pv.tensor.atan(self.pool4(self.conv4(x)))\n",
    "        x = self.vqc2(x1, x2)\n",
    "        x = pv.tensor.flatten(x, 1)\n",
    "        x = self.fc(x)\n",
    "\n",
    "        return x"
   ]
  },
  {
   "cell_type": "code",
   "execution_count": 4,
   "id": "d1d15243-0ede-4f5e-aed5-6f5281aa0faa",
   "metadata": {
    "editable": true,
    "slideshow": {
     "slide_type": ""
    },
    "tags": []
   },
   "outputs": [
    {
     "name": "stdout",
     "output_type": "stream",
     "text": [
      "\n",
      "\n",
      "###################Model Summary#######################\n",
      "\n",
      "classic layers: {'Conv2D': 4, 'MaxPool2D': 4, 'Linear': 1}\n",
      "total classic parameters: 1146\n",
      "\n",
      "=========================================\n",
      "qubits num: 2\n",
      "gates: {'RX': 8, 'RY': 8, 'CZ': 4}\n",
      "total quantum gates: 20\n",
      "total quantum parameter gates: 16\n",
      "total quantum parameters: 16\n",
      "#########################################################\n",
      "    \n"
     ]
    }
   ],
   "source": [
    "epoch = 1000\n",
    "batch = 128\n",
    "holdout = 10000\n",
    "\n",
    "model = Model()\n",
    "model.load_state_dict(pv.utils.storage.load_parameters(\"train16.model\"))\n",
    "print(pv.model_summary(model))\n",
    "\n",
    "e = 1\n",
    "acc_train = []\n",
    "acc_test = []"
   ]
  },
  {
   "cell_type": "code",
   "execution_count": 5,
   "id": "3943cdfc-3f1f-48e1-9d9e-a8f63cc645ac",
   "metadata": {
    "editable": true,
    "slideshow": {
     "slide_type": ""
    },
    "tags": []
   },
   "outputs": [],
   "source": [
    "# batch = 128"
   ]
  },
  {
   "cell_type": "code",
   "execution_count": null,
   "id": "a295ff97-6006-46b0-90e1-a09a8f953469",
   "metadata": {
    "editable": true,
    "scrolled": true,
    "slideshow": {
     "slide_type": ""
    },
    "tags": []
   },
   "outputs": [
    {
     "name": "stdout",
     "output_type": "stream",
     "text": [
      "epoch 1/1000 \t batch 1280/90000 \t loss 1.40 \t accuracy 0.50    \t 53.72 s\n",
      "epoch 1/1000 \t batch 2560/90000 \t loss 1.27 \t accuracy 0.60    \t 106.45 s\n",
      "epoch 1/1000 \t batch 3840/90000 \t loss 1.55 \t accuracy 0.38    \t 158.64 s\n",
      "epoch 1/1000 \t batch 5120/90000 \t loss 1.36 \t accuracy 0.49    \t 210.98 s\n",
      "epoch 1/1000 \t batch 6400/90000 \t loss 1.31 \t accuracy 0.52    \t 263.79 s\n",
      "epoch 1/1000 \t batch 7680/90000 \t loss 1.40 \t accuracy 0.46    \t 316.67 s\n",
      "epoch 1/1000 \t batch 8960/90000 \t loss 1.37 \t accuracy 0.49    \t 370.17 s\n",
      "epoch 1/1000 \t batch 10240/90000 \t loss 1.46 \t accuracy 0.52    \t 423.30 s\n",
      "epoch 1/1000 \t batch 11520/90000 \t loss 1.55 \t accuracy 0.39    \t 476.31 s\n",
      "epoch 1/1000 \t batch 12800/90000 \t loss 1.55 \t accuracy 0.45    \t 529.90 s\n",
      "epoch 1/1000 \t batch 14080/90000 \t loss 1.45 \t accuracy 0.48    \t 583.53 s\n",
      "epoch 1/1000 \t batch 15360/90000 \t loss 1.24 \t accuracy 0.58    \t 637.44 s\n",
      "epoch 1/1000 \t batch 16640/90000 \t loss 1.35 \t accuracy 0.55    \t 691.27 s\n",
      "epoch 1/1000 \t batch 17920/90000 \t loss 1.38 \t accuracy 0.57    \t 746.07 s\n",
      "epoch 1/1000 \t batch 19200/90000 \t loss 1.67 \t accuracy 0.39    \t 800.35 s\n",
      "epoch 1/1000 \t batch 20480/90000 \t loss 1.36 \t accuracy 0.55    \t 854.49 s\n",
      "epoch 1/1000 \t batch 21760/90000 \t loss 1.57 \t accuracy 0.43    \t 909.14 s\n",
      "epoch 1/1000 \t batch 23040/90000 \t loss 1.39 \t accuracy 0.51    \t 963.72 s\n",
      "epoch 1/1000 \t batch 24320/90000 \t loss 1.45 \t accuracy 0.44    \t 1018.71 s\n",
      "epoch 1/1000 \t batch 25600/90000 \t loss 1.39 \t accuracy 0.55    \t 1073.80 s\n",
      "epoch 1/1000 \t batch 26880/90000 \t loss 1.50 \t accuracy 0.51    \t 1128.39 s\n",
      "epoch 1/1000 \t batch 28160/90000 \t loss 1.58 \t accuracy 0.41    \t 1183.92 s\n",
      "epoch 1/1000 \t batch 29440/90000 \t loss 1.44 \t accuracy 0.46    \t 1239.29 s\n",
      "epoch 1/1000 \t batch 30720/90000 \t loss 1.30 \t accuracy 0.45    \t 1294.13 s\n",
      "epoch 1/1000 \t batch 32000/90000 \t loss 1.55 \t accuracy 0.42    \t 1349.43 s\n",
      "epoch 1/1000 \t batch 33280/90000 \t loss 1.30 \t accuracy 0.52    \t 1404.48 s\n",
      "epoch 1/1000 \t batch 34560/90000 \t loss 1.40 \t accuracy 0.50    \t 1459.42 s\n",
      "epoch 1/1000 \t batch 35840/90000 \t loss 1.41 \t accuracy 0.44    \t 1516.63 s\n",
      "epoch 1/1000 \t batch 37120/90000 \t loss 1.30 \t accuracy 0.51    \t 1571.88 s\n",
      "epoch 1/1000 \t batch 38400/90000 \t loss 1.40 \t accuracy 0.45    \t 1628.84 s\n",
      "epoch 1/1000 \t batch 39680/90000 \t loss 1.48 \t accuracy 0.45    \t 1684.95 s\n",
      "epoch 1/1000 \t batch 40960/90000 \t loss 1.46 \t accuracy 0.45    \t 1740.50 s\n",
      "epoch 1/1000 \t batch 42240/90000 \t loss 1.48 \t accuracy 0.45    \t 1796.12 s\n",
      "epoch 1/1000 \t batch 43520/90000 \t loss 1.52 \t accuracy 0.44    \t 1851.43 s\n",
      "epoch 1/1000 \t batch 44800/90000 \t loss 1.48 \t accuracy 0.41    \t 1908.30 s\n",
      "epoch 1/1000 \t batch 46080/90000 \t loss 1.38 \t accuracy 0.45    \t 1963.62 s\n",
      "epoch 1/1000 \t batch 47360/90000 \t loss 1.36 \t accuracy 0.48    \t 2019.32 s\n",
      "epoch 1/1000 \t batch 48640/90000 \t loss 1.35 \t accuracy 0.53    \t 2076.94 s\n",
      "epoch 1/1000 \t batch 49920/90000 \t loss 1.65 \t accuracy 0.38    \t 2132.85 s\n",
      "epoch 1/1000 \t batch 51200/90000 \t loss 1.53 \t accuracy 0.48    \t 2189.44 s\n",
      "epoch 1/1000 \t batch 52480/90000 \t loss 1.41 \t accuracy 0.48    \t 2244.98 s\n",
      "epoch 1/1000 \t batch 53760/90000 \t loss 1.39 \t accuracy 0.50    \t 2301.64 s\n",
      "epoch 1/1000 \t batch 55040/90000 \t loss 1.42 \t accuracy 0.47    \t 2359.62 s\n",
      "epoch 1/1000 \t batch 56320/90000 \t loss 1.56 \t accuracy 0.41    \t 2418.34 s\n",
      "epoch 1/1000 \t batch 57600/90000 \t loss 1.48 \t accuracy 0.48    \t 2476.38 s\n",
      "epoch 1/1000 \t batch 58880/90000 \t loss 1.45 \t accuracy 0.46    \t 2536.06 s\n",
      "epoch 1/1000 \t batch 60160/90000 \t loss 1.49 \t accuracy 0.46    \t 2594.96 s\n",
      "epoch 1/1000 \t batch 61440/90000 \t loss 1.30 \t accuracy 0.54    \t 2653.35 s\n",
      "epoch 1/1000 \t batch 62720/90000 \t loss 1.45 \t accuracy 0.54    \t 2712.77 s\n",
      "epoch 1/1000 \t batch 64000/90000 \t loss 1.52 \t accuracy 0.48    \t 2772.13 s\n",
      "epoch 1/1000 \t batch 65280/90000 \t loss 1.46 \t accuracy 0.46    \t 2831.94 s\n",
      "epoch 1/1000 \t batch 66560/90000 \t loss 1.34 \t accuracy 0.55    \t 2890.11 s\n",
      "epoch 1/1000 \t batch 67840/90000 \t loss 1.55 \t accuracy 0.49    \t 2948.23 s\n",
      "epoch 1/1000 \t batch 69120/90000 \t loss 1.47 \t accuracy 0.45    \t 3007.18 s\n",
      "epoch 1/1000 \t batch 70400/90000 \t loss 1.46 \t accuracy 0.41    \t 3065.93 s\n",
      "epoch 1/1000 \t batch 71680/90000 \t loss 1.43 \t accuracy 0.45    \t 3125.26 s\n",
      "epoch 1/1000 \t batch 72960/90000 \t loss 1.31 \t accuracy 0.52    \t 3183.99 s\n",
      "epoch 1/1000 \t batch 74240/90000 \t loss 1.26 \t accuracy 0.53    \t 3241.98 s\n",
      "epoch 1/1000 \t batch 75520/90000 \t loss 1.65 \t accuracy 0.38    \t 3299.71 s\n",
      "epoch 1/1000 \t batch 76800/90000 \t loss 1.49 \t accuracy 0.45    \t 3357.36 s\n",
      "epoch 1/1000 \t batch 78080/90000 \t loss 1.51 \t accuracy 0.48    \t 3415.07 s\n",
      "epoch 1/1000 \t batch 79360/90000 \t loss 1.46 \t accuracy 0.50    \t 3472.80 s\n",
      "epoch 1/1000 \t batch 80640/90000 \t loss 1.44 \t accuracy 0.47    \t 3530.44 s\n",
      "epoch 1/1000 \t batch 81920/90000 \t loss 1.24 \t accuracy 0.59    \t 3588.52 s\n",
      "epoch 1/1000 \t batch 83200/90000 \t loss 1.41 \t accuracy 0.48    \t 3647.37 s\n",
      "epoch 1/1000 \t batch 84480/90000 \t loss 1.30 \t accuracy 0.57    \t 3704.93 s\n",
      "epoch 1/1000 \t batch 85760/90000 \t loss 1.43 \t accuracy 0.50    \t 3763.51 s\n",
      "epoch 1/1000 \t batch 87040/90000 \t loss 1.44 \t accuracy 0.46    \t 3824.30 s\n",
      "epoch 1/1000 \t batch 88320/90000 \t loss 1.52 \t accuracy 0.41    \t 3887.91 s\n",
      "epoch 1/1000 \t batch 89600/90000 \t loss 1.52 \t accuracy 0.48    \t 3957.56 s\n",
      "********** train: epoch 2/1000 \t accuracy 48.03% **********\n",
      "********** test : epoch 2/1000 \t accuracy 46.84% **********\n",
      "epoch 2/1000 \t batch 1280/90000 \t loss 1.42 \t accuracy 0.48    \t 4346.40 s\n",
      "epoch 2/1000 \t batch 2560/90000 \t loss 1.41 \t accuracy 0.48    \t 4413.84 s\n",
      "epoch 2/1000 \t batch 3840/90000 \t loss 1.34 \t accuracy 0.58    \t 4480.48 s\n",
      "epoch 2/1000 \t batch 5120/90000 \t loss 1.55 \t accuracy 0.41    \t 4547.00 s\n",
      "epoch 2/1000 \t batch 6400/90000 \t loss 1.38 \t accuracy 0.47    \t 4604.20 s\n",
      "epoch 2/1000 \t batch 7680/90000 \t loss 1.53 \t accuracy 0.47    \t 4664.14 s\n",
      "epoch 2/1000 \t batch 8960/90000 \t loss 1.61 \t accuracy 0.41    \t 4723.46 s\n",
      "epoch 2/1000 \t batch 10240/90000 \t loss 1.42 \t accuracy 0.47    \t 4780.96 s\n",
      "epoch 2/1000 \t batch 11520/90000 \t loss 1.39 \t accuracy 0.48    \t 4840.30 s\n",
      "epoch 2/1000 \t batch 12800/90000 \t loss 1.35 \t accuracy 0.46    \t 4899.14 s\n",
      "epoch 2/1000 \t batch 14080/90000 \t loss 1.41 \t accuracy 0.50    \t 4957.62 s\n",
      "epoch 2/1000 \t batch 15360/90000 \t loss 1.29 \t accuracy 0.54    \t 5018.41 s\n",
      "epoch 2/1000 \t batch 16640/90000 \t loss 1.57 \t accuracy 0.42    \t 5077.40 s\n",
      "epoch 2/1000 \t batch 17920/90000 \t loss 1.56 \t accuracy 0.43    \t 5135.52 s\n",
      "epoch 2/1000 \t batch 19200/90000 \t loss 1.58 \t accuracy 0.39    \t 5193.57 s\n",
      "epoch 2/1000 \t batch 20480/90000 \t loss 1.54 \t accuracy 0.48    \t 5253.05 s\n",
      "epoch 2/1000 \t batch 21760/90000 \t loss 1.27 \t accuracy 0.56    \t 5308.62 s\n"
     ]
    }
   ],
   "source": [
    "X, Y = train_data.getdatas()\n",
    "los = pv.nn.loss.CrossEntropyLoss()\n",
    "opt = pv.optim.SGD(model.parameters())\n",
    "# opt = pv.optim.Adam(model.parameters())\n",
    "start_time = time.time()\n",
    "\n",
    "while e <= epoch:\n",
    "    model.train()\n",
    "\n",
    "    correct_tot = 0\n",
    "    for I, (x, y) in enumerate(\n",
    "        pv.data.data_generator(\n",
    "            X[:-holdout], Y[:-holdout], batch_size=batch, shuffle=True\n",
    "        )\n",
    "    ):\n",
    "        i = I + 1\n",
    "        # print(i)\n",
    "        opt.zero_grad()\n",
    "        y_pred = model(x)\n",
    "        loss = los(y, y_pred)\n",
    "        correct = np.sum(y_pred.argmax(1, False).to_numpy() == y)\n",
    "        acc = correct / y.shape[0]\n",
    "        correct_tot += correct\n",
    "        loss.backward()\n",
    "        opt._step()\n",
    "        if i % 10 == 0:\n",
    "            end_time = time.time()\n",
    "            print(\n",
    "                f\"epoch {e}/{epoch} \\t batch {batch*i}/{Y.shape[0]-holdout} \\t loss {loss.item():.2f} \\t accuracy {acc:.2f}    \\t {end_time-start_time:.2f} s\"\n",
    "            )\n",
    "            pv.utils.storage.save_parameters(model.state_dict(), \"train16.model\")\n",
    "    e += 1\n",
    "\n",
    "    model.eval()\n",
    "\n",
    "    acc = correct_tot / (Y.shape[0] - holdout)\n",
    "    print(f\"********** train: epoch {e}/{epoch} \\t accuracy {100*acc:.2f}% **********\")\n",
    "    acc_train.append(acc)\n",
    "\n",
    "    correct_tot = 0\n",
    "    for x, y in pv.data.data_generator(\n",
    "        X[-holdout:], Y[-holdout:], batch_size=128, shuffle=False\n",
    "    ):\n",
    "        y_pred = model(x)\n",
    "        correct_tot += np.sum(y_pred.argmax(1, False).to_numpy() == y)\n",
    "\n",
    "    acc = correct_tot / holdout\n",
    "    print(f\"********** test : epoch {e}/{epoch} \\t accuracy {100*acc:.2f}% **********\")\n",
    "    acc_test.append(acc)\n",
    "\n",
    "    opt = pv.optim.SGD(model.parameters(), 0.01 * (1 - acc))"
   ]
  },
  {
   "cell_type": "code",
   "execution_count": null,
   "id": "402d77b3-2cad-4bce-aad4-e9acd9205e8a",
   "metadata": {
    "editable": true,
    "slideshow": {
     "slide_type": ""
    },
    "tags": []
   },
   "outputs": [],
   "source": [
    "pv.utils.storage.save_parameters(model.state_dict(), \"train16.model\")"
   ]
  },
  {
   "cell_type": "code",
   "execution_count": null,
   "id": "dca29aa3-7efa-4e0e-a97c-eb145820efd6",
   "metadata": {
    "editable": true,
    "slideshow": {
     "slide_type": ""
    },
    "tags": []
   },
   "outputs": [],
   "source": [
    "m = Model()\n",
    "m.load_state_dict(pv.utils.storage.load_parameters(\"train16.model\"))"
   ]
  },
  {
   "cell_type": "code",
   "execution_count": null,
   "id": "d7d444c3-c167-4ff0-b6dd-725bb01148a6",
   "metadata": {
    "editable": true,
    "slideshow": {
     "slide_type": ""
    },
    "tags": []
   },
   "outputs": [],
   "source": [
    "m.eval()\n",
    "X, Y = test_data.getdatas()\n",
    "correct_tot = 0\n",
    "for x, y in pv.data.data_generator(X, Y, batch_size=128, shuffle=False):\n",
    "    y_pred = m(x)\n",
    "    correct_tot += np.sum(y_pred.argmax(1, False).to_numpy() == y)\n",
    "acc = correct_tot / Y.shape[0]\n",
    "print(f\"********** eval : accuracy {100*acc:.2f}% **********\")"
   ]
  },
  {
   "cell_type": "code",
   "execution_count": null,
   "id": "1c91b698-5df4-46b1-9aa5-8950328b2068",
   "metadata": {
    "editable": true,
    "slideshow": {
     "slide_type": ""
    },
    "tags": []
   },
   "outputs": [],
   "source": []
  },
  {
   "cell_type": "code",
   "execution_count": null,
   "id": "12fe0458-44ee-4fde-8fdc-79d528782f55",
   "metadata": {
    "editable": true,
    "slideshow": {
     "slide_type": ""
    },
    "tags": []
   },
   "outputs": [],
   "source": []
  },
  {
   "cell_type": "code",
   "execution_count": null,
   "id": "534048c2-cee7-49f3-ad6a-09a1b0150614",
   "metadata": {
    "editable": true,
    "slideshow": {
     "slide_type": ""
    },
    "tags": []
   },
   "outputs": [],
   "source": [
    "epochs = range(1, len(acc_train) + 1)\n",
    "\n",
    "plt.plot(epochs, acc_train, label=\"Train\", marker=\".\")\n",
    "plt.plot(epochs, acc_test, label=\"Test\", marker=\".\")\n",
    "\n",
    "plt.title(\"Accuracy over Epochs\")\n",
    "plt.xlabel(\"Epoch\")\n",
    "plt.ylabel(\"Accuracy\")\n",
    "plt.grid(True)\n",
    "plt.legend()\n",
    "# plt.ylim((0,1))\n",
    "plt.tight_layout()\n",
    "\n",
    "plt.savefig(\"train161.png\")\n",
    "plt.show()"
   ]
  },
  {
   "cell_type": "code",
   "execution_count": null,
   "id": "ac5640dd-406d-4843-9e05-0f9823b6461b",
   "metadata": {
    "editable": true,
    "slideshow": {
     "slide_type": ""
    },
    "tags": []
   },
   "outputs": [],
   "source": []
  }
 ],
 "metadata": {
  "kernelspec": {
   "display_name": "Python 3 (ipykernel)",
   "language": "python",
   "name": "python3"
  },
  "language_info": {
   "codemirror_mode": {
    "name": "ipython",
    "version": 3
   },
   "file_extension": ".py",
   "mimetype": "text/x-python",
   "name": "python",
   "nbconvert_exporter": "python",
   "pygments_lexer": "ipython3",
   "version": "3.10.12"
  }
 },
 "nbformat": 4,
 "nbformat_minor": 5
}
