{
 "cells": [
  {
   "cell_type": "code",
   "execution_count": 1,
   "id": "c242468f-56a2-481d-9475-9b362e059e89",
   "metadata": {},
   "outputs": [],
   "source": [
    "def sumCNOT(a):\n",
    "    re = 0\n",
    "    for i in a:\n",
    "        re += (len(i) - 1) * 2\n",
    "    return re"
   ]
  },
  {
   "cell_type": "code",
   "execution_count": 2,
   "id": "b59ebfc4-186f-4f3d-91ec-405ab7915d67",
   "metadata": {},
   "outputs": [],
   "source": [
    "def delCNOT(a):\n",
    "    re = 0\n",
    "    for i in range(len(a) - 1):\n",
    "        x = a[i]\n",
    "        y = a[i + 1]\n",
    "        if x[-1] != y[-1]:\n",
    "            continue\n",
    "        for j in range(min(len(x), len(y)) - 1):\n",
    "            if x[j] == y[j]:\n",
    "                re += 1\n",
    "            else:\n",
    "                break\n",
    "    return re * 2"
   ]
  },
  {
   "cell_type": "code",
   "execution_count": 3,
   "id": "4082c381-29e9-4aaa-a6ae-38566c1ed363",
   "metadata": {},
   "outputs": [],
   "source": [
    "def display(a):\n",
    "    if isinstance(a, list):\n",
    "        print(\n",
    "            \"总长度：\",\n",
    "            len(a),\n",
    "            \"\\t原本的CNOT门数：\",\n",
    "            sumCNOT(a),\n",
    "            \"\\t减少的CNOT门数：\",\n",
    "            delCNOT(a),\n",
    "        )\n",
    "        for i in a:\n",
    "            display(i)\n",
    "        return\n",
    "    print(\"(\", end=\"\")\n",
    "    for i in range(len(a) - 1):\n",
    "        print(a[i], \",\", end=\"\", sep=\"\")\n",
    "    print(a[-1], \")\", end=\"\", sep=\"\")"
   ]
  },
  {
   "cell_type": "code",
   "execution_count": 4,
   "id": "1d58faaa-e96c-4229-b721-5af6d014f97e",
   "metadata": {},
   "outputs": [],
   "source": [
    "def order4():\n",
    "    L = []\n",
    "    # (xi,xj,yk,yl)\n",
    "    for l in range(1, 6):\n",
    "        for i in range(1, 6):\n",
    "            for j in range(i + 1, 6):\n",
    "                for k in range(l + 1, 6):\n",
    "                    L.append((\"x\" + str(i), \"x\" + str(j), \"y\" + str(k), \"y\" + str(l)))\n",
    "    return L"
   ]
  },
  {
   "cell_type": "code",
   "execution_count": 5,
   "id": "b0a2e4f1-cbbf-4672-a579-d596ad72885f",
   "metadata": {},
   "outputs": [
    {
     "name": "stdout",
     "output_type": "stream",
     "text": [
      "总长度： 100 \t原本的CNOT门数： 600 \t减少的CNOT门数： 288\n",
      "(x1,x2,y2,y1)(x1,x2,y3,y1)(x1,x2,y4,y1)(x1,x2,y5,y1)(x1,x3,y2,y1)(x1,x3,y3,y1)(x1,x3,y4,y1)(x1,x3,y5,y1)(x1,x4,y2,y1)(x1,x4,y3,y1)(x1,x4,y4,y1)(x1,x4,y5,y1)(x1,x5,y2,y1)(x1,x5,y3,y1)(x1,x5,y4,y1)(x1,x5,y5,y1)(x2,x3,y2,y1)(x2,x3,y3,y1)(x2,x3,y4,y1)(x2,x3,y5,y1)(x2,x4,y2,y1)(x2,x4,y3,y1)(x2,x4,y4,y1)(x2,x4,y5,y1)(x2,x5,y2,y1)(x2,x5,y3,y1)(x2,x5,y4,y1)(x2,x5,y5,y1)(x3,x4,y2,y1)(x3,x4,y3,y1)(x3,x4,y4,y1)(x3,x4,y5,y1)(x3,x5,y2,y1)(x3,x5,y3,y1)(x3,x5,y4,y1)(x3,x5,y5,y1)(x4,x5,y2,y1)(x4,x5,y3,y1)(x4,x5,y4,y1)(x4,x5,y5,y1)(x1,x2,y3,y2)(x1,x2,y4,y2)(x1,x2,y5,y2)(x1,x3,y3,y2)(x1,x3,y4,y2)(x1,x3,y5,y2)(x1,x4,y3,y2)(x1,x4,y4,y2)(x1,x4,y5,y2)(x1,x5,y3,y2)(x1,x5,y4,y2)(x1,x5,y5,y2)(x2,x3,y3,y2)(x2,x3,y4,y2)(x2,x3,y5,y2)(x2,x4,y3,y2)(x2,x4,y4,y2)(x2,x4,y5,y2)(x2,x5,y3,y2)(x2,x5,y4,y2)(x2,x5,y5,y2)(x3,x4,y3,y2)(x3,x4,y4,y2)(x3,x4,y5,y2)(x3,x5,y3,y2)(x3,x5,y4,y2)(x3,x5,y5,y2)(x4,x5,y3,y2)(x4,x5,y4,y2)(x4,x5,y5,y2)(x1,x2,y4,y3)(x1,x2,y5,y3)(x1,x3,y4,y3)(x1,x3,y5,y3)(x1,x4,y4,y3)(x1,x4,y5,y3)(x1,x5,y4,y3)(x1,x5,y5,y3)(x2,x3,y4,y3)(x2,x3,y5,y3)(x2,x4,y4,y3)(x2,x4,y5,y3)(x2,x5,y4,y3)(x2,x5,y5,y3)(x3,x4,y4,y3)(x3,x4,y5,y3)(x3,x5,y4,y3)(x3,x5,y5,y3)(x4,x5,y4,y3)(x4,x5,y5,y3)(x1,x2,y5,y4)(x1,x3,y5,y4)(x1,x4,y5,y4)(x1,x5,y5,y4)(x2,x3,y5,y4)(x2,x4,y5,y4)(x2,x5,y5,y4)(x3,x4,y5,y4)(x3,x5,y5,y4)(x4,x5,y5,y4)"
     ]
    }
   ],
   "source": [
    "display(order4())"
   ]
  },
  {
   "cell_type": "code",
   "execution_count": 6,
   "id": "bc4e27a9-bb5b-4978-b0d8-3e5307c222bb",
   "metadata": {},
   "outputs": [],
   "source": [
    "def order31():\n",
    "    L0 = order4()\n",
    "    L = [(\"x1\", \"x2\", \"y1\")]\n",
    "    for i in L0:\n",
    "        if not (i[0] == L[-1][0] and i[1] == L[-1][1] and i[-1] == L[-1][-1]):\n",
    "            L.append((i[0], i[1], i[-1]))\n",
    "        L.append(i)\n",
    "    return L"
   ]
  },
  {
   "cell_type": "code",
   "execution_count": 7,
   "id": "3a176cd4-2068-4a4e-a651-d5f8b1c9288d",
   "metadata": {},
   "outputs": [
    {
     "name": "stdout",
     "output_type": "stream",
     "text": [
      "总长度： 140 \t原本的CNOT门数： 760 \t减少的CNOT门数： 448\n",
      "(x1,x2,y1)(x1,x2,y2,y1)(x1,x2,y3,y1)(x1,x2,y4,y1)(x1,x2,y5,y1)(x1,x3,y1)(x1,x3,y2,y1)(x1,x3,y3,y1)(x1,x3,y4,y1)(x1,x3,y5,y1)(x1,x4,y1)(x1,x4,y2,y1)(x1,x4,y3,y1)(x1,x4,y4,y1)(x1,x4,y5,y1)(x1,x5,y1)(x1,x5,y2,y1)(x1,x5,y3,y1)(x1,x5,y4,y1)(x1,x5,y5,y1)(x2,x3,y1)(x2,x3,y2,y1)(x2,x3,y3,y1)(x2,x3,y4,y1)(x2,x3,y5,y1)(x2,x4,y1)(x2,x4,y2,y1)(x2,x4,y3,y1)(x2,x4,y4,y1)(x2,x4,y5,y1)(x2,x5,y1)(x2,x5,y2,y1)(x2,x5,y3,y1)(x2,x5,y4,y1)(x2,x5,y5,y1)(x3,x4,y1)(x3,x4,y2,y1)(x3,x4,y3,y1)(x3,x4,y4,y1)(x3,x4,y5,y1)(x3,x5,y1)(x3,x5,y2,y1)(x3,x5,y3,y1)(x3,x5,y4,y1)(x3,x5,y5,y1)(x4,x5,y1)(x4,x5,y2,y1)(x4,x5,y3,y1)(x4,x5,y4,y1)(x4,x5,y5,y1)(x1,x2,y2)(x1,x2,y3,y2)(x1,x2,y4,y2)(x1,x2,y5,y2)(x1,x3,y2)(x1,x3,y3,y2)(x1,x3,y4,y2)(x1,x3,y5,y2)(x1,x4,y2)(x1,x4,y3,y2)(x1,x4,y4,y2)(x1,x4,y5,y2)(x1,x5,y2)(x1,x5,y3,y2)(x1,x5,y4,y2)(x1,x5,y5,y2)(x2,x3,y2)(x2,x3,y3,y2)(x2,x3,y4,y2)(x2,x3,y5,y2)(x2,x4,y2)(x2,x4,y3,y2)(x2,x4,y4,y2)(x2,x4,y5,y2)(x2,x5,y2)(x2,x5,y3,y2)(x2,x5,y4,y2)(x2,x5,y5,y2)(x3,x4,y2)(x3,x4,y3,y2)(x3,x4,y4,y2)(x3,x4,y5,y2)(x3,x5,y2)(x3,x5,y3,y2)(x3,x5,y4,y2)(x3,x5,y5,y2)(x4,x5,y2)(x4,x5,y3,y2)(x4,x5,y4,y2)(x4,x5,y5,y2)(x1,x2,y3)(x1,x2,y4,y3)(x1,x2,y5,y3)(x1,x3,y3)(x1,x3,y4,y3)(x1,x3,y5,y3)(x1,x4,y3)(x1,x4,y4,y3)(x1,x4,y5,y3)(x1,x5,y3)(x1,x5,y4,y3)(x1,x5,y5,y3)(x2,x3,y3)(x2,x3,y4,y3)(x2,x3,y5,y3)(x2,x4,y3)(x2,x4,y4,y3)(x2,x4,y5,y3)(x2,x5,y3)(x2,x5,y4,y3)(x2,x5,y5,y3)(x3,x4,y3)(x3,x4,y4,y3)(x3,x4,y5,y3)(x3,x5,y3)(x3,x5,y4,y3)(x3,x5,y5,y3)(x4,x5,y3)(x4,x5,y4,y3)(x4,x5,y5,y3)(x1,x2,y4)(x1,x2,y5,y4)(x1,x3,y4)(x1,x3,y5,y4)(x1,x4,y4)(x1,x4,y5,y4)(x1,x5,y4)(x1,x5,y5,y4)(x2,x3,y4)(x2,x3,y5,y4)(x2,x4,y4)(x2,x4,y5,y4)(x2,x5,y4)(x2,x5,y5,y4)(x3,x4,y4)(x3,x4,y5,y4)(x3,x5,y4)(x3,x5,y5,y4)(x4,x5,y4)(x4,x5,y5,y4)"
     ]
    }
   ],
   "source": [
    "display(order31())"
   ]
  },
  {
   "cell_type": "code",
   "execution_count": 8,
   "id": "3c763c6f-d75e-4600-9f1a-ff83a7c7c31a",
   "metadata": {},
   "outputs": [],
   "source": [
    "def order32():\n",
    "    L = []\n",
    "    # (yi,yj,xk):\n",
    "    for k in range(1, 6):\n",
    "        for i in range(1, 6):\n",
    "            for j in range(i + 1, 6):\n",
    "                L.append((\"y\" + str(i), \"y\" + str(j), \"x\" + str(k)))\n",
    "    return L"
   ]
  },
  {
   "cell_type": "code",
   "execution_count": 9,
   "id": "67496573-589d-4a0a-9b7c-7e7aa5b99a9b",
   "metadata": {},
   "outputs": [
    {
     "name": "stdout",
     "output_type": "stream",
     "text": [
      "总长度： 50 \t原本的CNOT门数： 200 \t减少的CNOT门数： 60\n",
      "(y1,y2,x1)(y1,y3,x1)(y1,y4,x1)(y1,y5,x1)(y2,y3,x1)(y2,y4,x1)(y2,y5,x1)(y3,y4,x1)(y3,y5,x1)(y4,y5,x1)(y1,y2,x2)(y1,y3,x2)(y1,y4,x2)(y1,y5,x2)(y2,y3,x2)(y2,y4,x2)(y2,y5,x2)(y3,y4,x2)(y3,y5,x2)(y4,y5,x2)(y1,y2,x3)(y1,y3,x3)(y1,y4,x3)(y1,y5,x3)(y2,y3,x3)(y2,y4,x3)(y2,y5,x3)(y3,y4,x3)(y3,y5,x3)(y4,y5,x3)(y1,y2,x4)(y1,y3,x4)(y1,y4,x4)(y1,y5,x4)(y2,y3,x4)(y2,y4,x4)(y2,y5,x4)(y3,y4,x4)(y3,y5,x4)(y4,y5,x4)(y1,y2,x5)(y1,y3,x5)(y1,y4,x5)(y1,y5,x5)(y2,y3,x5)(y2,y4,x5)(y2,y5,x5)(y3,y4,x5)(y3,y5,x5)(y4,y5,x5)"
     ]
    }
   ],
   "source": [
    "display(order32())"
   ]
  },
  {
   "cell_type": "code",
   "execution_count": 10,
   "id": "d89c326b-4799-4230-a2f9-c23c0c0c203d",
   "metadata": {},
   "outputs": [],
   "source": [
    "def order21():\n",
    "    L = []\n",
    "    # (xi,xj) (xi,y5,xj)\n",
    "    for j in range(1, 6):\n",
    "        for i in range(j + 1, 6):\n",
    "            L.append((\"x\" + str(i), \"x\" + str(j)))\n",
    "            L.append((\"x\" + str(i), \"y5\", \"x\" + str(j)))\n",
    "    return L"
   ]
  },
  {
   "cell_type": "code",
   "execution_count": 11,
   "id": "ffddef89-dd99-4545-9c17-a7dd9994783b",
   "metadata": {},
   "outputs": [
    {
     "name": "stdout",
     "output_type": "stream",
     "text": [
      "总长度： 20 \t原本的CNOT门数： 60 \t减少的CNOT门数： 20\n",
      "(x2,x1)(x2,y5,x1)(x3,x1)(x3,y5,x1)(x4,x1)(x4,y5,x1)(x5,x1)(x5,y5,x1)(x3,x2)(x3,y5,x2)(x4,x2)(x4,y5,x2)(x5,x2)(x5,y5,x2)(x4,x3)(x4,y5,x3)(x5,x3)(x5,y5,x3)(x5,x4)(x5,y5,x4)"
     ]
    }
   ],
   "source": [
    "display(order21())"
   ]
  },
  {
   "cell_type": "code",
   "execution_count": 12,
   "id": "13a4f4ae-ba60-4c98-902f-12fe07fd63bc",
   "metadata": {},
   "outputs": [],
   "source": [
    "def order22():\n",
    "    L0 = order32()\n",
    "    L = [(\"y1\", \"x1\")]\n",
    "    for i in L0:\n",
    "        if not (i[0] == L[-1][0] and i[-1] == L[-1][-1]):\n",
    "            L.append((i[0], i[-1]))\n",
    "        L.append(i)\n",
    "    # (y5,xi)\n",
    "    for i in range(1, 6):\n",
    "        L.append((\"y5\", \"x\" + str(i)))\n",
    "    return L"
   ]
  },
  {
   "cell_type": "code",
   "execution_count": 13,
   "id": "8ddab201-85c1-40c5-9f7f-3e2f60478ec4",
   "metadata": {},
   "outputs": [
    {
     "name": "stdout",
     "output_type": "stream",
     "text": [
      "总长度： 75 \t原本的CNOT门数： 250 \t减少的CNOT门数： 100\n",
      "(y1,x1)(y1,y2,x1)(y1,y3,x1)(y1,y4,x1)(y1,y5,x1)(y2,x1)(y2,y3,x1)(y2,y4,x1)(y2,y5,x1)(y3,x1)(y3,y4,x1)(y3,y5,x1)(y4,x1)(y4,y5,x1)(y1,x2)(y1,y2,x2)(y1,y3,x2)(y1,y4,x2)(y1,y5,x2)(y2,x2)(y2,y3,x2)(y2,y4,x2)(y2,y5,x2)(y3,x2)(y3,y4,x2)(y3,y5,x2)(y4,x2)(y4,y5,x2)(y1,x3)(y1,y2,x3)(y1,y3,x3)(y1,y4,x3)(y1,y5,x3)(y2,x3)(y2,y3,x3)(y2,y4,x3)(y2,y5,x3)(y3,x3)(y3,y4,x3)(y3,y5,x3)(y4,x3)(y4,y5,x3)(y1,x4)(y1,y2,x4)(y1,y3,x4)(y1,y4,x4)(y1,y5,x4)(y2,x4)(y2,y3,x4)(y2,y4,x4)(y2,y5,x4)(y3,x4)(y3,y4,x4)(y3,y5,x4)(y4,x4)(y4,y5,x4)(y1,x5)(y1,y2,x5)(y1,y3,x5)(y1,y4,x5)(y1,y5,x5)(y2,x5)(y2,y3,x5)(y2,y4,x5)(y2,y5,x5)(y3,x5)(y3,y4,x5)(y3,y5,x5)(y4,x5)(y4,y5,x5)(y5,x1)(y5,x2)(y5,x3)(y5,x4)(y5,x5)"
     ]
    }
   ],
   "source": [
    "display(order22())"
   ]
  },
  {
   "cell_type": "code",
   "execution_count": 14,
   "id": "57b1e76f-903f-48f1-be3a-8fd27ea001db",
   "metadata": {},
   "outputs": [],
   "source": [
    "def order2():\n",
    "    L = []\n",
    "    # (yi,yj)\n",
    "    for j in range(1, 6):\n",
    "        for i in range(j + 1, 6):\n",
    "            L.append((\"y\" + str(i), \"y\" + str(j)))\n",
    "    L += order21()\n",
    "    L += order22()\n",
    "    return L"
   ]
  },
  {
   "cell_type": "code",
   "execution_count": 15,
   "id": "d7e37a55-aa86-4c57-940a-291dc21cfe1a",
   "metadata": {},
   "outputs": [
    {
     "name": "stdout",
     "output_type": "stream",
     "text": [
      "总长度： 105 \t原本的CNOT门数： 330 \t减少的CNOT门数： 120\n",
      "(y2,y1)(y3,y1)(y4,y1)(y5,y1)(y3,y2)(y4,y2)(y5,y2)(y4,y3)(y5,y3)(y5,y4)(x2,x1)(x2,y5,x1)(x3,x1)(x3,y5,x1)(x4,x1)(x4,y5,x1)(x5,x1)(x5,y5,x1)(x3,x2)(x3,y5,x2)(x4,x2)(x4,y5,x2)(x5,x2)(x5,y5,x2)(x4,x3)(x4,y5,x3)(x5,x3)(x5,y5,x3)(x5,x4)(x5,y5,x4)(y1,x1)(y1,y2,x1)(y1,y3,x1)(y1,y4,x1)(y1,y5,x1)(y2,x1)(y2,y3,x1)(y2,y4,x1)(y2,y5,x1)(y3,x1)(y3,y4,x1)(y3,y5,x1)(y4,x1)(y4,y5,x1)(y1,x2)(y1,y2,x2)(y1,y3,x2)(y1,y4,x2)(y1,y5,x2)(y2,x2)(y2,y3,x2)(y2,y4,x2)(y2,y5,x2)(y3,x2)(y3,y4,x2)(y3,y5,x2)(y4,x2)(y4,y5,x2)(y1,x3)(y1,y2,x3)(y1,y3,x3)(y1,y4,x3)(y1,y5,x3)(y2,x3)(y2,y3,x3)(y2,y4,x3)(y2,y5,x3)(y3,x3)(y3,y4,x3)(y3,y5,x3)(y4,x3)(y4,y5,x3)(y1,x4)(y1,y2,x4)(y1,y3,x4)(y1,y4,x4)(y1,y5,x4)(y2,x4)(y2,y3,x4)(y2,y4,x4)(y2,y5,x4)(y3,x4)(y3,y4,x4)(y3,y5,x4)(y4,x4)(y4,y5,x4)(y1,x5)(y1,y2,x5)(y1,y3,x5)(y1,y4,x5)(y1,y5,x5)(y2,x5)(y2,y3,x5)(y2,y4,x5)(y2,y5,x5)(y3,x5)(y3,y4,x5)(y3,y5,x5)(y4,x5)(y4,y5,x5)(y5,x1)(y5,x2)(y5,x3)(y5,x4)(y5,x5)"
     ]
    }
   ],
   "source": [
    "display(order2())"
   ]
  },
  {
   "cell_type": "code",
   "execution_count": 16,
   "id": "d686114f-e7af-46fb-b353-d98aee7ae05b",
   "metadata": {},
   "outputs": [],
   "source": [
    "def order():\n",
    "    return order2() + order31()"
   ]
  },
  {
   "cell_type": "code",
   "execution_count": 17,
   "id": "9b17afdc-78e4-4e5f-9f9c-d9fb47de91e3",
   "metadata": {},
   "outputs": [
    {
     "name": "stdout",
     "output_type": "stream",
     "text": [
      "总长度： 245 \t原本的CNOT门数： 1090 \t减少的CNOT门数： 568\n",
      "(y2,y1)(y3,y1)(y4,y1)(y5,y1)(y3,y2)(y4,y2)(y5,y2)(y4,y3)(y5,y3)(y5,y4)(x2,x1)(x2,y5,x1)(x3,x1)(x3,y5,x1)(x4,x1)(x4,y5,x1)(x5,x1)(x5,y5,x1)(x3,x2)(x3,y5,x2)(x4,x2)(x4,y5,x2)(x5,x2)(x5,y5,x2)(x4,x3)(x4,y5,x3)(x5,x3)(x5,y5,x3)(x5,x4)(x5,y5,x4)(y1,x1)(y1,y2,x1)(y1,y3,x1)(y1,y4,x1)(y1,y5,x1)(y2,x1)(y2,y3,x1)(y2,y4,x1)(y2,y5,x1)(y3,x1)(y3,y4,x1)(y3,y5,x1)(y4,x1)(y4,y5,x1)(y1,x2)(y1,y2,x2)(y1,y3,x2)(y1,y4,x2)(y1,y5,x2)(y2,x2)(y2,y3,x2)(y2,y4,x2)(y2,y5,x2)(y3,x2)(y3,y4,x2)(y3,y5,x2)(y4,x2)(y4,y5,x2)(y1,x3)(y1,y2,x3)(y1,y3,x3)(y1,y4,x3)(y1,y5,x3)(y2,x3)(y2,y3,x3)(y2,y4,x3)(y2,y5,x3)(y3,x3)(y3,y4,x3)(y3,y5,x3)(y4,x3)(y4,y5,x3)(y1,x4)(y1,y2,x4)(y1,y3,x4)(y1,y4,x4)(y1,y5,x4)(y2,x4)(y2,y3,x4)(y2,y4,x4)(y2,y5,x4)(y3,x4)(y3,y4,x4)(y3,y5,x4)(y4,x4)(y4,y5,x4)(y1,x5)(y1,y2,x5)(y1,y3,x5)(y1,y4,x5)(y1,y5,x5)(y2,x5)(y2,y3,x5)(y2,y4,x5)(y2,y5,x5)(y3,x5)(y3,y4,x5)(y3,y5,x5)(y4,x5)(y4,y5,x5)(y5,x1)(y5,x2)(y5,x3)(y5,x4)(y5,x5)(x1,x2,y1)(x1,x2,y2,y1)(x1,x2,y3,y1)(x1,x2,y4,y1)(x1,x2,y5,y1)(x1,x3,y1)(x1,x3,y2,y1)(x1,x3,y3,y1)(x1,x3,y4,y1)(x1,x3,y5,y1)(x1,x4,y1)(x1,x4,y2,y1)(x1,x4,y3,y1)(x1,x4,y4,y1)(x1,x4,y5,y1)(x1,x5,y1)(x1,x5,y2,y1)(x1,x5,y3,y1)(x1,x5,y4,y1)(x1,x5,y5,y1)(x2,x3,y1)(x2,x3,y2,y1)(x2,x3,y3,y1)(x2,x3,y4,y1)(x2,x3,y5,y1)(x2,x4,y1)(x2,x4,y2,y1)(x2,x4,y3,y1)(x2,x4,y4,y1)(x2,x4,y5,y1)(x2,x5,y1)(x2,x5,y2,y1)(x2,x5,y3,y1)(x2,x5,y4,y1)(x2,x5,y5,y1)(x3,x4,y1)(x3,x4,y2,y1)(x3,x4,y3,y1)(x3,x4,y4,y1)(x3,x4,y5,y1)(x3,x5,y1)(x3,x5,y2,y1)(x3,x5,y3,y1)(x3,x5,y4,y1)(x3,x5,y5,y1)(x4,x5,y1)(x4,x5,y2,y1)(x4,x5,y3,y1)(x4,x5,y4,y1)(x4,x5,y5,y1)(x1,x2,y2)(x1,x2,y3,y2)(x1,x2,y4,y2)(x1,x2,y5,y2)(x1,x3,y2)(x1,x3,y3,y2)(x1,x3,y4,y2)(x1,x3,y5,y2)(x1,x4,y2)(x1,x4,y3,y2)(x1,x4,y4,y2)(x1,x4,y5,y2)(x1,x5,y2)(x1,x5,y3,y2)(x1,x5,y4,y2)(x1,x5,y5,y2)(x2,x3,y2)(x2,x3,y3,y2)(x2,x3,y4,y2)(x2,x3,y5,y2)(x2,x4,y2)(x2,x4,y3,y2)(x2,x4,y4,y2)(x2,x4,y5,y2)(x2,x5,y2)(x2,x5,y3,y2)(x2,x5,y4,y2)(x2,x5,y5,y2)(x3,x4,y2)(x3,x4,y3,y2)(x3,x4,y4,y2)(x3,x4,y5,y2)(x3,x5,y2)(x3,x5,y3,y2)(x3,x5,y4,y2)(x3,x5,y5,y2)(x4,x5,y2)(x4,x5,y3,y2)(x4,x5,y4,y2)(x4,x5,y5,y2)(x1,x2,y3)(x1,x2,y4,y3)(x1,x2,y5,y3)(x1,x3,y3)(x1,x3,y4,y3)(x1,x3,y5,y3)(x1,x4,y3)(x1,x4,y4,y3)(x1,x4,y5,y3)(x1,x5,y3)(x1,x5,y4,y3)(x1,x5,y5,y3)(x2,x3,y3)(x2,x3,y4,y3)(x2,x3,y5,y3)(x2,x4,y3)(x2,x4,y4,y3)(x2,x4,y5,y3)(x2,x5,y3)(x2,x5,y4,y3)(x2,x5,y5,y3)(x3,x4,y3)(x3,x4,y4,y3)(x3,x4,y5,y3)(x3,x5,y3)(x3,x5,y4,y3)(x3,x5,y5,y3)(x4,x5,y3)(x4,x5,y4,y3)(x4,x5,y5,y3)(x1,x2,y4)(x1,x2,y5,y4)(x1,x3,y4)(x1,x3,y5,y4)(x1,x4,y4)(x1,x4,y5,y4)(x1,x5,y4)(x1,x5,y5,y4)(x2,x3,y4)(x2,x3,y5,y4)(x2,x4,y4)(x2,x4,y5,y4)(x2,x5,y4)(x2,x5,y5,y4)(x3,x4,y4)(x3,x4,y5,y4)(x3,x5,y4)(x3,x5,y5,y4)(x4,x5,y4)(x4,x5,y5,y4)"
     ]
    }
   ],
   "source": [
    "display(order())"
   ]
  },
  {
   "cell_type": "code",
   "execution_count": 18,
   "id": "75095e09-4cae-4699-8bf6-491a5b2791a8",
   "metadata": {},
   "outputs": [],
   "source": [
    "def finalOrder():\n",
    "    L0 = order()\n",
    "    L = []\n",
    "    L.append(())\n",
    "    for i in L0:\n",
    "        j = list(i)\n",
    "        for idx, val in enumerate(j):\n",
    "            if val[0] == \"x\":\n",
    "                j[idx] = int(val[1]) - 1\n",
    "            else:\n",
    "                j[idx] = int(val[1]) + 4\n",
    "        L.append(tuple(j))\n",
    "    L.append(())\n",
    "    return L"
   ]
  },
  {
   "cell_type": "code",
   "execution_count": 19,
   "id": "986cc1e8-7f7b-4483-9a65-db0eb21286d2",
   "metadata": {
    "scrolled": true
   },
   "outputs": [
    {
     "data": {
      "text/plain": [
       "[(),\n",
       " (6, 5),\n",
       " (7, 5),\n",
       " (8, 5),\n",
       " (9, 5),\n",
       " (7, 6),\n",
       " (8, 6),\n",
       " (9, 6),\n",
       " (8, 7),\n",
       " (9, 7),\n",
       " (9, 8),\n",
       " (1, 0),\n",
       " (1, 9, 0),\n",
       " (2, 0),\n",
       " (2, 9, 0),\n",
       " (3, 0),\n",
       " (3, 9, 0),\n",
       " (4, 0),\n",
       " (4, 9, 0),\n",
       " (2, 1),\n",
       " (2, 9, 1),\n",
       " (3, 1),\n",
       " (3, 9, 1),\n",
       " (4, 1),\n",
       " (4, 9, 1),\n",
       " (3, 2),\n",
       " (3, 9, 2),\n",
       " (4, 2),\n",
       " (4, 9, 2),\n",
       " (4, 3),\n",
       " (4, 9, 3),\n",
       " (5, 0),\n",
       " (5, 6, 0),\n",
       " (5, 7, 0),\n",
       " (5, 8, 0),\n",
       " (5, 9, 0),\n",
       " (6, 0),\n",
       " (6, 7, 0),\n",
       " (6, 8, 0),\n",
       " (6, 9, 0),\n",
       " (7, 0),\n",
       " (7, 8, 0),\n",
       " (7, 9, 0),\n",
       " (8, 0),\n",
       " (8, 9, 0),\n",
       " (5, 1),\n",
       " (5, 6, 1),\n",
       " (5, 7, 1),\n",
       " (5, 8, 1),\n",
       " (5, 9, 1),\n",
       " (6, 1),\n",
       " (6, 7, 1),\n",
       " (6, 8, 1),\n",
       " (6, 9, 1),\n",
       " (7, 1),\n",
       " (7, 8, 1),\n",
       " (7, 9, 1),\n",
       " (8, 1),\n",
       " (8, 9, 1),\n",
       " (5, 2),\n",
       " (5, 6, 2),\n",
       " (5, 7, 2),\n",
       " (5, 8, 2),\n",
       " (5, 9, 2),\n",
       " (6, 2),\n",
       " (6, 7, 2),\n",
       " (6, 8, 2),\n",
       " (6, 9, 2),\n",
       " (7, 2),\n",
       " (7, 8, 2),\n",
       " (7, 9, 2),\n",
       " (8, 2),\n",
       " (8, 9, 2),\n",
       " (5, 3),\n",
       " (5, 6, 3),\n",
       " (5, 7, 3),\n",
       " (5, 8, 3),\n",
       " (5, 9, 3),\n",
       " (6, 3),\n",
       " (6, 7, 3),\n",
       " (6, 8, 3),\n",
       " (6, 9, 3),\n",
       " (7, 3),\n",
       " (7, 8, 3),\n",
       " (7, 9, 3),\n",
       " (8, 3),\n",
       " (8, 9, 3),\n",
       " (5, 4),\n",
       " (5, 6, 4),\n",
       " (5, 7, 4),\n",
       " (5, 8, 4),\n",
       " (5, 9, 4),\n",
       " (6, 4),\n",
       " (6, 7, 4),\n",
       " (6, 8, 4),\n",
       " (6, 9, 4),\n",
       " (7, 4),\n",
       " (7, 8, 4),\n",
       " (7, 9, 4),\n",
       " (8, 4),\n",
       " (8, 9, 4),\n",
       " (9, 0),\n",
       " (9, 1),\n",
       " (9, 2),\n",
       " (9, 3),\n",
       " (9, 4),\n",
       " (0, 1, 5),\n",
       " (0, 1, 6, 5),\n",
       " (0, 1, 7, 5),\n",
       " (0, 1, 8, 5),\n",
       " (0, 1, 9, 5),\n",
       " (0, 2, 5),\n",
       " (0, 2, 6, 5),\n",
       " (0, 2, 7, 5),\n",
       " (0, 2, 8, 5),\n",
       " (0, 2, 9, 5),\n",
       " (0, 3, 5),\n",
       " (0, 3, 6, 5),\n",
       " (0, 3, 7, 5),\n",
       " (0, 3, 8, 5),\n",
       " (0, 3, 9, 5),\n",
       " (0, 4, 5),\n",
       " (0, 4, 6, 5),\n",
       " (0, 4, 7, 5),\n",
       " (0, 4, 8, 5),\n",
       " (0, 4, 9, 5),\n",
       " (1, 2, 5),\n",
       " (1, 2, 6, 5),\n",
       " (1, 2, 7, 5),\n",
       " (1, 2, 8, 5),\n",
       " (1, 2, 9, 5),\n",
       " (1, 3, 5),\n",
       " (1, 3, 6, 5),\n",
       " (1, 3, 7, 5),\n",
       " (1, 3, 8, 5),\n",
       " (1, 3, 9, 5),\n",
       " (1, 4, 5),\n",
       " (1, 4, 6, 5),\n",
       " (1, 4, 7, 5),\n",
       " (1, 4, 8, 5),\n",
       " (1, 4, 9, 5),\n",
       " (2, 3, 5),\n",
       " (2, 3, 6, 5),\n",
       " (2, 3, 7, 5),\n",
       " (2, 3, 8, 5),\n",
       " (2, 3, 9, 5),\n",
       " (2, 4, 5),\n",
       " (2, 4, 6, 5),\n",
       " (2, 4, 7, 5),\n",
       " (2, 4, 8, 5),\n",
       " (2, 4, 9, 5),\n",
       " (3, 4, 5),\n",
       " (3, 4, 6, 5),\n",
       " (3, 4, 7, 5),\n",
       " (3, 4, 8, 5),\n",
       " (3, 4, 9, 5),\n",
       " (0, 1, 6),\n",
       " (0, 1, 7, 6),\n",
       " (0, 1, 8, 6),\n",
       " (0, 1, 9, 6),\n",
       " (0, 2, 6),\n",
       " (0, 2, 7, 6),\n",
       " (0, 2, 8, 6),\n",
       " (0, 2, 9, 6),\n",
       " (0, 3, 6),\n",
       " (0, 3, 7, 6),\n",
       " (0, 3, 8, 6),\n",
       " (0, 3, 9, 6),\n",
       " (0, 4, 6),\n",
       " (0, 4, 7, 6),\n",
       " (0, 4, 8, 6),\n",
       " (0, 4, 9, 6),\n",
       " (1, 2, 6),\n",
       " (1, 2, 7, 6),\n",
       " (1, 2, 8, 6),\n",
       " (1, 2, 9, 6),\n",
       " (1, 3, 6),\n",
       " (1, 3, 7, 6),\n",
       " (1, 3, 8, 6),\n",
       " (1, 3, 9, 6),\n",
       " (1, 4, 6),\n",
       " (1, 4, 7, 6),\n",
       " (1, 4, 8, 6),\n",
       " (1, 4, 9, 6),\n",
       " (2, 3, 6),\n",
       " (2, 3, 7, 6),\n",
       " (2, 3, 8, 6),\n",
       " (2, 3, 9, 6),\n",
       " (2, 4, 6),\n",
       " (2, 4, 7, 6),\n",
       " (2, 4, 8, 6),\n",
       " (2, 4, 9, 6),\n",
       " (3, 4, 6),\n",
       " (3, 4, 7, 6),\n",
       " (3, 4, 8, 6),\n",
       " (3, 4, 9, 6),\n",
       " (0, 1, 7),\n",
       " (0, 1, 8, 7),\n",
       " (0, 1, 9, 7),\n",
       " (0, 2, 7),\n",
       " (0, 2, 8, 7),\n",
       " (0, 2, 9, 7),\n",
       " (0, 3, 7),\n",
       " (0, 3, 8, 7),\n",
       " (0, 3, 9, 7),\n",
       " (0, 4, 7),\n",
       " (0, 4, 8, 7),\n",
       " (0, 4, 9, 7),\n",
       " (1, 2, 7),\n",
       " (1, 2, 8, 7),\n",
       " (1, 2, 9, 7),\n",
       " (1, 3, 7),\n",
       " (1, 3, 8, 7),\n",
       " (1, 3, 9, 7),\n",
       " (1, 4, 7),\n",
       " (1, 4, 8, 7),\n",
       " (1, 4, 9, 7),\n",
       " (2, 3, 7),\n",
       " (2, 3, 8, 7),\n",
       " (2, 3, 9, 7),\n",
       " (2, 4, 7),\n",
       " (2, 4, 8, 7),\n",
       " (2, 4, 9, 7),\n",
       " (3, 4, 7),\n",
       " (3, 4, 8, 7),\n",
       " (3, 4, 9, 7),\n",
       " (0, 1, 8),\n",
       " (0, 1, 9, 8),\n",
       " (0, 2, 8),\n",
       " (0, 2, 9, 8),\n",
       " (0, 3, 8),\n",
       " (0, 3, 9, 8),\n",
       " (0, 4, 8),\n",
       " (0, 4, 9, 8),\n",
       " (1, 2, 8),\n",
       " (1, 2, 9, 8),\n",
       " (1, 3, 8),\n",
       " (1, 3, 9, 8),\n",
       " (1, 4, 8),\n",
       " (1, 4, 9, 8),\n",
       " (2, 3, 8),\n",
       " (2, 3, 9, 8),\n",
       " (2, 4, 8),\n",
       " (2, 4, 9, 8),\n",
       " (3, 4, 8),\n",
       " (3, 4, 9, 8),\n",
       " ()]"
      ]
     },
     "execution_count": 19,
     "metadata": {},
     "output_type": "execute_result"
    }
   ],
   "source": [
    "finalOrder()"
   ]
  },
  {
   "cell_type": "code",
   "execution_count": null,
   "id": "50bd0792-8931-49a5-a2bb-5d5fd1484042",
   "metadata": {},
   "outputs": [],
   "source": []
  },
  {
   "cell_type": "code",
   "execution_count": null,
   "id": "8f458ada-899e-482e-a1c2-e5863e8dbf3f",
   "metadata": {},
   "outputs": [],
   "source": []
  },
  {
   "cell_type": "code",
   "execution_count": null,
   "id": "d970d2e5-5176-4df7-9996-f0144e42d8d2",
   "metadata": {},
   "outputs": [],
   "source": []
  },
  {
   "cell_type": "code",
   "execution_count": 20,
   "id": "f80c175e-5fd7-4a8e-ada1-4c3652bf8f71",
   "metadata": {},
   "outputs": [
    {
     "data": {
      "text/plain": [
       "[1, 2, 3]"
      ]
     },
     "execution_count": 20,
     "metadata": {},
     "output_type": "execute_result"
    }
   ],
   "source": [
    "a = (1, 2, 3)\n",
    "b = list(a)\n",
    "b"
   ]
  },
  {
   "cell_type": "code",
   "execution_count": null,
   "id": "cd2a1245-9999-42a1-a1ef-5bf425604201",
   "metadata": {},
   "outputs": [],
   "source": []
  },
  {
   "cell_type": "code",
   "execution_count": null,
   "id": "48f863ab-b2a7-42f9-870e-1f4234b7d746",
   "metadata": {},
   "outputs": [],
   "source": []
  }
 ],
 "metadata": {
  "kernelspec": {
   "display_name": "Python 3 (ipykernel)",
   "language": "python",
   "name": "python3"
  },
  "language_info": {
   "codemirror_mode": {
    "name": "ipython",
    "version": 3
   },
   "file_extension": ".py",
   "mimetype": "text/x-python",
   "name": "python",
   "nbconvert_exporter": "python",
   "pygments_lexer": "ipython3",
   "version": "3.11.9"
  }
 },
 "nbformat": 4,
 "nbformat_minor": 5
}
