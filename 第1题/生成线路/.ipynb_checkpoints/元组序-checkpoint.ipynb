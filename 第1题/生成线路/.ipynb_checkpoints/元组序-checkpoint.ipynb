{
 "cells": [
  {
   "cell_type": "code",
   "execution_count": 47,
   "id": "c242468f-56a2-481d-9475-9b362e059e89",
   "metadata": {},
   "outputs": [],
   "source": [
    "def sumCNOT(a):\n",
    "    re = 0\n",
    "    for i in a:\n",
    "        re += (len(i) - 1) * 2\n",
    "    return re"
   ]
  },
  {
   "cell_type": "code",
   "execution_count": 42,
   "id": "b59ebfc4-186f-4f3d-91ec-405ab7915d67",
   "metadata": {},
   "outputs": [],
   "source": [
    "def delCNOT(a):\n",
    "    re = 0\n",
    "    for i in range(len(a) - 1):\n",
    "        x = a[i - 1]\n",
    "        y = a[i]\n",
    "        if x[-1] != y[-1]:\n",
    "            continue\n",
    "        for j in range(len(x) - 1):\n",
    "            if x[j] == y[j]:\n",
    "                re += 1\n",
    "    return re * 2"
   ]
  },
  {
   "cell_type": "code",
   "execution_count": 45,
   "id": "4082c381-29e9-4aaa-a6ae-38566c1ed363",
   "metadata": {},
   "outputs": [],
   "source": [
    "def display(a):\n",
    "    if isinstance(a, list):\n",
    "        print(\n",
    "            \"总长度：\",\n",
    "            len(a),\n",
    "            \"\\t原本的CNOT门数：\",\n",
    "            sumCNOT(a),\n",
    "            \"\\t减少的CNOT门数：\",\n",
    "            delCNOT(a),\n",
    "        )\n",
    "        for i in a:\n",
    "            display(i)\n",
    "        return\n",
    "    print(\"(\", end=\"\")\n",
    "    for i in range(len(a) - 1):\n",
    "        print(a[i], \",\", end=\"\", sep=\"\")\n",
    "    print(a[-1], \")\", end=\"\", sep=\"\")"
   ]
  },
  {
   "cell_type": "code",
   "execution_count": 30,
   "id": "1d58faaa-e96c-4229-b721-5af6d014f97e",
   "metadata": {},
   "outputs": [],
   "source": [
    "def order4():\n",
    "    L = []\n",
    "    # (xi,xj,yk,yl)\n",
    "    for l in range(1, 6):\n",
    "        for i in range(1, 6):\n",
    "            for j in range(i + 1, 6):\n",
    "                for k in range(l + 1, 6):\n",
    "                    L.append((\"x\" + str(i), \"x\" + str(j), \"y\" + str(k), \"y\" + str(l)))\n",
    "    return L"
   ]
  },
  {
   "cell_type": "code",
   "execution_count": 48,
   "id": "b0a2e4f1-cbbf-4672-a579-d596ad72885f",
   "metadata": {},
   "outputs": [
    {
     "name": "stdout",
     "output_type": "stream",
     "text": [
      "总长度： 100 \t原本的CNOT门数： 600 \t减少的CNOT门数： 310\n",
      "(x1,x2,y2,y1)(x1,x2,y3,y1)(x1,x2,y4,y1)(x1,x2,y5,y1)(x1,x3,y2,y1)(x1,x3,y3,y1)(x1,x3,y4,y1)(x1,x3,y5,y1)(x1,x4,y2,y1)(x1,x4,y3,y1)(x1,x4,y4,y1)(x1,x4,y5,y1)(x1,x5,y2,y1)(x1,x5,y3,y1)(x1,x5,y4,y1)(x1,x5,y5,y1)(x2,x3,y2,y1)(x2,x3,y3,y1)(x2,x3,y4,y1)(x2,x3,y5,y1)(x2,x4,y2,y1)(x2,x4,y3,y1)(x2,x4,y4,y1)(x2,x4,y5,y1)(x2,x5,y2,y1)(x2,x5,y3,y1)(x2,x5,y4,y1)(x2,x5,y5,y1)(x3,x4,y2,y1)(x3,x4,y3,y1)(x3,x4,y4,y1)(x3,x4,y5,y1)(x3,x5,y2,y1)(x3,x5,y3,y1)(x3,x5,y4,y1)(x3,x5,y5,y1)(x4,x5,y2,y1)(x4,x5,y3,y1)(x4,x5,y4,y1)(x4,x5,y5,y1)(x1,x2,y3,y2)(x1,x2,y4,y2)(x1,x2,y5,y2)(x1,x3,y3,y2)(x1,x3,y4,y2)(x1,x3,y5,y2)(x1,x4,y3,y2)(x1,x4,y4,y2)(x1,x4,y5,y2)(x1,x5,y3,y2)(x1,x5,y4,y2)(x1,x5,y5,y2)(x2,x3,y3,y2)(x2,x3,y4,y2)(x2,x3,y5,y2)(x2,x4,y3,y2)(x2,x4,y4,y2)(x2,x4,y5,y2)(x2,x5,y3,y2)(x2,x5,y4,y2)(x2,x5,y5,y2)(x3,x4,y3,y2)(x3,x4,y4,y2)(x3,x4,y5,y2)(x3,x5,y3,y2)(x3,x5,y4,y2)(x3,x5,y5,y2)(x4,x5,y3,y2)(x4,x5,y4,y2)(x4,x5,y5,y2)(x1,x2,y4,y3)(x1,x2,y5,y3)(x1,x3,y4,y3)(x1,x3,y5,y3)(x1,x4,y4,y3)(x1,x4,y5,y3)(x1,x5,y4,y3)(x1,x5,y5,y3)(x2,x3,y4,y3)(x2,x3,y5,y3)(x2,x4,y4,y3)(x2,x4,y5,y3)(x2,x5,y4,y3)(x2,x5,y5,y3)(x3,x4,y4,y3)(x3,x4,y5,y3)(x3,x5,y4,y3)(x3,x5,y5,y3)(x4,x5,y4,y3)(x4,x5,y5,y3)(x1,x2,y5,y4)(x1,x3,y5,y4)(x1,x4,y5,y4)(x1,x5,y5,y4)(x2,x3,y5,y4)(x2,x4,y5,y4)(x2,x5,y5,y4)(x3,x4,y5,y4)(x3,x5,y5,y4)(x4,x5,y5,y4)"
     ]
    }
   ],
   "source": [
    "display(order4())"
   ]
  },
  {
   "cell_type": "code",
   "execution_count": 57,
   "id": "bc4e27a9-bb5b-4978-b0d8-3e5307c222bb",
   "metadata": {},
   "outputs": [],
   "source": [
    "def order31():\n",
    "    L0 = order4()\n",
    "    L = [(\"x1\", \"x2\", \"y1\")]\n",
    "    for i in L0:\n",
    "        if not (i[0] == L[-1][0] and i[1] == L[-1][1] and i[-1] == L[-1][-1]):\n",
    "            L.append((i[0], i[1], i[-1]))\n",
    "        L.append(i)\n",
    "    return L"
   ]
  },
  {
   "cell_type": "code",
   "execution_count": 58,
   "id": "3a176cd4-2068-4a4e-a651-d5f8b1c9288d",
   "metadata": {},
   "outputs": [
    {
     "name": "stdout",
     "output_type": "stream",
     "text": [
      "总长度： 140 \t原本的CNOT门数： 760 \t减少的CNOT门数： 452\n",
      "(x1,x2,y1)(x1,x2,y2,y1)(x1,x2,y3,y1)(x1,x2,y4,y1)(x1,x2,y5,y1)(x1,x3,y1)(x1,x3,y2,y1)(x1,x3,y3,y1)(x1,x3,y4,y1)(x1,x3,y5,y1)(x1,x4,y1)(x1,x4,y2,y1)(x1,x4,y3,y1)(x1,x4,y4,y1)(x1,x4,y5,y1)(x1,x5,y1)(x1,x5,y2,y1)(x1,x5,y3,y1)(x1,x5,y4,y1)(x1,x5,y5,y1)(x2,x3,y1)(x2,x3,y2,y1)(x2,x3,y3,y1)(x2,x3,y4,y1)(x2,x3,y5,y1)(x2,x4,y1)(x2,x4,y2,y1)(x2,x4,y3,y1)(x2,x4,y4,y1)(x2,x4,y5,y1)(x2,x5,y1)(x2,x5,y2,y1)(x2,x5,y3,y1)(x2,x5,y4,y1)(x2,x5,y5,y1)(x3,x4,y1)(x3,x4,y2,y1)(x3,x4,y3,y1)(x3,x4,y4,y1)(x3,x4,y5,y1)(x3,x5,y1)(x3,x5,y2,y1)(x3,x5,y3,y1)(x3,x5,y4,y1)(x3,x5,y5,y1)(x4,x5,y1)(x4,x5,y2,y1)(x4,x5,y3,y1)(x4,x5,y4,y1)(x4,x5,y5,y1)(x1,x2,y2)(x1,x2,y3,y2)(x1,x2,y4,y2)(x1,x2,y5,y2)(x1,x3,y2)(x1,x3,y3,y2)(x1,x3,y4,y2)(x1,x3,y5,y2)(x1,x4,y2)(x1,x4,y3,y2)(x1,x4,y4,y2)(x1,x4,y5,y2)(x1,x5,y2)(x1,x5,y3,y2)(x1,x5,y4,y2)(x1,x5,y5,y2)(x2,x3,y2)(x2,x3,y3,y2)(x2,x3,y4,y2)(x2,x3,y5,y2)(x2,x4,y2)(x2,x4,y3,y2)(x2,x4,y4,y2)(x2,x4,y5,y2)(x2,x5,y2)(x2,x5,y3,y2)(x2,x5,y4,y2)(x2,x5,y5,y2)(x3,x4,y2)(x3,x4,y3,y2)(x3,x4,y4,y2)(x3,x4,y5,y2)(x3,x5,y2)(x3,x5,y3,y2)(x3,x5,y4,y2)(x3,x5,y5,y2)(x4,x5,y2)(x4,x5,y3,y2)(x4,x5,y4,y2)(x4,x5,y5,y2)(x1,x2,y3)(x1,x2,y4,y3)(x1,x2,y5,y3)(x1,x3,y3)(x1,x3,y4,y3)(x1,x3,y5,y3)(x1,x4,y3)(x1,x4,y4,y3)(x1,x4,y5,y3)(x1,x5,y3)(x1,x5,y4,y3)(x1,x5,y5,y3)(x2,x3,y3)(x2,x3,y4,y3)(x2,x3,y5,y3)(x2,x4,y3)(x2,x4,y4,y3)(x2,x4,y5,y3)(x2,x5,y3)(x2,x5,y4,y3)(x2,x5,y5,y3)(x3,x4,y3)(x3,x4,y4,y3)(x3,x4,y5,y3)(x3,x5,y3)(x3,x5,y4,y3)(x3,x5,y5,y3)(x4,x5,y3)(x4,x5,y4,y3)(x4,x5,y5,y3)(x1,x2,y4)(x1,x2,y5,y4)(x1,x3,y4)(x1,x3,y5,y4)(x1,x4,y4)(x1,x4,y5,y4)(x1,x5,y4)(x1,x5,y5,y4)(x2,x3,y4)(x2,x3,y5,y4)(x2,x4,y4)(x2,x4,y5,y4)(x2,x5,y4)(x2,x5,y5,y4)(x3,x4,y4)(x3,x4,y5,y4)(x3,x5,y4)(x3,x5,y5,y4)(x4,x5,y4)(x4,x5,y5,y4)"
     ]
    }
   ],
   "source": [
    "display(order31())"
   ]
  },
  {
   "cell_type": "code",
   "execution_count": 63,
   "id": "3c763c6f-d75e-4600-9f1a-ff83a7c7c31a",
   "metadata": {},
   "outputs": [],
   "source": [
    "def order32():\n",
    "    L = []\n",
    "    # (yi,yj,xk):\n",
    "    for k in range(1, 6):\n",
    "        for i in range(5, 0, -1):\n",
    "            if i == 5:  # (y5,xj,xk)\n",
    "                for j in range(k + 1, 6):\n",
    "                    L.append((\"y5\", \"x\" + str(j), \"x\" + str(k)))\n",
    "            for j in range(i - 1, 0, -1):\n",
    "                L.append((\"y\" + str(i), \"y\" + str(j), \"x\" + str(k)))\n",
    "    return L"
   ]
  },
  {
   "cell_type": "code",
   "execution_count": 64,
   "id": "67496573-589d-4a0a-9b7c-7e7aa5b99a9b",
   "metadata": {},
   "outputs": [
    {
     "name": "stdout",
     "output_type": "stream",
     "text": [
      "总长度： 60 \t原本的CNOT门数： 240 \t减少的CNOT门数： 88\n",
      "(y5,x2,x1)(y5,x3,x1)(y5,x4,x1)(y5,x5,x1)(y5,y4,x1)(y5,y3,x1)(y5,y2,x1)(y5,y1,x1)(y4,y3,x1)(y4,y2,x1)(y4,y1,x1)(y3,y2,x1)(y3,y1,x1)(y2,y1,x1)(y5,x3,x2)(y5,x4,x2)(y5,x5,x2)(y5,y4,x2)(y5,y3,x2)(y5,y2,x2)(y5,y1,x2)(y4,y3,x2)(y4,y2,x2)(y4,y1,x2)(y3,y2,x2)(y3,y1,x2)(y2,y1,x2)(y5,x4,x3)(y5,x5,x3)(y5,y4,x3)(y5,y3,x3)(y5,y2,x3)(y5,y1,x3)(y4,y3,x3)(y4,y2,x3)(y4,y1,x3)(y3,y2,x3)(y3,y1,x3)(y2,y1,x3)(y5,x5,x4)(y5,y4,x4)(y5,y3,x4)(y5,y2,x4)(y5,y1,x4)(y4,y3,x4)(y4,y2,x4)(y4,y1,x4)(y3,y2,x4)(y3,y1,x4)(y2,y1,x4)(y5,y4,x5)(y5,y3,x5)(y5,y2,x5)(y5,y1,x5)(y4,y3,x5)(y4,y2,x5)(y4,y1,x5)(y3,y2,x5)(y3,y1,x5)(y2,y1,x5)"
     ]
    }
   ],
   "source": [
    "display(order32())"
   ]
  }
 ],
 "metadata": {
  "kernelspec": {
   "display_name": "Python 3 (ipykernel)",
   "language": "python",
   "name": "python3"
  },
  "language_info": {
   "codemirror_mode": {
    "name": "ipython",
    "version": 3
   },
   "file_extension": ".py",
   "mimetype": "text/x-python",
   "name": "python",
   "nbconvert_exporter": "python",
   "pygments_lexer": "ipython3",
   "version": "3.11.9"
  }
 },
 "nbformat": 4,
 "nbformat_minor": 5
}
