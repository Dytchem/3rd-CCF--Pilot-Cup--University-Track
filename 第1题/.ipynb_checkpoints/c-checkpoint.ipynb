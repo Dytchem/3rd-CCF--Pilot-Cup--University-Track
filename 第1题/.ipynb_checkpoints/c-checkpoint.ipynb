{
 "cells": [
  {
   "cell_type": "code",
   "execution_count": 1,
   "id": "8693d7f4-b75c-4444-9bf7-f1bf48fdca7f",
   "metadata": {},
   "outputs": [],
   "source": [
    "import matplotlib.pyplot as plt\n",
    "import numpy as np\n",
    "from pyqpanda import *\n",
    "from scipy.stats import unitary_group\n",
    "\n",
    "%matplotlib inline\n",
    "\n",
    "\n",
    "def draw(prog):\n",
    "    draw_qprog(prog, \"pic\", filename=\"a.png\")\n",
    "    plt.imshow(plt.imread(\"a.png\"))\n",
    "    plt.axis(\"off\")\n",
    "    plt.show()"
   ]
  },
  {
   "cell_type": "code",
   "execution_count": 2,
   "id": "b306a65d-2417-49a7-b79c-bb9f763bd7d4",
   "metadata": {},
   "outputs": [],
   "source": [
    "np.random.seed(0)\n",
    "a = 1\n",
    "b = 1\n",
    "c = 100\n",
    "M = 5\n",
    "N = 5\n",
    "m = 3\n",
    "n = 2\n",
    "A = 3\n",
    "B = 3\n",
    "alpha = abs(np.random.randn(M + 1, N + 1))\n",
    "beta = abs(np.random.randn(M + 1, N + 1))\n",
    "betai = 1\n",
    "gammai = 1"
   ]
  },
  {
   "cell_type": "code",
   "execution_count": 3,
   "id": "3a2ae56e-ac62-45e6-b2a4-04007751b8f8",
   "metadata": {},
   "outputs": [],
   "source": [
    "def getH(*args):\n",
    "    re = PauliOperator(\"\", 1)\n",
    "    for i in args:\n",
    "        re *= PauliOperator({\"\": 0.5, \"Z\" + str(i): -0.5})\n",
    "    return re"
   ]
  },
  {
   "cell_type": "code",
   "execution_count": 4,
   "id": "ddaf9d2a-79c9-451e-a294-7a554235e40f",
   "metadata": {},
   "outputs": [],
   "source": [
    "def getHp(a, b, c, M, N, m, n, A, B, alpha, beta):\n",
    "    re = PauliOperator()\n",
    "    for i in range(1, M + 1):\n",
    "        for j in range(1, N + 1):\n",
    "            re += (-2 * a * A * alpha[i, j] - 2 * b * B * beta[i, j]) * getH(\n",
    "                i - 1, j - 1 + M\n",
    "            )\n",
    "            for k in range(1, M + 1):\n",
    "                for l in range(1, N + 1):\n",
    "                    re += (\n",
    "                        a * alpha[i, j] * alpha[k, l] + b * beta[i, j] * beta[k, l]\n",
    "                    ) * getH(i - 1, j - 1 + M, k - 1, l - 1 + M)\n",
    "    for i in range(1, M + 1):\n",
    "        re += (-2 * c * m) * getH(i - 1)\n",
    "        for k in range(1, M + 1):\n",
    "            re += c * getH(i - 1, k - 1)\n",
    "    for j in range(N + 1):\n",
    "        re += (-2 * c * n) * getH(j - 1 + M)\n",
    "        for l in range(1, N + 1):\n",
    "            re += c * getH(j - 1 + M, l - 1 + M)\n",
    "    re.reduce_duplicates()\n",
    "    return re"
   ]
  },
  {
   "cell_type": "code",
   "execution_count": 5,
   "id": "d88c44af-459d-42b1-8565-16e209d36211",
   "metadata": {},
   "outputs": [
    {
     "ename": "TypeError",
     "evalue": "'int' object is not subscriptable",
     "output_type": "error",
     "traceback": [
      "\u001b[1;31m---------------------------------------------------------------------------\u001b[0m",
      "\u001b[1;31mTypeError\u001b[0m                                 Traceback (most recent call last)",
      "Cell \u001b[1;32mIn[5], line 1\u001b[0m\n\u001b[1;32m----> 1\u001b[0m Hp \u001b[38;5;241m=\u001b[39m getHp(a, b, c, M, N, m, n, A, B, alpha, beta)\n",
      "Cell \u001b[1;32mIn[4], line 5\u001b[0m, in \u001b[0;36mgetHp\u001b[1;34m(a, b, c, M, N, m, n, A, B, alpha, beta)\u001b[0m\n\u001b[0;32m      3\u001b[0m \u001b[38;5;28;01mfor\u001b[39;00m i \u001b[38;5;129;01min\u001b[39;00m \u001b[38;5;28mrange\u001b[39m(\u001b[38;5;241m1\u001b[39m, M \u001b[38;5;241m+\u001b[39m \u001b[38;5;241m1\u001b[39m):\n\u001b[0;32m      4\u001b[0m     \u001b[38;5;28;01mfor\u001b[39;00m j \u001b[38;5;129;01min\u001b[39;00m \u001b[38;5;28mrange\u001b[39m(\u001b[38;5;241m1\u001b[39m, N \u001b[38;5;241m+\u001b[39m \u001b[38;5;241m1\u001b[39m):\n\u001b[1;32m----> 5\u001b[0m         re \u001b[38;5;241m+\u001b[39m\u001b[38;5;241m=\u001b[39m (\u001b[38;5;241m-\u001b[39m\u001b[38;5;241m2\u001b[39m \u001b[38;5;241m*\u001b[39m a \u001b[38;5;241m*\u001b[39m A \u001b[38;5;241m*\u001b[39m alpha[i, j] \u001b[38;5;241m-\u001b[39m \u001b[38;5;241m2\u001b[39m \u001b[38;5;241m*\u001b[39m b \u001b[38;5;241m*\u001b[39m B \u001b[38;5;241m*\u001b[39m beta[i, j]) \u001b[38;5;241m*\u001b[39m getH(\n\u001b[0;32m      6\u001b[0m             i \u001b[38;5;241m-\u001b[39m \u001b[38;5;241m1\u001b[39m, j \u001b[38;5;241m-\u001b[39m \u001b[38;5;241m1\u001b[39m \u001b[38;5;241m+\u001b[39m M\n\u001b[0;32m      7\u001b[0m         )\n\u001b[0;32m      8\u001b[0m         \u001b[38;5;28;01mfor\u001b[39;00m k \u001b[38;5;129;01min\u001b[39;00m \u001b[38;5;28mrange\u001b[39m(\u001b[38;5;241m1\u001b[39m, M \u001b[38;5;241m+\u001b[39m \u001b[38;5;241m1\u001b[39m):\n\u001b[0;32m      9\u001b[0m             \u001b[38;5;28;01mfor\u001b[39;00m l \u001b[38;5;129;01min\u001b[39;00m \u001b[38;5;28mrange\u001b[39m(\u001b[38;5;241m1\u001b[39m, N \u001b[38;5;241m+\u001b[39m \u001b[38;5;241m1\u001b[39m):\n",
      "\u001b[1;31mTypeError\u001b[0m: 'int' object is not subscriptable"
     ]
    }
   ],
   "source": [
    "Hp = getHp(a, b, c, M, N, m, n, A, B, alpha, beta)"
   ]
  },
  {
   "cell_type": "code",
   "execution_count": null,
   "id": "fb171be0-7cd4-4df3-a919-08eb34ececc1",
   "metadata": {},
   "outputs": [],
   "source": []
  },
  {
   "cell_type": "code",
   "execution_count": null,
   "id": "cc725a66-d323-4746-b9ce-503d36d85964",
   "metadata": {},
   "outputs": [],
   "source": [
    "L = Hp.to_hamiltonian(1)"
   ]
  },
  {
   "cell_type": "code",
   "execution_count": null,
   "id": "6caa859d-0810-4d45-b519-1af637062a2b",
   "metadata": {},
   "outputs": [],
   "source": [
    "len(L)"
   ]
  },
  {
   "cell_type": "code",
   "execution_count": null,
   "id": "3882d6d3-0398-4627-b40a-4b952436eae9",
   "metadata": {
    "scrolled": true
   },
   "outputs": [],
   "source": [
    "L"
   ]
  },
  {
   "cell_type": "code",
   "execution_count": null,
   "id": "917aafd3-11f3-47e6-a1d3-1cde9a1a2773",
   "metadata": {},
   "outputs": [],
   "source": []
  },
  {
   "cell_type": "code",
   "execution_count": null,
   "id": "826697ac-4c37-46ec-9f53-e47f3b268057",
   "metadata": {},
   "outputs": [],
   "source": [
    "cnt = [0] * 5\n",
    "for i in L:\n",
    "    cnt[len(i[0])] += 1\n",
    "print(\"不同数量乘积项的数量：\")\n",
    "for i, v in enumerate(cnt):\n",
    "    print(i, \" :\\t\", cnt[i])"
   ]
  },
  {
   "cell_type": "code",
   "execution_count": null,
   "id": "16cc84af-813d-47a4-8aba-476f2fb19e33",
   "metadata": {},
   "outputs": [],
   "source": [
    "print(\"U3门数量：\\t\", 10 + 10 + 45 + 100 + 100)\n",
    "print(\"CNOT门数量：\\t\", 45 * 2 + 100 * 4 + 100 * 6)"
   ]
  },
  {
   "cell_type": "code",
   "execution_count": null,
   "id": "304c32d6-c021-4898-b4df-cd3518b92820",
   "metadata": {},
   "outputs": [],
   "source": []
  },
  {
   "cell_type": "code",
   "execution_count": null,
   "id": "43b2bfde-0594-4529-870e-75342345b3d2",
   "metadata": {},
   "outputs": [],
   "source": [
    "a = PauliOperator()"
   ]
  },
  {
   "cell_type": "code",
   "execution_count": null,
   "id": "849f8e8b-f1ac-4850-9ea2-0486cefd900f",
   "metadata": {},
   "outputs": [],
   "source": [
    "a += PauliOperator({\"Z0\": 1, \"Z1\": 2})"
   ]
  },
  {
   "cell_type": "code",
   "execution_count": null,
   "id": "d765ecdb-0dfb-4a60-8daf-8698ce5ac683",
   "metadata": {},
   "outputs": [],
   "source": [
    "print(a)"
   ]
  }
 ],
 "metadata": {
  "kernelspec": {
   "display_name": "Python 3 (ipykernel)",
   "language": "python",
   "name": "python3"
  },
  "language_info": {
   "codemirror_mode": {
    "name": "ipython",
    "version": 3
   },
   "file_extension": ".py",
   "mimetype": "text/x-python",
   "name": "python",
   "nbconvert_exporter": "python",
   "pygments_lexer": "ipython3",
   "version": "3.11.9"
  }
 },
 "nbformat": 4,
 "nbformat_minor": 5
}
