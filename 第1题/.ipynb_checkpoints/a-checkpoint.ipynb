{
 "cells": [
  {
   "cell_type": "code",
   "execution_count": null,
   "id": "f2217946-e647-41f4-a623-08aa7438bec0",
   "metadata": {},
   "outputs": [],
   "source": [
    "import matplotlib.pyplot as plt\n",
    "from pyqpanda import *\n",
    "\n",
    "%matplotlib inline\n",
    "\n",
    "\n",
    "def draw(prog):\n",
    "    draw_qprog(prog, \"pic\", filename=\"a.png\")\n",
    "    plt.imshow(plt.imread(\"a.png\"))\n",
    "    plt.axis(\"off\")\n",
    "    plt.show()"
   ]
  },
  {
   "cell_type": "code",
   "execution_count": 10,
   "id": "fcc163d6-4fc7-482b-9983-9bf5b5c14099",
   "metadata": {},
   "outputs": [
    {
     "name": "stdout",
     "output_type": "stream",
     "text": [
      "\n",
      "          ┌─┐         ┌─┐    \n",
      "q_0:  |0>─┤H├ ───■── ─┤M├─── \n",
      "          └─┘ ┌──┴─┐  └╥┘┌─┐ \n",
      "q_1:  |0>──── ┤CNOT├ ──╫─┤M├ \n",
      "              └────┘   ║ └╥┘ \n",
      " c :   / ══════════════╩══╩═\n",
      "                        0  1\n",
      "\n",
      "\n"
     ]
    }
   ],
   "source": [
    "from pyqpanda import *\n",
    "\n",
    "init(QMachineType.CPU)\n",
    "prog = QProg()\n",
    "q = qAlloc_many(2)\n",
    "c = cAlloc_many(2)\n",
    "prog.insert(H(q[0]).dagger())\n",
    "prog.insert(CNOT(q[0], q[1]))\n",
    "prog.insert(measure_all(q, c))\n",
    "# result = run_with_configuration(prog, cbit_list=c, shots=10000)\n",
    "# print(result)\n",
    "# finalize()\n",
    "print(prog)"
   ]
  },
  {
   "cell_type": "code",
   "execution_count": 5,
   "id": "5634a493-9d26-4df8-ab94-2bb6fa721466",
   "metadata": {},
   "outputs": [
    {
     "name": "stdout",
     "output_type": "stream",
     "text": [
      "\n",
      "                               ┌────┐        ┌────┐                    ┌────┐  ┌─┐                        \n",
      "q_0:  |0>────■── ───■── ───■── ┤CNOT├ ────── ┤CNOT├───── ────── ────── ┤CNOT├ ─┤M├───── ───────── ─────── \n",
      "          ┌──┴─┐    │      │   └──┬─┘        └──┬─┘      ┌────┐        └──┬─┘  └╥┼────┐  ┌─┐              \n",
      "q_1:  |0>─┤CNOT├ ───┼── ───┼── ───■── ───■── ───┼────■── ┤CNOT├ ────── ───┼── ──╫┤CNOT├ ─┤M├───── ─────── \n",
      "          └────┘ ┌──┴─┐    │          ┌──┴─┐    │    │   └──┬─┘           │     ║└──┬─┘  └╥┼────┐  ┌─┐    \n",
      "q_2:  |0>─────── ┤CNOT├ ───┼── ────── ┤CNOT├ ───■────┼── ───■── ───■── ───┼── ──╫───┼── ──╫┤CNOT├ ─┤M├─── \n",
      "                 └────┘ ┌──┴─┐        └────┘      ┌──┴─┐        ┌──┴─┐    │     ║   │     ║└──┬─┘  └╥┘┌─┐ \n",
      "q_3:  |0>─────── ────── ┤CNOT├ ────── ────── ─────┤CNOT├ ────── ┤CNOT├ ───■── ──╫───■── ──╫───■── ──╫─┤M├ \n",
      "                        └────┘                    └────┘        └────┘          ║         ║         ║ └╥┘ \n",
      " c :   / ═══════════════════════════════════════════════════════════════════════╩═════════╩═════════╩══╩═\n",
      "                                                                                 0         1         2  3\n",
      "\n",
      "\n",
      "{'0000': 10000}\n"
     ]
    }
   ],
   "source": [
    "import numpy as np\n",
    "from pyqpanda import *\n",
    "\n",
    "init(QMachineType.CPU)\n",
    "prog = QProg()\n",
    "q = qAlloc_many(4)\n",
    "c = cAlloc_many(4)\n",
    "for i in range(4):\n",
    "    for j in range(4):\n",
    "        if i == j:\n",
    "            continue\n",
    "        prog << CNOT(q[i], q[j])\n",
    "\n",
    "prog << measure_all(q, c)\n",
    "print(prog)\n",
    "result = run_with_configuration(prog, cbit_list=c, shots=10000)\n",
    "print(result)"
   ]
  },
  {
   "cell_type": "code",
   "execution_count": 18,
   "id": "93ece2f6-1e27-4e9e-baea-4ac42696a2a6",
   "metadata": {},
   "outputs": [
    {
     "name": "stdout",
     "output_type": "stream",
     "text": [
      "{'000': 0.5000000000000001, '001': 0.5000000000000001, '010': 0.0, '011': 0.0, '100': 0.0, '101': 0.0, '110': 0.0, '111': 0.0}\n",
      "{'000': 0.4999999999999999, '001': 0.4999999999999999, '010': 0.0, '011': 0.0, '100': 0.0, '101': 0.0, '110': 0.0, '111': 0.0}\n"
     ]
    }
   ],
   "source": [
    "qvm = CPUQVM()\n",
    "qvm.init_qvm()\n",
    "qubits = qvm.qAlloc_many(3)\n",
    "prog1 = QProg()\n",
    "prog1 << H(qubits[0]) << CNOT(qubits[1], qubits[2])\n",
    "mat = get_matrix(prog1, True)\n",
    "prog = QProg()\n",
    "prog << QOracle([qubits[0], qubits[1], qubits[2]], mat)\n",
    "\n",
    "res1 = qvm.prob_run_dict(prog1, qubits)\n",
    "res2 = qvm.prob_run_dict(prog, qubits)\n",
    "\n",
    "# 打印测量结果\n",
    "print(res1)\n",
    "print(res2)"
   ]
  },
  {
   "cell_type": "code",
   "execution_count": 25,
   "id": "5fd60720-a30f-4081-b54b-985fd26b1140",
   "metadata": {},
   "outputs": [
    {
     "name": "stdout",
     "output_type": "stream",
     "text": [
      "\n",
      "          ┌─┐    \n",
      "q_0:  |0>─┤H├─── \n",
      "          └─┘    \n",
      "q_1:  |0>────■── \n",
      "          ┌──┴─┐ \n",
      "q_2:  |0>─┤CNOT├ \n",
      "          └────┘ \n",
      " c :   / ═\n",
      "          \n",
      "\n",
      "\n",
      "(0.7071067811865475+0j)\t(0.7071067811865475+0j)\t0j\t\n",
      "0j\t0j\t0j\t\n",
      "0j\t0j\t(0.7071067811865475+0j)\t\n"
     ]
    }
   ],
   "source": [
    "print(prog1)\n",
    "t = 0\n",
    "for i in range(3):\n",
    "    for j in range(3):\n",
    "        print(mat[t], end=\"\\t\")\n",
    "        t += 1\n",
    "    print()"
   ]
  },
  {
   "cell_type": "code",
   "execution_count": 11,
   "id": "0c2d521b-2622-4615-9a6a-f08418ae0b06",
   "metadata": {},
   "outputs": [
    {
     "name": "stdout",
     "output_type": "stream",
     "text": [
      "\n",
      "          ┌─┐                      \n",
      "q_0:  |0>─┤H├ ───■── ────── ────── \n",
      "          └─┘ ┌──┴─┐               \n",
      "q_1:  |0>──── ┤CNOT├ ───■── ────── \n",
      "              └────┘ ┌──┴─┐        \n",
      "q_2:  |0>──── ────── ┤CNOT├ ───■── \n",
      "                     └────┘ ┌──┴─┐ \n",
      "q_3:  |0>──── ────── ────── ┤CNOT├ \n",
      "                            └────┘ \n",
      " c :   / ═\n",
      "          \n",
      "\n",
      "\n"
     ]
    },
    {
     "data": {
      "image/png": "[encoded data removed]",
      "text/plain": [
       "<Figure size 640x480 with 1 Axes>"
      ]
     },
     "metadata": {},
     "output_type": "display_data"
    },
    {
     "name": "stdout",
     "output_type": "stream",
     "text": [
      "{'0000': 499, '1111': 501}\n"
     ]
    }
   ],
   "source": [
    "from pyqpanda import *\n",
    "\n",
    "if __name__ == \"__main__\":\n",
    "\n",
    "    qvm = CPUQVM()\n",
    "    qvm.init_qvm()\n",
    "    qubits = qvm.qAlloc_many(4)\n",
    "    cbits = qvm.cAlloc_many(4)\n",
    "\n",
    "    # 构建量子程序\n",
    "    prog = QProg()\n",
    "    circuit = QCircuit()\n",
    "\n",
    "    (\n",
    "        circuit\n",
    "        << H(qubits[0])\n",
    "        << CNOT(qubits[0], qubits[1])\n",
    "        << CNOT(qubits[1], qubits[2])\n",
    "        << CNOT(qubits[2], qubits[3])\n",
    "    )\n",
    "    print(circuit)\n",
    "\n",
    "    prog << circuit << measure_all(qubits, cbits)\n",
    "    draw_qprog(prog, \"pic\", filename=\"a.png\")\n",
    "    plt.imshow(plt.imread(\"a.png\"))\n",
    "    plt.axis(\"off\")\n",
    "    plt.show()\n",
    "\n",
    "    # 量子程序运行1000次，并返回测量结果\n",
    "    result = qvm.run_with_configuration(prog, cbits, 1000)\n",
    "\n",
    "    # 打印量子态在量子程序多次运行结果中出现的次数\n",
    "    print(result)"
   ]
  },
  {
   "cell_type": "code",
   "execution_count": 28,
   "id": "f0516b58-d6f4-46e1-8e50-4a065f5cb1d0",
   "metadata": {},
   "outputs": [
    {
     "name": "stdout",
     "output_type": "stream",
     "text": [
      "\n",
      "          ┌─┐       ┌─┐              \n",
      "q_0:  |0>─┤H├ X─── ─┤M├───── ─────── \n",
      "          ├─┤ │     └╥┘       ┌─┐    \n",
      "q_1:  |0>─┤X├ X─── ──╫───■── ─┤M├─── \n",
      "          └─┘        ║┌──┴─┐  └╥┘┌─┐ \n",
      "q_2:  |0>──── ──── ──╫┤CNOT├ ──╫─┤M├ \n",
      "          ┌─┐  ┌─┐   ║└────┘   ║ └╥┘ \n",
      "q_3:  |0>─┤H├ ─┤M├ ──╫────── ──╫──╫─ \n",
      "          └─┘  └╥┘   ║         ║  ║  \n",
      " c :   / ═══════╩════╩═════════╩══╩═\n",
      "                 3    0         1  2\n",
      "\n",
      "\n",
      "{'c0': True, 'c1': True, 'c2': True, 'c3': True}\n"
     ]
    }
   ],
   "source": [
    "from pyqpanda import *\n",
    "\n",
    "if __name__ == \"__main__\":\n",
    "\n",
    "    qvm = CPUQVM()\n",
    "    qvm.init_qvm()\n",
    "    qubits = qvm.qAlloc_many(4)\n",
    "    cbits = qvm.cAlloc_many(4)\n",
    "    prog = QProg()\n",
    "\n",
    "    # 构建量子程序\n",
    "    (\n",
    "        prog\n",
    "        << H(qubits[0])\n",
    "        << X(qubits[1])\n",
    "        << iSWAP(qubits[0], qubits[1])\n",
    "        << CNOT(qubits[1], qubits[2])\n",
    "        << H(qubits[3])\n",
    "        << measure_all(qubits, cbits)\n",
    "    )\n",
    "\n",
    "    print(prog)\n",
    "\n",
    "    # 量子程序运行1000次，并返回测量结果\n",
    "    # result = qvm.run_with_configuration(prog, cbits, 1000)\n",
    "    result = qvm.directly_run(prog)\n",
    "\n",
    "    # 打印量子态在量子程序多次运行结果中出现的次数\n",
    "    print(result)"
   ]
  },
  {
   "cell_type": "code",
   "execution_count": 10,
   "id": "ff8645f4-cdc1-459d-8047-b03f0c354502",
   "metadata": {},
   "outputs": [
    {
     "data": {
      "image/png": "[encoded data removed]",
      "text/plain": [
       "<Figure size 640x480 with 1 Axes>"
      ]
     },
     "metadata": {},
     "output_type": "display_data"
    },
    {
     "name": "stdout",
     "output_type": "stream",
     "text": [
      "[(0, 0.5000000000000001), (7, 0.5000000000000001), (1, 0.0), (2, 0.0), (3, 0.0), (4, 0.0), (5, 0.0), (6, 0.0)]\n"
     ]
    }
   ],
   "source": [
    "import matplotlib.pyplot as plt\n",
    "from pyqpanda import *\n",
    "\n",
    "%matplotlib inline\n",
    "\n",
    "if __name__ == \"__main__\":\n",
    "\n",
    "    qvm = CPUQVM()\n",
    "    qvm.init_qvm()\n",
    "    qubits = qvm.qAlloc_many(3)\n",
    "    cbits = qvm.cAlloc_many(3)\n",
    "    cbits[0].set_val(0)\n",
    "    cbits[1].set_val(3)\n",
    "\n",
    "    prog = QProg()\n",
    "    branch_true = QProg()\n",
    "    branch_false = QProg()\n",
    "\n",
    "    # 构建QIf正确分支以及错误分支\n",
    "    branch_true << H(qubits[0]) << H(qubits[1]) << H(qubits[2])\n",
    "    (\n",
    "        branch_false\n",
    "        << H(qubits[0])\n",
    "        << CNOT(qubits[0], qubits[1])\n",
    "        << CNOT(qubits[1], qubits[2])\n",
    "    )\n",
    "\n",
    "    # 构建QIf\n",
    "    qif = QIfProg(cbits[0] > cbits[1], branch_true, branch_false)\n",
    "\n",
    "    # QIf插入到量子程序中\n",
    "    prog << qif\n",
    "\n",
    "    draw_qprog(prog, \"pic\", filename=\"a.png\")\n",
    "    plt.imshow(plt.imread(\"a.png\"))\n",
    "    plt.axis(\"off\")\n",
    "    plt.show()\n",
    "\n",
    "    # 概率测量，并返回目标量子比特的概率测量结果，下标为十进制\n",
    "    result = qvm.prob_run_tuple_list(prog, qubits, -1)\n",
    "\n",
    "    # 打印概率测量结果\n",
    "    print(result)"
   ]
  },
  {
   "cell_type": "code",
   "execution_count": null,
   "id": "4a32c15d-6f78-4d7e-afa7-20b5286403dd",
   "metadata": {},
   "outputs": [
    {
     "name": "stdout",
     "output_type": "stream",
     "text": [
      "\n",
      "          ┌─┐  ┌─┐            \n",
      "q_0:  |0>─┤X├ ─┤M├────── ──── \n",
      "          ├─┤  └╥┘┌─┐     ┌─┐ \n",
      "q_1:  |0>─┤H├ ──╫─┤M├─── ─┤M├ \n",
      "          ├─┤   ║ └╥┘┌─┐  └╥┘ \n",
      "q_2:  |0>─┤X├ ──╫──╫─┤M├ ──╫─ \n",
      "          └─┘   ║  ║ └╥┘   ║  \n",
      " c :   / ═══════╩══╩══╩════╩═\n",
      "                 0  1  2    1\n",
      "\n",
      "\n"
     ]
    }
   ],
   "source": [
    "from pyqpanda import *\n",
    "\n",
    "if __name__ == \"__main__\":\n",
    "\n",
    "    qvm = CPUQVM()\n",
    "    qvm.init_qvm()\n",
    "    qubits = qvm.qAlloc_many(3)\n",
    "    cbits = qvm.cAlloc_many(3)\n",
    "    cbits[0].set_val(0)\n",
    "    cbits[1].set_val(1)\n",
    "\n",
    "    prog = QProg()\n",
    "    prog_while = QProg()\n",
    "\n",
    "    # 构建QWhile的循环分支\n",
    "    (\n",
    "        prog_while\n",
    "        << X(qubits[0])\n",
    "        << H(qubits[1])\n",
    "        << X(qubits[2])\n",
    "        << assign(cbits[0], cbits[0] + 1)\n",
    "        << Measure(qubits[1], cbits[1])\n",
    "    )\n",
    "\n",
    "    # 构建QWhile\n",
    "    qwhile = QWhileProg(cbits[1], prog_while)\n",
    "\n",
    "    # QWhile插入到量子程序中\n",
    "    prog << qwhile << measure_all(qubits, cbits)\n",
    "    print(prog)\n",
    "\n",
    "    # 运行，并打印测量结果\n",
    "    # result = qvm.directly_run(prog)\n",
    "    result = qvm.run_with_configuration(prog, cbits, 1000)\n",
    "    print(result)\n",
    "    print(cbits[0].get_val())"
   ]
  },
  {
   "cell_type": "code",
   "execution_count": null,
   "id": "03b62a09-456d-4116-8135-625238c29227",
   "metadata": {},
   "outputs": [],
   "source": []
  },
  {
   "cell_type": "code",
   "execution_count": null,
   "id": "a05c8b40-d0cc-45c4-8924-32660f4be440",
   "metadata": {},
   "outputs": [],
   "source": []
  },
  {
   "cell_type": "code",
   "execution_count": null,
   "id": "f4451d57-858f-470c-a1b2-d1eae1b33475",
   "metadata": {},
   "outputs": [],
   "source": []
  },
  {
   "cell_type": "code",
   "execution_count": null,
   "id": "c0fee74a-6588-44d6-b178-7477b843d8b0",
   "metadata": {},
   "outputs": [],
   "source": []
  },
  {
   "cell_type": "code",
   "execution_count": null,
   "id": "277573fc-2130-4135-ab44-daba3d907fd0",
   "metadata": {},
   "outputs": [],
   "source": []
  },
  {
   "cell_type": "code",
   "execution_count": null,
   "id": "cd8f3df7-6548-483e-85f5-f30e0edb9058",
   "metadata": {},
   "outputs": [],
   "source": []
  },
  {
   "cell_type": "code",
   "execution_count": null,
   "id": "e3b625e6-5cef-488e-aa44-70e7bb79098b",
   "metadata": {},
   "outputs": [],
   "source": []
  },
  {
   "cell_type": "code",
   "execution_count": null,
   "id": "298fcf6e-4975-4ea3-ad3a-54834e1c7441",
   "metadata": {},
   "outputs": [],
   "source": []
  },
  {
   "cell_type": "code",
   "execution_count": null,
   "id": "dcb594ca-c408-4497-93d1-75b7e9f30183",
   "metadata": {},
   "outputs": [],
   "source": []
  },
  {
   "cell_type": "code",
   "execution_count": null,
   "id": "49670e0f-4fc3-4db2-8cc9-04600d90d229",
   "metadata": {},
   "outputs": [],
   "source": []
  },
  {
   "cell_type": "code",
   "execution_count": null,
   "id": "4fce5e5d-878e-46fc-99ed-48c13a6f71bd",
   "metadata": {},
   "outputs": [],
   "source": []
  },
  {
   "cell_type": "code",
   "execution_count": null,
   "id": "0b7c3e0b-6c53-4bee-ae56-8e744e05e992",
   "metadata": {},
   "outputs": [],
   "source": []
  },
  {
   "cell_type": "code",
   "execution_count": null,
   "id": "36c26da5-24d7-4166-be34-6b34c791253d",
   "metadata": {},
   "outputs": [],
   "source": []
  },
  {
   "cell_type": "code",
   "execution_count": null,
   "id": "7e5fa38e-b7b3-4b27-8682-bca17755a199",
   "metadata": {},
   "outputs": [],
   "source": []
  },
  {
   "cell_type": "code",
   "execution_count": null,
   "id": "1281b229-a599-405a-9ad3-d90e70e516ed",
   "metadata": {},
   "outputs": [],
   "source": []
  },
  {
   "cell_type": "code",
   "execution_count": null,
   "id": "e1f42289-63fa-4b4a-bbad-5f95c72af7ea",
   "metadata": {},
   "outputs": [],
   "source": []
  },
  {
   "cell_type": "code",
   "execution_count": null,
   "id": "308bb4d3-fbd0-4acb-944f-74d9d86a86c6",
   "metadata": {},
   "outputs": [],
   "source": []
  },
  {
   "cell_type": "code",
   "execution_count": null,
   "id": "df9e90b2-bf28-421b-a619-f50b5d932b10",
   "metadata": {},
   "outputs": [],
   "source": []
  },
  {
   "cell_type": "code",
   "execution_count": null,
   "id": "35ed9271-39c8-4e84-8f27-611ca86ffa01",
   "metadata": {},
   "outputs": [],
   "source": []
  }
 ],
 "metadata": {
  "kernelspec": {
   "display_name": "Python 3 (ipykernel)",
   "language": "python",
   "name": "python3"
  },
  "language_info": {
   "codemirror_mode": {
    "name": "ipython",
    "version": 3
   },
   "file_extension": ".py",
   "mimetype": "text/x-python",
   "name": "python",
   "nbconvert_exporter": "python",
   "pygments_lexer": "ipython3",
   "version": "3.11.9"
  }
 },
 "nbformat": 4,
 "nbformat_minor": 5
}
