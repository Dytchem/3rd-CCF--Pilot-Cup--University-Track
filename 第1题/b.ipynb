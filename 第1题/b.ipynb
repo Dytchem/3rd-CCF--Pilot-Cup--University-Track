{
 "cells": [
  {
   "cell_type": "code",
   "execution_count": 2,
   "id": "95c85725-c519-405e-8583-d58a5709cd1a",
   "metadata": {},
   "outputs": [],
   "source": [
    "import matplotlib.pyplot as plt\n",
    "import numpy as np\n",
    "from pyqpanda import *\n",
    "from scipy.stats import unitary_group\n",
    "\n",
    "%matplotlib inline\n",
    "\n",
    "\n",
    "def draw(prog):\n",
    "    draw_qprog(prog, \"pic\", filename=\"a.png\")\n",
    "    plt.imshow(plt.imread(\"a.png\"))\n",
    "    plt.axis(\"off\")\n",
    "    plt.show()"
   ]
  },
  {
   "cell_type": "code",
   "execution_count": 63,
   "id": "fdd0fb8c-0864-4a3b-a71d-7eba94f0e306",
   "metadata": {},
   "outputs": [],
   "source": [
    "def geth(a, b, c, M, N, m, n, alpha, beta):\n",
    "    h = [0] * (M + N + 1)\n",
    "    for i in range(1, M + 1):\n",
    "        for j in range(1, N + 1):\n",
    "            h[j + M] += -2 * a * A * alpha[i, j] - 2 * b * B * beta[i, j]\n",
    "            for k in range(1, M + 1):\n",
    "                for l in range(1, N + 1):\n",
    "                    h[max(j, l) + M] += (\n",
    "                        a * alpha[i, j] * alpha[k, l] + b * beta[i, j] * beta[k, l]\n",
    "                    )\n",
    "    for i in range(1, M + 1):\n",
    "        h[i] += -2 * c * m\n",
    "        for k in range(1, M + 1):\n",
    "            h[max(i, k)] += c\n",
    "    for j in range(N + 1):\n",
    "        h[j + M] += -2 * c * n\n",
    "        for l in range(1, N + 1):\n",
    "            h[max(j, l) + M] += c\n",
    "    return h"
   ]
  },
  {
   "cell_type": "code",
   "execution_count": 75,
   "id": "2783450b-9d2b-4888-a131-4acd8c199fb0",
   "metadata": {},
   "outputs": [],
   "source": [
    "a = 1\n",
    "b = 1\n",
    "c = 100\n",
    "M = 5\n",
    "N = 5\n",
    "m = 3\n",
    "n = 2\n",
    "A = 3\n",
    "B = 3\n",
    "alpha = abs(np.random.randn(M + 1, N + 1))\n",
    "beta = abs(np.random.randn(M + 1, N + 1));"
   ]
  },
  {
   "cell_type": "code",
   "execution_count": 76,
   "id": "00a63948-a30f-4e75-959e-21467e7658b2",
   "metadata": {},
   "outputs": [],
   "source": [
    "h = geth(a, b, c, M, N, m, n, alpha, beta)"
   ]
  },
  {
   "cell_type": "code",
   "execution_count": 77,
   "id": "71d923a8-d127-4aa6-84fe-2add3c29857f",
   "metadata": {},
   "outputs": [
    {
     "data": {
      "text/plain": [
       "[0,\n",
       " -500,\n",
       " -300,\n",
       " -100,\n",
       " 100,\n",
       " -100,\n",
       " -216.46174753270878,\n",
       " 41.96669785143223,\n",
       " 280.15442746186375,\n",
       " 549.8579040774521,\n",
       " 748.4429839349884]"
      ]
     },
     "execution_count": 77,
     "metadata": {},
     "output_type": "execute_result"
    }
   ],
   "source": [
    "h"
   ]
  },
  {
   "cell_type": "code",
   "execution_count": 87,
   "id": "97c8dcba-1438-443d-bcf1-a2e802975ad3",
   "metadata": {},
   "outputs": [],
   "source": [
    "U = np.eye(2 ** (M + N), dtype=\"complex128\")"
   ]
  },
  {
   "cell_type": "code",
   "execution_count": 88,
   "id": "f3564652-0802-4aec-9f38-f5a4910d5da2",
   "metadata": {},
   "outputs": [],
   "source": [
    "gamma = 1\n",
    "for t in range(1, M + N):\n",
    "    U[2**t - 1, 2**t - 1] = np.exp(-1j * gamma * h[t])"
   ]
  },
  {
   "cell_type": "code",
   "execution_count": 89,
   "id": "e981e689-d7d9-4ace-837b-bc5a2d854b50",
   "metadata": {},
   "outputs": [
    {
     "data": {
      "text/plain": [
       "array([[1.+0.j, 0.+0.j, 0.+0.j, ..., 0.+0.j, 0.+0.j, 0.+0.j],\n",
       "       [0.+0.j, 1.+0.j, 0.+0.j, ..., 0.+0.j, 0.+0.j, 0.+0.j],\n",
       "       [0.+0.j, 0.+0.j, 1.+0.j, ..., 0.+0.j, 0.+0.j, 0.+0.j],\n",
       "       ...,\n",
       "       [0.+0.j, 0.+0.j, 0.+0.j, ..., 1.+0.j, 0.+0.j, 0.+0.j],\n",
       "       [0.+0.j, 0.+0.j, 0.+0.j, ..., 0.+0.j, 1.+0.j, 0.+0.j],\n",
       "       [0.+0.j, 0.+0.j, 0.+0.j, ..., 0.+0.j, 0.+0.j, 1.+0.j]])"
      ]
     },
     "execution_count": 89,
     "metadata": {},
     "output_type": "execute_result"
    }
   ],
   "source": [
    "U @ np.conj(U).T"
   ]
  },
  {
   "cell_type": "code",
   "execution_count": 21,
   "id": "de92c7d0-f778-43ca-8679-183beb0cf580",
   "metadata": {},
   "outputs": [
    {
     "data": {
      "image/png": "[encoded data removed]",
      "text/plain": [
       "<Figure size 640x480 with 1 Axes>"
      ]
     },
     "metadata": {},
     "output_type": "display_data"
    }
   ],
   "source": [
    "machine = CPUQVM()\n",
    "machine.init_qvm()\n",
    "\n",
    "q = machine.qAlloc_many(2)\n",
    "\n",
    "U = np.diag([np.exp(-1j), np.exp(1j), np.exp(1j), np.exp(-1j)])\n",
    "\n",
    "prog = QProg()\n",
    "prog << matrix_decompose(q, U)\n",
    "#prog<< RZ(q[0],1)<<BARRIER(q[1])<<RZ(q[1],1)\n",
    "\n",
    "convert_single_gates = [\"U3\"]\n",
    "convert_double_gates = [\"CNOT\"]\n",
    "\n",
    "# Perform quantum gate conversion\n",
    "new_qprog = transform_to_base_qgate(\n",
    "    prog, machine, convert_single_gates, convert_double_gates\n",
    ")\n",
    "\n",
    "# Print the new quantum program\n",
    "draw(new_qprog)"
   ]
  },
  {
   "cell_type": "code",
   "execution_count": 103,
   "id": "db20fb2e-c355-44f6-beab-f1831c2872bf",
   "metadata": {},
   "outputs": [
    {
     "data": {
      "text/plain": [
       "2053"
      ]
     },
     "execution_count": 103,
     "metadata": {},
     "output_type": "execute_result"
    }
   ],
   "source": [
    "new_qprog.get_qgate_num()"
   ]
  },
  {
   "cell_type": "code",
   "execution_count": 99,
   "id": "7d7b7e90-4202-4d22-ad0f-61527094bc1d",
   "metadata": {},
   "outputs": [
    {
     "ename": "TypeError",
     "evalue": "'module' object is not callable",
     "output_type": "error",
     "traceback": [
      "\u001b[1;31m---------------------------------------------------------------------------\u001b[0m",
      "\u001b[1;31mTypeError\u001b[0m                                 Traceback (most recent call last)",
      "Cell \u001b[1;32mIn[99], line 1\u001b[0m\n\u001b[1;32m----> 1\u001b[0m draw_probability_map(new_qprog)\n",
      "\u001b[1;31mTypeError\u001b[0m: 'module' object is not callable"
     ]
    }
   ],
   "source": [
    "draw_probability_map(new_qprog)"
   ]
  },
  {
   "cell_type": "code",
   "execution_count": null,
   "id": "5cecf1c5-9ef7-4a9d-9a3f-8599b64ea58d",
   "metadata": {},
   "outputs": [],
   "source": [
    "print(new_qprog)"
   ]
  },
  {
   "cell_type": "code",
   "execution_count": null,
   "id": "fb639aaa-2d04-4bac-8a78-c9cbb0a583fa",
   "metadata": {},
   "outputs": [],
   "source": []
  },
  {
   "cell_type": "code",
   "execution_count": null,
   "id": "4b2dd4ea-630d-47f2-b616-764c76d832d1",
   "metadata": {},
   "outputs": [],
   "source": []
  },
  {
   "cell_type": "code",
   "execution_count": null,
   "id": "991ad847-a915-4e16-9f17-fc83bcfa6b3d",
   "metadata": {},
   "outputs": [],
   "source": []
  },
  {
   "cell_type": "code",
   "execution_count": null,
   "id": "6e06185b-7e21-4e64-9f92-467284771316",
   "metadata": {},
   "outputs": [],
   "source": []
  },
  {
   "cell_type": "code",
   "execution_count": 21,
   "id": "7eb4e956-2e11-4427-83c9-b9251a51d7f3",
   "metadata": {},
   "outputs": [
    {
     "name": "stdout",
     "output_type": "stream",
     "text": [
      "[(1+0j), 0j, 0j, 0j, 0j, (1+0j), 0j, 0j, 0j, 0j, (1.0000000000000002+1.6653345369377348e-16j), 0j, 0j, 0j, 0j, (-0.41614683654714235+0.9092974268256817j)]\n"
     ]
    },
    {
     "data": {
      "image/png": "[encoded data removed]",
      "text/plain": [
       "<Figure size 640x480 with 1 Axes>"
      ]
     },
     "metadata": {},
     "output_type": "display_data"
    }
   ],
   "source": [
    "machine = CPUQVM()\n",
    "machine.init_qvm()\n",
    "\n",
    "q = machine.qAlloc_many(3)\n",
    "c = machine.cAlloc_many(3)\n",
    "\n",
    "M = np.diag([1, 1, 1, 1, 1, 1, 1, np.exp(1j)])\n",
    "\n",
    "prog = QProg()\n",
    "prog << CR(q[0], q[1], 2)  # matrix_decompose(q, M)\n",
    "\n",
    "convert_single_gates = [\"U3\"]\n",
    "convert_double_gates = [\"CNOT\"]\n",
    "\n",
    "# Perform quantum gate conversion\n",
    "new_qprog = transform_to_base_qgate(\n",
    "    prog, machine, convert_single_gates, convert_double_gates\n",
    ")\n",
    "\n",
    "print(get_unitary(new_qprog))\n",
    "\n",
    "# Print the new quantum program\n",
    "draw(new_qprog)"
   ]
  },
  {
   "cell_type": "code",
   "execution_count": 6,
   "id": "54362763-6f0e-4d33-8a5d-975364af3e9c",
   "metadata": {},
   "outputs": [
    {
     "name": "stdout",
     "output_type": "stream",
     "text": [
      "[(1+0j), 0j, 0j, 0j, 0j, (0.5403023058681398+0.8414709848078965j), 0j, 0j, 0j, 0j, (0.5403023058681398-0.8414709848078965j), 0j, 0j, 0j, 0j, (1+0j)]\n"
     ]
    },
    {
     "data": {
      "image/png": "[encoded data removed]",
      "text/plain": [
       "<Figure size 640x480 with 1 Axes>"
      ]
     },
     "metadata": {},
     "output_type": "display_data"
    }
   ],
   "source": [
    "machine = CPUQVM()\n",
    "machine.init_qvm()\n",
    "\n",
    "q = machine.qAlloc_many(2)\n",
    "c = machine.cAlloc_many(2)\n",
    "\n",
    "M = np.diag([1, np.exp(-1j)])\n",
    "\n",
    "prog = QProg()\n",
    "prog << P(q[0], 1) << BARRIER(q[1]) << P(q[1], -1) << BARRIER(q[0])\n",
    "\n",
    "convert_single_gates = [\"U3\", \"BARRIER\"]\n",
    "convert_double_gates = [\"CNOT\"]\n",
    "\n",
    "# Perform quantum gate conversion\n",
    "# new_qprog = transform_to_base_qgate(\n",
    "#     prog, machine, convert_single_gates, convert_double_gates\n",
    "# )\n",
    "print(get_unitary(prog))\n",
    "\n",
    "# Print the new quantum program\n",
    "draw(prog)"
   ]
  },
  {
   "cell_type": "code",
   "execution_count": 47,
   "id": "c81a6c4d-09ac-4549-88da-66359d504229",
   "metadata": {},
   "outputs": [
    {
     "name": "stdout",
     "output_type": "stream",
     "text": [
      "[[1.+0.00000000e+00j 0.+0.00000000e+00j]\n",
      " [0.+0.00000000e+00j 1.-2.34195863e-17j]]\n"
     ]
    }
   ],
   "source": [
    "print(M @ np.conj(M).T)"
   ]
  },
  {
   "cell_type": "code",
   "execution_count": 48,
   "id": "01b0c833-bda7-46fd-84ff-ebdf7f74ccab",
   "metadata": {},
   "outputs": [
    {
     "ename": "NameError",
     "evalue": "name 'unitary_matrix' is not defined",
     "output_type": "error",
     "traceback": [
      "\u001b[1;31m---------------------------------------------------------------------------\u001b[0m",
      "\u001b[1;31mNameError\u001b[0m                                 Traceback (most recent call last)",
      "Cell \u001b[1;32mIn[48], line 1\u001b[0m\n\u001b[1;32m----> 1\u001b[0m \u001b[38;5;28mprint\u001b[39m(unitary_matrix \u001b[38;5;241m@\u001b[39m np\u001b[38;5;241m.\u001b[39mconj(unitary_matrix)\u001b[38;5;241m.\u001b[39mT)\n",
      "\u001b[1;31mNameError\u001b[0m: name 'unitary_matrix' is not defined"
     ]
    }
   ],
   "source": [
    "print(unitary_matrix @ np.conj(unitary_matrix).T)"
   ]
  },
  {
   "cell_type": "code",
   "execution_count": 11,
   "id": "280bc2be-6ff3-44e7-ba6b-b3d51cef914a",
   "metadata": {},
   "outputs": [
    {
     "name": "stdout",
     "output_type": "stream",
     "text": [
      "[(0.9921976672293293+0.12467473338522755j), (-1.2836953722228372e-16-1.1102230246251565e-16j), (-6.938893903907228e-18+0j), 0j, 0j, 0j, 0j, 0j, (6.938893903907228e-17-2.7755575615628914e-17j), (0.9921976672293291+0.12467473338522778j), (-2.7755575615628914e-17-6.938893903907228e-18j), (-2.7755575615628914e-17-2.7755575615628914e-17j), 0j, 0j, 0j, 0j, (5.714703421963786e-17+1.4592033509726632e-17j), (-8.583549123368608e-19+3.3615902482139912e-18j), (0.9921976672293292+0.12467473338522801j), (-7.338035025164019e-17-1.3332153531295353e-16j), 0j, 0j, 0j, 0j, 0j, (5.378544397142386e-17+1.3733678597389772e-17j), (1.144377272415426e-16+5.746352090676148e-19j), (0.43117651679866564+0.9022675940990954j), 0j, 0j, 0j, 0j, 0j, 0j, 0j, 0j, (0.43117651679866625+0.902267594099095j), (-1.2584408179254544e-17-1.7509001051166135e-16j), 0j, 0j, 0j, 0j, 0j, 0j, (5.378544397142386e-17+1.3733678597389772e-17j), (0.4311765167986662+0.9022675940990952j), (6.866839298694886e-18-2.689272198571193e-17j), (2.689272198571193e-17+6.866839298694886e-18j), 0j, 0j, 0j, 0j, (2.7755575615628914e-17+5.551115123125783e-17j), -2.7755575615628914e-17j, (0.43117651679866587+0.9022675940990952j), (-2.7755575615628914e-17-1.1102230246251565e-16j), 0j, 0j, 0j, 0j, 2.7755575615628914e-17j, (5.551115123125783e-17+5.551115123125783e-17j), (2.7755575615628914e-17+0j), (0.43117651679866587+0.9022675940990954j)]\n"
     ]
    },
    {
     "data": {
      "image/png": "[encoded data removed]",
      "text/plain": [
       "<Figure size 640x480 with 1 Axes>"
      ]
     },
     "metadata": {},
     "output_type": "display_data"
    }
   ],
   "source": [
    "machine = CPUQVM()\n",
    "machine.init_qvm()\n",
    "\n",
    "q = machine.qAlloc_many(3)\n",
    "c = machine.cAlloc_many(3)\n",
    "\n",
    "M = np.diag([1, 1, 1, np.exp(1j), np.exp(1j), np.exp(1j), np.exp(1j), np.exp(1j)])\n",
    "\n",
    "prog = QProg()\n",
    "prog << matrix_decompose(q, M)\n",
    "\n",
    "convert_single_gates = [\"U3\"]\n",
    "convert_double_gates = [\"CNOT\"]\n",
    "\n",
    "# Perform quantum gate conversion\n",
    "new_qprog = transform_to_base_qgate(\n",
    "    prog, machine, convert_single_gates, convert_double_gates\n",
    ")\n",
    "\n",
    "print(get_unitary(new_qprog))\n",
    "\n",
    "# Print the new quantum program\n",
    "draw(new_qprog)"
   ]
  },
  {
   "cell_type": "code",
   "execution_count": null,
   "id": "3f0fb50f-be1d-4df3-9fa1-ad5f2dfc4cef",
   "metadata": {},
   "outputs": [],
   "source": []
  },
  {
   "cell_type": "code",
   "execution_count": null,
   "id": "b866ba5f-68af-480c-9963-d14a25012fa0",
   "metadata": {},
   "outputs": [],
   "source": []
  },
  {
   "cell_type": "code",
   "execution_count": null,
   "id": "ea003f04-610e-470b-83ec-07e26c808b55",
   "metadata": {},
   "outputs": [],
   "source": []
  },
  {
   "cell_type": "code",
   "execution_count": null,
   "id": "1a2268db-d35a-4fdd-ae74-e04b94dad09e",
   "metadata": {},
   "outputs": [],
   "source": []
  },
  {
   "cell_type": "code",
   "execution_count": null,
   "id": "b7bef737-11b5-42b6-a251-f5dae2301180",
   "metadata": {},
   "outputs": [],
   "source": []
  },
  {
   "cell_type": "code",
   "execution_count": null,
   "id": "781e93b5-5277-4e1a-8efc-aebd6c0e52aa",
   "metadata": {},
   "outputs": [],
   "source": []
  },
  {
   "cell_type": "code",
   "execution_count": null,
   "id": "f7badbde-dce5-42a8-882c-57acdfc1dd0e",
   "metadata": {},
   "outputs": [],
   "source": []
  },
  {
   "cell_type": "code",
   "execution_count": null,
   "id": "3cf722be-e750-4ef5-ae4b-2d2eddbf1abc",
   "metadata": {},
   "outputs": [],
   "source": []
  },
  {
   "cell_type": "code",
   "execution_count": null,
   "id": "d44d9de9-c30e-4c38-929d-273869723f0e",
   "metadata": {},
   "outputs": [],
   "source": []
  },
  {
   "cell_type": "code",
   "execution_count": null,
   "id": "f47dcdfc-a70b-456c-aa62-bd6180b34127",
   "metadata": {},
   "outputs": [],
   "source": []
  },
  {
   "cell_type": "code",
   "execution_count": null,
   "id": "a8f36874-7954-4d17-a6da-745c3f15b564",
   "metadata": {},
   "outputs": [],
   "source": []
  },
  {
   "cell_type": "code",
   "execution_count": null,
   "id": "4930754c-98a2-4128-a2bf-eae9a8b07ced",
   "metadata": {},
   "outputs": [],
   "source": []
  },
  {
   "cell_type": "code",
   "execution_count": null,
   "id": "55adeea5-906e-4f89-89fb-b88893ceb56e",
   "metadata": {},
   "outputs": [],
   "source": []
  },
  {
   "cell_type": "code",
   "execution_count": null,
   "id": "24fc696e-5a68-453c-8fb9-fbb9636d8bf5",
   "metadata": {},
   "outputs": [],
   "source": []
  },
  {
   "cell_type": "code",
   "execution_count": null,
   "id": "889d6a5b-0a05-4425-bc89-490b7798c993",
   "metadata": {},
   "outputs": [],
   "source": []
  }
 ],
 "metadata": {
  "kernelspec": {
   "display_name": "Python 3 (ipykernel)",
   "language": "python",
   "name": "python3"
  },
  "language_info": {
   "codemirror_mode": {
    "name": "ipython",
    "version": 3
   },
   "file_extension": ".py",
   "mimetype": "text/x-python",
   "name": "python",
   "nbconvert_exporter": "python",
   "pygments_lexer": "ipython3",
   "version": "3.11.9"
  }
 },
 "nbformat": 4,
 "nbformat_minor": 5
}
